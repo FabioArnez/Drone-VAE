{
 "cells": [
  {
   "cell_type": "markdown",
   "metadata": {},
   "source": [
    "# Variational Autoencoder -  Aerial Images Simulation"
   ]
  },
  {
   "cell_type": "markdown",
   "metadata": {
    "heading_collapsed": true
   },
   "source": [
    "## General Imports"
   ]
  },
  {
   "cell_type": "code",
   "execution_count": 1,
   "metadata": {
    "ExecuteTime": {
     "end_time": "2020-09-25T13:29:15.955834Z",
     "start_time": "2020-09-25T13:29:15.577113Z"
    },
    "hidden": true
   },
   "outputs": [],
   "source": [
    "import torch\n",
    "import torch.utils.data\n",
    "from torch import nn, optim\n",
    "from torch.nn import functional as F\n",
    "from torchvision import datasets, transforms\n",
    "from torchvision.utils import save_image\n",
    "import numpy as np\n",
    "from torchvision.utils import save_image"
   ]
  },
  {
   "cell_type": "code",
   "execution_count": 2,
   "metadata": {
    "ExecuteTime": {
     "end_time": "2020-09-25T13:29:16.017545Z",
     "start_time": "2020-09-25T13:29:15.957614Z"
    },
    "hidden": true
   },
   "outputs": [
    {
     "name": "stdout",
     "output_type": "stream",
     "text": [
      "cuda\n"
     ]
    }
   ],
   "source": [
    "device = torch.device('cuda' if torch.cuda.is_available() else 'cpu')\n",
    "print(device)"
   ]
  },
  {
   "cell_type": "markdown",
   "metadata": {
    "heading_collapsed": true
   },
   "source": [
    "## Helper Functions"
   ]
  },
  {
   "cell_type": "code",
   "execution_count": 3,
   "metadata": {
    "ExecuteTime": {
     "end_time": "2020-09-25T13:29:16.027263Z",
     "start_time": "2020-09-25T13:29:16.020666Z"
    },
    "hidden": true
   },
   "outputs": [],
   "source": [
    "def conv2d_output_dimensions(width_in, height_in, input_channels, kernel_size, kernel_filters, padding=0, stride=1):\n",
    "    width_out = ((width_in - kernel_size + (2 * padding)) / stride) + 1\n",
    "    height_out = ((height_in - kernel_size + (2 * padding)) / stride) + 1\n",
    "    output_channels = kernel_filters\n",
    "    \n",
    "    return width_out, height_out, output_channels"
   ]
  },
  {
   "cell_type": "code",
   "execution_count": 4,
   "metadata": {
    "ExecuteTime": {
     "end_time": "2020-09-25T13:29:16.036389Z",
     "start_time": "2020-09-25T13:29:16.028718Z"
    },
    "hidden": true
   },
   "outputs": [],
   "source": [
    "def maxpool_output_dimensions(width_in, height_in, input_channels, kernel_size, kernel_filters, padding=0, stride=1, dilation=1):\n",
    "    width_out = ((width_in - (dilation * kernel_size) + (2 * padding)) / stride) + 1\n",
    "    height_out = ((height_in - (dilation * kernel_size) + (2 * padding)) / stride) + 1\n",
    "    output_channels = input_channels\n",
    "    \n",
    "    return width_out, height_out, output_channels"
   ]
  },
  {
   "cell_type": "code",
   "execution_count": 5,
   "metadata": {
    "ExecuteTime": {
     "end_time": "2020-09-25T13:29:16.043437Z",
     "start_time": "2020-09-25T13:29:16.037789Z"
    },
    "hidden": true
   },
   "outputs": [],
   "source": [
    "def convTranspose2d_dim(width_in, height_in, input_channels, kernel_size, kernel_filters, padding=0, stride=1):\n",
    "    output_channels = kernel_filters\n",
    "    width_out = stride * (width_in - 1) + kernel_size - (2 * padding)\n",
    "    height_out = stride * (height_in - 1) + kernel_size - (2 * padding)\n",
    "    \n",
    "    return width_out, height_out, output_channels"
   ]
  },
  {
   "cell_type": "code",
   "execution_count": 6,
   "metadata": {
    "ExecuteTime": {
     "end_time": "2020-09-25T13:29:16.050065Z",
     "start_time": "2020-09-25T13:29:16.045360Z"
    },
    "hidden": true
   },
   "outputs": [],
   "source": [
    "def conv2d_output_dimensions_pytorch(width_in, height_in, input_channels, kernel_size, kernel_filters, padding=0, stride=1, dilation=1):\n",
    "    width_out = ((width_in - (dilation * (kernel_size - 1)) + (2 * padding) - 1) / stride) + 1\n",
    "    height_out = ((height_in - (dilation * (kernel_size - 1))  + (2 * padding) - 1) / stride) + 1\n",
    "    output_channels = kernel_filters\n",
    "    \n",
    "    return width_out, height_out, output_channels"
   ]
  },
  {
   "cell_type": "markdown",
   "metadata": {
    "hidden": true
   },
   "source": []
  },
  {
   "cell_type": "code",
   "execution_count": 7,
   "metadata": {
    "ExecuteTime": {
     "end_time": "2020-09-25T13:29:16.056367Z",
     "start_time": "2020-09-25T13:29:16.051794Z"
    },
    "hidden": true
   },
   "outputs": [],
   "source": [
    "def convTranspose2d_dim__pytorch(width_in, height_in, input_channels, kernel_size, kernel_filters, padding=0, stride=1, dilation=1, output_pad=0):\n",
    "    output_channels = kernel_filters\n",
    "    width_out = stride * (width_in - 1) + (dilation * (kernel_size - 1)) - (2 * padding) + output_pad + 1\n",
    "    height_out = stride * (height_in - 1) + (dilation * (kernel_size - 1)) - (2 * padding) + output_pad + 1\n",
    "    \n",
    "    return width_out, height_out, output_channels"
   ]
  },
  {
   "cell_type": "markdown",
   "metadata": {
    "heading_collapsed": true
   },
   "source": [
    "## Resnet dimension computation"
   ]
  },
  {
   "cell_type": "markdown",
   "metadata": {
    "heading_collapsed": true,
    "hidden": true
   },
   "source": [
    "### Test residual blocks"
   ]
  },
  {
   "cell_type": "markdown",
   "metadata": {
    "hidden": true
   },
   "source": [
    "Test Input and output dimensions for residual blocks"
   ]
  },
  {
   "cell_type": "code",
   "execution_count": 8,
   "metadata": {
    "ExecuteTime": {
     "end_time": "2020-09-25T13:29:16.067506Z",
     "start_time": "2020-09-25T13:29:16.057606Z"
    },
    "hidden": true
   },
   "outputs": [
    {
     "data": {
      "text/plain": [
       "(61.0, 61.0, 32)"
      ]
     },
     "execution_count": 8,
     "metadata": {},
     "output_type": "execute_result"
    }
   ],
   "source": [
    "conv2d_output_dimensions(121, 121, 3, 3, 32, stride=2, padding=1)"
   ]
  },
  {
   "cell_type": "code",
   "execution_count": 9,
   "metadata": {
    "ExecuteTime": {
     "end_time": "2020-09-25T13:29:16.076309Z",
     "start_time": "2020-09-25T13:29:16.068950Z"
    },
    "hidden": true
   },
   "outputs": [
    {
     "data": {
      "text/plain": [
       "(61.0, 61.0, 32)"
      ]
     },
     "execution_count": 9,
     "metadata": {},
     "output_type": "execute_result"
    }
   ],
   "source": [
    "conv2d_output_dimensions(61, 61, 3, 3, 32, stride=1, padding=1)"
   ]
  },
  {
   "cell_type": "code",
   "execution_count": 10,
   "metadata": {
    "ExecuteTime": {
     "end_time": "2020-09-25T13:29:16.083062Z",
     "start_time": "2020-09-25T13:29:16.077516Z"
    },
    "hidden": true
   },
   "outputs": [
    {
     "data": {
      "text/plain": [
       "(61.0, 61.0, 32)"
      ]
     },
     "execution_count": 10,
     "metadata": {},
     "output_type": "execute_result"
    }
   ],
   "source": [
    "conv2d_output_dimensions(121, 121, 3, 1, 32, stride=2, padding=0)"
   ]
  },
  {
   "cell_type": "markdown",
   "metadata": {
    "heading_collapsed": true,
    "hidden": true
   },
   "source": [
    "### Aerial Images 120x120 Encoder"
   ]
  },
  {
   "cell_type": "markdown",
   "metadata": {
    "heading_collapsed": true,
    "hidden": true
   },
   "source": [
    "#### Input"
   ]
  },
  {
   "cell_type": "code",
   "execution_count": 11,
   "metadata": {
    "ExecuteTime": {
     "end_time": "2020-09-25T13:29:16.090298Z",
     "start_time": "2020-09-25T13:29:16.084312Z"
    },
    "hidden": true
   },
   "outputs": [
    {
     "data": {
      "text/plain": [
       "(121.0, 121.0, 32)"
      ]
     },
     "execution_count": 11,
     "metadata": {},
     "output_type": "execute_result"
    }
   ],
   "source": [
    "conv2d_output_dimensions(121, 121, 3, 5, 32, stride=1, padding=2)"
   ]
  },
  {
   "cell_type": "markdown",
   "metadata": {
    "heading_collapsed": true,
    "hidden": true
   },
   "source": [
    "#### Residual Block 1"
   ]
  },
  {
   "cell_type": "code",
   "execution_count": 12,
   "metadata": {
    "ExecuteTime": {
     "end_time": "2020-09-25T13:29:16.097071Z",
     "start_time": "2020-09-25T13:29:16.091407Z"
    },
    "hidden": true
   },
   "outputs": [
    {
     "data": {
      "text/plain": [
       "(61.0, 61.0, 32)"
      ]
     },
     "execution_count": 12,
     "metadata": {},
     "output_type": "execute_result"
    }
   ],
   "source": [
    "conv2d_output_dimensions(121, 121, 3, 3, 32, stride=2, padding=1)"
   ]
  },
  {
   "cell_type": "code",
   "execution_count": 13,
   "metadata": {
    "ExecuteTime": {
     "end_time": "2020-09-25T13:29:16.103971Z",
     "start_time": "2020-09-25T13:29:16.098125Z"
    },
    "hidden": true
   },
   "outputs": [
    {
     "data": {
      "text/plain": [
       "(61.0, 61.0, 32)"
      ]
     },
     "execution_count": 13,
     "metadata": {},
     "output_type": "execute_result"
    }
   ],
   "source": [
    "conv2d_output_dimensions(61, 61, 32, 3, 32, stride=1, padding=1)"
   ]
  },
  {
   "cell_type": "code",
   "execution_count": 14,
   "metadata": {
    "ExecuteTime": {
     "end_time": "2020-09-25T13:29:16.111504Z",
     "start_time": "2020-09-25T13:29:16.105112Z"
    },
    "hidden": true
   },
   "outputs": [
    {
     "data": {
      "text/plain": [
       "(61.0, 61.0, 32)"
      ]
     },
     "execution_count": 14,
     "metadata": {},
     "output_type": "execute_result"
    }
   ],
   "source": [
    "conv2d_output_dimensions(121, 121, 3, 1, 32, padding=0, stride=2)"
   ]
  },
  {
   "cell_type": "markdown",
   "metadata": {
    "ExecuteTime": {
     "end_time": "2020-09-24T19:00:47.870188Z",
     "start_time": "2020-09-24T19:00:47.866781Z"
    },
    "heading_collapsed": true,
    "hidden": true
   },
   "source": [
    "#### Residual Block 2"
   ]
  },
  {
   "cell_type": "code",
   "execution_count": 15,
   "metadata": {
    "ExecuteTime": {
     "end_time": "2020-09-25T13:29:16.118458Z",
     "start_time": "2020-09-25T13:29:16.112433Z"
    },
    "hidden": true
   },
   "outputs": [
    {
     "data": {
      "text/plain": [
       "(31.0, 31.0, 64)"
      ]
     },
     "execution_count": 15,
     "metadata": {},
     "output_type": "execute_result"
    }
   ],
   "source": [
    "conv2d_output_dimensions(61, 61, 32, 3, 64, stride=2, padding=1)"
   ]
  },
  {
   "cell_type": "code",
   "execution_count": 16,
   "metadata": {
    "ExecuteTime": {
     "end_time": "2020-09-25T13:29:16.126074Z",
     "start_time": "2020-09-25T13:29:16.119556Z"
    },
    "hidden": true
   },
   "outputs": [
    {
     "data": {
      "text/plain": [
       "(31.0, 31.0, 64)"
      ]
     },
     "execution_count": 16,
     "metadata": {},
     "output_type": "execute_result"
    }
   ],
   "source": [
    "conv2d_output_dimensions(31, 31, 64, 3, 64, stride=1, padding=1)"
   ]
  },
  {
   "cell_type": "code",
   "execution_count": 17,
   "metadata": {
    "ExecuteTime": {
     "end_time": "2020-09-25T13:29:16.132517Z",
     "start_time": "2020-09-25T13:29:16.127545Z"
    },
    "hidden": true,
    "scrolled": true
   },
   "outputs": [
    {
     "data": {
      "text/plain": [
       "(31.0, 31.0, 64)"
      ]
     },
     "execution_count": 17,
     "metadata": {},
     "output_type": "execute_result"
    }
   ],
   "source": [
    "conv2d_output_dimensions(61, 61, 32, 1, 64, stride=2, padding=0)"
   ]
  },
  {
   "cell_type": "markdown",
   "metadata": {
    "heading_collapsed": true,
    "hidden": true
   },
   "source": [
    "#### Residual Block 3"
   ]
  },
  {
   "cell_type": "code",
   "execution_count": 18,
   "metadata": {
    "ExecuteTime": {
     "end_time": "2020-09-25T13:29:16.139991Z",
     "start_time": "2020-09-25T13:29:16.134108Z"
    },
    "hidden": true
   },
   "outputs": [
    {
     "data": {
      "text/plain": [
       "(16.0, 16.0, 128)"
      ]
     },
     "execution_count": 18,
     "metadata": {},
     "output_type": "execute_result"
    }
   ],
   "source": [
    "conv2d_output_dimensions(31, 31, 64, 3, 128, stride=2, padding=1)"
   ]
  },
  {
   "cell_type": "code",
   "execution_count": 19,
   "metadata": {
    "ExecuteTime": {
     "end_time": "2020-09-25T13:29:16.146532Z",
     "start_time": "2020-09-25T13:29:16.141444Z"
    },
    "hidden": true
   },
   "outputs": [
    {
     "data": {
      "text/plain": [
       "(16.0, 16.0, 128)"
      ]
     },
     "execution_count": 19,
     "metadata": {},
     "output_type": "execute_result"
    }
   ],
   "source": [
    "conv2d_output_dimensions(16, 16, 128, 3, 128, stride=1, padding=1)"
   ]
  },
  {
   "cell_type": "code",
   "execution_count": 20,
   "metadata": {
    "ExecuteTime": {
     "end_time": "2020-09-25T13:29:16.153334Z",
     "start_time": "2020-09-25T13:29:16.148070Z"
    },
    "hidden": true
   },
   "outputs": [
    {
     "data": {
      "text/plain": [
       "(16.0, 16.0, 128)"
      ]
     },
     "execution_count": 20,
     "metadata": {},
     "output_type": "execute_result"
    }
   ],
   "source": [
    "conv2d_output_dimensions(31, 31, 64, 1, 128, stride=2, padding=0)"
   ]
  },
  {
   "cell_type": "markdown",
   "metadata": {
    "heading_collapsed": true,
    "hidden": true
   },
   "source": [
    "### Aerial Images 120x120 Encoder Pytorch"
   ]
  },
  {
   "cell_type": "code",
   "execution_count": 21,
   "metadata": {
    "ExecuteTime": {
     "end_time": "2020-09-25T13:29:16.160471Z",
     "start_time": "2020-09-25T13:29:16.155675Z"
    },
    "hidden": true
   },
   "outputs": [
    {
     "data": {
      "text/plain": [
       "(120.0, 120.0, 32)"
      ]
     },
     "execution_count": 21,
     "metadata": {},
     "output_type": "execute_result"
    }
   ],
   "source": [
    "conv2d_output_dimensions_pytorch(121, 121, 3, 6, 32, stride=1, padding=2)"
   ]
  },
  {
   "cell_type": "code",
   "execution_count": 22,
   "metadata": {
    "ExecuteTime": {
     "end_time": "2020-09-25T13:29:16.167114Z",
     "start_time": "2020-09-25T13:29:16.161820Z"
    },
    "hidden": true,
    "scrolled": true
   },
   "outputs": [
    {
     "data": {
      "text/plain": [
       "(60.0, 60.0, 32)"
      ]
     },
     "execution_count": 22,
     "metadata": {},
     "output_type": "execute_result"
    }
   ],
   "source": [
    "conv2d_output_dimensions_pytorch(120, 120, 32, 4, 32, stride=2, padding=1)"
   ]
  },
  {
   "cell_type": "code",
   "execution_count": 23,
   "metadata": {
    "ExecuteTime": {
     "end_time": "2020-09-25T13:29:16.174285Z",
     "start_time": "2020-09-25T13:29:16.168166Z"
    },
    "hidden": true
   },
   "outputs": [
    {
     "data": {
      "text/plain": [
       "(60.0, 60.0, 32)"
      ]
     },
     "execution_count": 23,
     "metadata": {},
     "output_type": "execute_result"
    }
   ],
   "source": [
    "conv2d_output_dimensions_pytorch(61, 61, 32, 4, 32, stride=1, padding=1)"
   ]
  },
  {
   "cell_type": "code",
   "execution_count": 24,
   "metadata": {
    "ExecuteTime": {
     "end_time": "2020-09-25T13:29:16.180781Z",
     "start_time": "2020-09-25T13:29:16.175407Z"
    },
    "hidden": true,
    "scrolled": true
   },
   "outputs": [
    {
     "data": {
      "text/plain": [
       "(60.0, 60.0, 32)"
      ]
     },
     "execution_count": 24,
     "metadata": {},
     "output_type": "execute_result"
    }
   ],
   "source": [
    "conv2d_output_dimensions_pytorch(120, 120, 32, 2, 32, stride=2, padding=0)"
   ]
  },
  {
   "cell_type": "markdown",
   "metadata": {
    "heading_collapsed": true,
    "hidden": true
   },
   "source": [
    "### Aerial Images 120x120 Decoder Pytorch"
   ]
  },
  {
   "cell_type": "code",
   "execution_count": 25,
   "metadata": {
    "ExecuteTime": {
     "end_time": "2020-09-25T13:29:16.187729Z",
     "start_time": "2020-09-25T13:29:16.181724Z"
    },
    "hidden": true
   },
   "outputs": [
    {
     "data": {
      "text/plain": [
       "(16, 16, 128)"
      ]
     },
     "execution_count": 25,
     "metadata": {},
     "output_type": "execute_result"
    }
   ],
   "source": [
    "convTranspose2d_dim__pytorch(15, 15, 128, 4, 128, padding=1, stride=1)"
   ]
  },
  {
   "cell_type": "code",
   "execution_count": 26,
   "metadata": {
    "ExecuteTime": {
     "end_time": "2020-09-25T13:29:16.194379Z",
     "start_time": "2020-09-25T13:29:16.189304Z"
    },
    "hidden": true
   },
   "outputs": [
    {
     "data": {
      "text/plain": [
       "(30, 30, 64)"
      ]
     },
     "execution_count": 26,
     "metadata": {},
     "output_type": "execute_result"
    }
   ],
   "source": [
    "convTranspose2d_dim__pytorch(16, 16, 128, 4, 64, padding=2, stride=2)"
   ]
  },
  {
   "cell_type": "code",
   "execution_count": 27,
   "metadata": {
    "ExecuteTime": {
     "end_time": "2020-09-25T13:29:16.200914Z",
     "start_time": "2020-09-25T13:29:16.195525Z"
    },
    "hidden": true
   },
   "outputs": [
    {
     "data": {
      "text/plain": [
       "(31, 31, 64)"
      ]
     },
     "execution_count": 27,
     "metadata": {},
     "output_type": "execute_result"
    }
   ],
   "source": [
    "convTranspose2d_dim__pytorch(30, 30, 64, 4, 64, padding=1, stride=1)"
   ]
  },
  {
   "cell_type": "code",
   "execution_count": 28,
   "metadata": {
    "ExecuteTime": {
     "end_time": "2020-09-25T13:29:16.207896Z",
     "start_time": "2020-09-25T13:29:16.202148Z"
    },
    "hidden": true
   },
   "outputs": [
    {
     "data": {
      "text/plain": [
       "(60, 60, 32)"
      ]
     },
     "execution_count": 28,
     "metadata": {},
     "output_type": "execute_result"
    }
   ],
   "source": [
    "convTranspose2d_dim__pytorch(31, 31, 64, 4, 32, padding=2, stride=2)"
   ]
  },
  {
   "cell_type": "code",
   "execution_count": 29,
   "metadata": {
    "ExecuteTime": {
     "end_time": "2020-09-25T13:29:16.214532Z",
     "start_time": "2020-09-25T13:29:16.208991Z"
    },
    "hidden": true
   },
   "outputs": [
    {
     "data": {
      "text/plain": [
       "(61, 61, 32)"
      ]
     },
     "execution_count": 29,
     "metadata": {},
     "output_type": "execute_result"
    }
   ],
   "source": [
    "convTranspose2d_dim__pytorch(60, 60, 32, 4, 32, padding=1, stride=1)"
   ]
  },
  {
   "cell_type": "code",
   "execution_count": 30,
   "metadata": {
    "ExecuteTime": {
     "end_time": "2020-09-25T13:29:16.220918Z",
     "start_time": "2020-09-25T13:29:16.215586Z"
    },
    "hidden": true
   },
   "outputs": [
    {
     "data": {
      "text/plain": [
       "(120, 120, 32)"
      ]
     },
     "execution_count": 30,
     "metadata": {},
     "output_type": "execute_result"
    }
   ],
   "source": [
    "convTranspose2d_dim__pytorch(61, 61, 32, 4, 32, padding=2, stride=2)"
   ]
  },
  {
   "cell_type": "code",
   "execution_count": 31,
   "metadata": {
    "ExecuteTime": {
     "end_time": "2020-09-25T13:29:16.227388Z",
     "start_time": "2020-09-25T13:29:16.221826Z"
    },
    "hidden": true
   },
   "outputs": [
    {
     "data": {
      "text/plain": [
       "(121, 121, 3)"
      ]
     },
     "execution_count": 31,
     "metadata": {},
     "output_type": "execute_result"
    }
   ],
   "source": [
    "convTranspose2d_dim__pytorch(120, 120, 32, 4, 3, padding=1, stride=1)"
   ]
  },
  {
   "cell_type": "code",
   "execution_count": null,
   "metadata": {
    "hidden": true
   },
   "outputs": [],
   "source": []
  },
  {
   "cell_type": "markdown",
   "metadata": {
    "heading_collapsed": true,
    "hidden": true
   },
   "source": [
    "### Aerial Images 120x120 Decoder"
   ]
  },
  {
   "cell_type": "code",
   "execution_count": 32,
   "metadata": {
    "ExecuteTime": {
     "end_time": "2020-09-25T13:29:16.234552Z",
     "start_time": "2020-09-25T13:29:16.228359Z"
    },
    "hidden": true
   },
   "outputs": [
    {
     "data": {
      "text/plain": [
       "(17, 17, 128)"
      ]
     },
     "execution_count": 32,
     "metadata": {},
     "output_type": "execute_result"
    }
   ],
   "source": [
    "convTranspose2d_dim(16, 16, 128, 4, 128, padding=1, stride=1)"
   ]
  },
  {
   "cell_type": "code",
   "execution_count": 33,
   "metadata": {
    "ExecuteTime": {
     "end_time": "2020-09-25T13:29:16.240888Z",
     "start_time": "2020-09-25T13:29:16.235515Z"
    },
    "hidden": true,
    "scrolled": true
   },
   "outputs": [
    {
     "data": {
      "text/plain": [
       "(32, 32, 64)"
      ]
     },
     "execution_count": 33,
     "metadata": {},
     "output_type": "execute_result"
    }
   ],
   "source": [
    "convTranspose2d_dim(17, 17, 128, 4, 64, padding=2, stride=2)"
   ]
  },
  {
   "cell_type": "code",
   "execution_count": 34,
   "metadata": {
    "ExecuteTime": {
     "end_time": "2020-09-25T13:29:16.247747Z",
     "start_time": "2020-09-25T13:29:16.241880Z"
    },
    "hidden": true
   },
   "outputs": [
    {
     "data": {
      "text/plain": [
       "(32, 32, 64)"
      ]
     },
     "execution_count": 34,
     "metadata": {},
     "output_type": "execute_result"
    }
   ],
   "source": [
    "convTranspose2d_dim(32, 32, 64, 3, 64, padding=1, stride=1)"
   ]
  },
  {
   "cell_type": "code",
   "execution_count": 35,
   "metadata": {
    "ExecuteTime": {
     "end_time": "2020-09-25T13:29:16.254812Z",
     "start_time": "2020-09-25T13:29:16.249120Z"
    },
    "hidden": true
   },
   "outputs": [
    {
     "data": {
      "text/plain": [
       "(61, 61, 32)"
      ]
     },
     "execution_count": 35,
     "metadata": {},
     "output_type": "execute_result"
    }
   ],
   "source": [
    "convTranspose2d_dim(32, 32, 64, 3, 32, padding=2, stride=2)"
   ]
  },
  {
   "cell_type": "code",
   "execution_count": 36,
   "metadata": {
    "ExecuteTime": {
     "end_time": "2020-09-25T13:29:16.263637Z",
     "start_time": "2020-09-25T13:29:16.255825Z"
    },
    "hidden": true
   },
   "outputs": [
    {
     "data": {
      "text/plain": [
       "(61, 61, 32)"
      ]
     },
     "execution_count": 36,
     "metadata": {},
     "output_type": "execute_result"
    }
   ],
   "source": [
    "convTranspose2d_dim(61, 61, 32, 3, 32, padding=1, stride=1)"
   ]
  },
  {
   "cell_type": "code",
   "execution_count": 37,
   "metadata": {
    "ExecuteTime": {
     "end_time": "2020-09-25T13:29:16.270236Z",
     "start_time": "2020-09-25T13:29:16.264699Z"
    },
    "hidden": true
   },
   "outputs": [
    {
     "data": {
      "text/plain": [
       "(131, 131, 32)"
      ]
     },
     "execution_count": 37,
     "metadata": {},
     "output_type": "execute_result"
    }
   ],
   "source": [
    "convTranspose2d_dim(67, 67, 32, 3, 32, padding=2, stride=2)"
   ]
  },
  {
   "cell_type": "code",
   "execution_count": 38,
   "metadata": {
    "ExecuteTime": {
     "end_time": "2020-09-25T13:29:16.276991Z",
     "start_time": "2020-09-25T13:29:16.271164Z"
    },
    "hidden": true
   },
   "outputs": [
    {
     "data": {
      "text/plain": [
       "(120, 120, 3)"
      ]
     },
     "execution_count": 38,
     "metadata": {},
     "output_type": "execute_result"
    }
   ],
   "source": [
    "convTranspose2d_dim(119, 119, 32, 6, 3, padding=2, stride=1)"
   ]
  },
  {
   "cell_type": "markdown",
   "metadata": {
    "heading_collapsed": true
   },
   "source": [
    "## Project Configs"
   ]
  },
  {
   "cell_type": "code",
   "execution_count": 39,
   "metadata": {
    "ExecuteTime": {
     "end_time": "2020-09-25T13:29:16.282850Z",
     "start_time": "2020-09-25T13:29:16.277977Z"
    },
    "hidden": true
   },
   "outputs": [],
   "source": [
    "# number of subprocesses to use for data loading\n",
    "num_workers = 10\n",
    "# how many samples per batch to load\n",
    "batch_size = 32\n",
    "# Learning rate\n",
    "learning_rate = 1e-4\n",
    "# epochs\n",
    "epochs = 200\n",
    "\n",
    "log_interval = 100"
   ]
  },
  {
   "cell_type": "markdown",
   "metadata": {
    "heading_collapsed": true
   },
   "source": [
    "## Models"
   ]
  },
  {
   "cell_type": "markdown",
   "metadata": {
    "heading_collapsed": true,
    "hidden": true
   },
   "source": [
    "### My Dronet Pytorch Implementation"
   ]
  },
  {
   "cell_type": "code",
   "execution_count": 40,
   "metadata": {
    "ExecuteTime": {
     "end_time": "2020-09-25T13:29:16.295811Z",
     "start_time": "2020-09-25T13:29:16.284014Z"
    },
    "hidden": true
   },
   "outputs": [],
   "source": [
    "class Dronet(nn.Module):\n",
    "    def __init__(self, output_dim=64):\n",
    "        super(Dronet, self).__init__()\n",
    "        # super().__init__(img_dims, img_channels, output_dim)       \n",
    "        # Input layer\n",
    "        self.conv0 = nn.Conv2d(3, 32, kernel_size=6, stride=1, padding=2)\n",
    "        \n",
    "        # Residual Block Layer 1\n",
    "        self.bn1_1 = nn.BatchNorm2d(32)\n",
    "        self.conv1_1 = nn.Conv2d(32, 32, kernel_size=4, stride=2, padding=1)\n",
    "        \n",
    "        self.bn1_2 = nn.BatchNorm2d(32)\n",
    "        self.conv1_2 = nn.Conv2d(32, 32, kernel_size=4, stride=1, padding=1)\n",
    "        \n",
    "        self.conv1_res_down = nn.Conv2d(32, 32, kernel_size=2, stride=2, padding=0)\n",
    "        \n",
    "        # Residual Block Layer 2\n",
    "        self.bn2_1 = nn.BatchNorm2d(32)\n",
    "        self.conv2_1 = nn.Conv2d(32, 64, kernel_size=4, stride=2, padding=1)\n",
    "        \n",
    "        self.bn2_2 = nn.BatchNorm2d(64)\n",
    "        self.conv2_2 = nn.Conv2d(64, 64, kernel_size=4, stride=1, padding=1)\n",
    "        \n",
    "        self.conv2_res_down = nn.Conv2d(32, 64, kernel_size=2, stride=2, padding=0)\n",
    "        \n",
    "        # Residual Block Layer g3\n",
    "        self.bn3_1 = nn.BatchNorm2d(64)\n",
    "        self.conv3_1 = nn.Conv2d(64, 128, kernel_size=4, stride=2, padding=1)\n",
    "        \n",
    "        self.bn3_2 = nn.BatchNorm2d(128)\n",
    "        self.conv3_2 = nn.Conv2d(128, 128, kernel_size=4, stride=1, padding=1)\n",
    "        \n",
    "        self.conv3_res_down = nn.Conv2d(64, 128, kernel_size=2, stride=2, padding=0)\n",
    "        \n",
    "        # Flatten layer\n",
    "        # self.flatten = nn.Flatten(16 * 16 * 128)\n",
    "        \n",
    "        self.dropout1 = nn.Dropout(p=0.5)\n",
    "        \n",
    "        # Fully Connected Layers\n",
    "        self.fc1 = nn.Linear(15 * 15 * 128, 128)\n",
    "        self.fc2 = nn.Linear(128, output_dim)\n",
    "        # self.fc2 = nn.Linear(128, 64)\n",
    "        # self.fc3 = nn.Linear(64, output_dim)\n",
    "        \n",
    "    def forward(self, x):\n",
    "        # Input\n",
    "        x0 = self.conv0(x)\n",
    "        \n",
    "        ##########################\n",
    "        # Residual Block Layer 1 #\n",
    "        ##########################\n",
    "        x1 = self.bn1_1(x0)\n",
    "        x1 = F.relu(x1)\n",
    "        x1 = self.conv1_1(x1)\n",
    "        \n",
    "        # padding\n",
    "        x1 = F.pad(x1, (0,1,0,1), mode='replicate')\n",
    "        \n",
    "        x1 = self.bn1_2(x1)\n",
    "        x1 = F.relu(x1)\n",
    "        x1 = self.conv1_2(x1)\n",
    "#         print(\"conv2 shape:\")\n",
    "#         print(x1.shape)\n",
    "        \n",
    "        x2 = self.conv1_res_down(x0)\n",
    "#         print(\"conv_res shape:\")\n",
    "#         print(x2.shape)\n",
    "#         print(\"\")\n",
    "        \n",
    "        res1out = torch.add(x1, x2)\n",
    "        \n",
    "        ##########################\n",
    "        # Residual Block Layer 2 #\n",
    "        ##########################\n",
    "        x1 = self.bn2_1(res1out)\n",
    "        x1 = F.relu(x1)\n",
    "        x1 = self.conv2_1(x1)\n",
    "        \n",
    "        # padding\n",
    "        x1 = F.pad(x1, (0,1,0,1), mode='replicate')\n",
    "        \n",
    "        x1 = self.bn2_2(x1)\n",
    "        x1 = F.relu(x1)\n",
    "        x1 = self.conv2_2(x1)\n",
    "        \n",
    "        x2 = self.conv2_res_down(res1out)\n",
    "        \n",
    "        res2out = torch.add(x1, x2)\n",
    "        \n",
    "        ##########################\n",
    "        # Residual Block Layer 3 #\n",
    "        ##########################\n",
    "        x1 = self.bn3_1(res2out)\n",
    "        x1 = F.relu(x1)\n",
    "        x1 = self.conv3_1(x1)\n",
    "        \n",
    "        # padding\n",
    "        x1 = F.pad(x1, (0,1,0,1), mode='replicate')\n",
    "        \n",
    "        x1 = self.bn3_2(x1)\n",
    "        x1 = F.relu(x1)\n",
    "        x1 = self.conv3_2(x1)\n",
    "        \n",
    "        x2 = self.conv3_res_down(res2out)\n",
    "        \n",
    "        res3out = torch.add(x1, x2)\n",
    "        \n",
    "#         print(\"conv_res shape:\")\n",
    "#         print(res3out.shape)\n",
    "#         print(\"\")\n",
    "        \n",
    "        # Flatten\n",
    "        x = res3out.view(-1, 15 * 15 * 128)\n",
    "        x = self.fc1(x)\n",
    "        x = F.relu(x)\n",
    "        x = self.dropout1(x)\n",
    "        output = self.fc2(x)\n",
    "        \n",
    "                \n",
    "#         print(\"conv_res shape:\")\n",
    "#         print(output.shape)\n",
    "#         print(\"\")\n",
    "        # x = self.fc2(x)\n",
    "        # output = self.fc3(x)\n",
    "        \n",
    "        return output"
   ]
  },
  {
   "cell_type": "code",
   "execution_count": 41,
   "metadata": {
    "ExecuteTime": {
     "end_time": "2020-09-25T13:29:16.331302Z",
     "start_time": "2020-09-25T13:29:16.296882Z"
    },
    "hidden": true
   },
   "outputs": [
    {
     "data": {
      "text/plain": [
       "Dronet(\n",
       "  (conv0): Conv2d(3, 32, kernel_size=(6, 6), stride=(1, 1), padding=(2, 2))\n",
       "  (bn1_1): BatchNorm2d(32, eps=1e-05, momentum=0.1, affine=True, track_running_stats=True)\n",
       "  (conv1_1): Conv2d(32, 32, kernel_size=(4, 4), stride=(2, 2), padding=(1, 1))\n",
       "  (bn1_2): BatchNorm2d(32, eps=1e-05, momentum=0.1, affine=True, track_running_stats=True)\n",
       "  (conv1_2): Conv2d(32, 32, kernel_size=(4, 4), stride=(1, 1), padding=(1, 1))\n",
       "  (conv1_res_down): Conv2d(32, 32, kernel_size=(2, 2), stride=(2, 2))\n",
       "  (bn2_1): BatchNorm2d(32, eps=1e-05, momentum=0.1, affine=True, track_running_stats=True)\n",
       "  (conv2_1): Conv2d(32, 64, kernel_size=(4, 4), stride=(2, 2), padding=(1, 1))\n",
       "  (bn2_2): BatchNorm2d(64, eps=1e-05, momentum=0.1, affine=True, track_running_stats=True)\n",
       "  (conv2_2): Conv2d(64, 64, kernel_size=(4, 4), stride=(1, 1), padding=(1, 1))\n",
       "  (conv2_res_down): Conv2d(32, 64, kernel_size=(2, 2), stride=(2, 2))\n",
       "  (bn3_1): BatchNorm2d(64, eps=1e-05, momentum=0.1, affine=True, track_running_stats=True)\n",
       "  (conv3_1): Conv2d(64, 128, kernel_size=(4, 4), stride=(2, 2), padding=(1, 1))\n",
       "  (bn3_2): BatchNorm2d(128, eps=1e-05, momentum=0.1, affine=True, track_running_stats=True)\n",
       "  (conv3_2): Conv2d(128, 128, kernel_size=(4, 4), stride=(1, 1), padding=(1, 1))\n",
       "  (conv3_res_down): Conv2d(64, 128, kernel_size=(2, 2), stride=(2, 2))\n",
       "  (dropout1): Dropout(p=0.5, inplace=False)\n",
       "  (fc1): Linear(in_features=28800, out_features=128, bias=True)\n",
       "  (fc2): Linear(in_features=128, out_features=64, bias=True)\n",
       ")"
      ]
     },
     "execution_count": 41,
     "metadata": {},
     "output_type": "execute_result"
    }
   ],
   "source": [
    "model = Dronet()\n",
    "model"
   ]
  },
  {
   "cell_type": "markdown",
   "metadata": {
    "heading_collapsed": true,
    "hidden": true
   },
   "source": [
    "### Decoder"
   ]
  },
  {
   "cell_type": "code",
   "execution_count": 42,
   "metadata": {
    "ExecuteTime": {
     "end_time": "2020-09-25T13:29:16.337764Z",
     "start_time": "2020-09-25T13:29:16.332367Z"
    },
    "hidden": true
   },
   "outputs": [],
   "source": [
    "class ImageDecoder(nn.Module):\n",
    "    def __init__(self):\n",
    "        super().__init__()\n",
    "        # Decoder\n",
    "        self.convT1 = nn.ConvTranspose2d(128, 128, kernel_size=4, stride=1, padding=1)\n",
    "        self.convT2 = nn.ConvTranspose2d(128, 64, kernel_size=4, stride=2, padding=2)\n",
    "        \n",
    "        self.convT3 = nn.ConvTranspose2d(64, 64, kernel_size=4, stride=1, padding=1)\n",
    "        self.convT4 = nn.ConvTranspose2d(64, 32, kernel_size=4, stride=2, padding=2)\n",
    "        \n",
    "        self.convT5 = nn.ConvTranspose2d(32, 32, kernel_size=4, stride=1, padding=1)\n",
    "        self.convT6 = nn.ConvTranspose2d(32, 32, kernel_size=4, stride=2, padding=2)\n",
    "        \n",
    "        self.convT7 = nn.ConvTranspose2d(32, 3, kernel_size=4, stride=1, padding=1)\n",
    "    \n",
    "    def forward(self, x):\n",
    "        x = x.view(-1, 128, 15, 15)\n",
    "        x = self.convT1(x)\n",
    "        x = F.relu(x)\n",
    "        x = self.convT2(x)\n",
    "        x = F.relu(x)\n",
    "        x = self.convT3(x)\n",
    "        x = F.relu(x)\n",
    "        x = self.convT4(x)\n",
    "        x = F.relu(x)\n",
    "        x = self.convT5(x)\n",
    "        x = F.relu(x)\n",
    "        x = self.convT6(x)\n",
    "        x = F.relu(x)\n",
    "        x = self.convT7(x)\n",
    "        \n",
    "        return x"
   ]
  },
  {
   "cell_type": "code",
   "execution_count": 43,
   "metadata": {
    "ExecuteTime": {
     "end_time": "2020-09-25T13:29:16.349767Z",
     "start_time": "2020-09-25T13:29:16.338762Z"
    },
    "hidden": true
   },
   "outputs": [
    {
     "data": {
      "text/plain": [
       "ImageDecoder(\n",
       "  (convT1): ConvTranspose2d(128, 128, kernel_size=(4, 4), stride=(1, 1), padding=(1, 1))\n",
       "  (convT2): ConvTranspose2d(128, 64, kernel_size=(4, 4), stride=(2, 2), padding=(2, 2))\n",
       "  (convT3): ConvTranspose2d(64, 64, kernel_size=(4, 4), stride=(1, 1), padding=(1, 1))\n",
       "  (convT4): ConvTranspose2d(64, 32, kernel_size=(4, 4), stride=(2, 2), padding=(2, 2))\n",
       "  (convT5): ConvTranspose2d(32, 32, kernel_size=(4, 4), stride=(1, 1), padding=(1, 1))\n",
       "  (convT6): ConvTranspose2d(32, 32, kernel_size=(4, 4), stride=(2, 2), padding=(2, 2))\n",
       "  (convT7): ConvTranspose2d(32, 3, kernel_size=(4, 4), stride=(1, 1), padding=(1, 1))\n",
       ")"
      ]
     },
     "execution_count": 43,
     "metadata": {},
     "output_type": "execute_result"
    }
   ],
   "source": [
    "decoder = ImageDecoder()\n",
    "decoder"
   ]
  },
  {
   "cell_type": "markdown",
   "metadata": {
    "heading_collapsed": true,
    "hidden": true
   },
   "source": [
    "### VAE Aerial Images"
   ]
  },
  {
   "cell_type": "code",
   "execution_count": 44,
   "metadata": {
    "ExecuteTime": {
     "end_time": "2020-09-25T13:29:16.355783Z",
     "start_time": "2020-09-25T13:29:16.350953Z"
    },
    "hidden": true
   },
   "outputs": [],
   "source": [
    "class AerialImagesVAE(nn.Module):\n",
    "    def __init__(self):\n",
    "        super().__init__()\n",
    "        # Encoder\n",
    "        self.q_img = Dronet()\n",
    "\n",
    "        # Latent vectors mu and sigma\n",
    "        self.fc1 = nn.Linear(64,64)\n",
    "        self.fc2 = nn.Linear(64,64)\n",
    "\n",
    "        # Sampling vector\n",
    "        self.fc3 = nn.Linear(64, 64)\n",
    "        self.fc4 = nn.Linear(64, 15 * 15 * 128)\n",
    "        \n",
    "        # Decoder\n",
    "        self.p_img = ImageDecoder()\n",
    "        \n",
    "\n",
    "    def reparameterize(self, mu, logvar):\n",
    "        std = logvar.mul(0.5).exp_()\n",
    "        eps = std.data.new(std.size()).normal_()\n",
    "        return eps.mul(std).add_(mu)\n",
    "\n",
    "    def sampler(self, z):\n",
    "        sampling = self.fc3(z)\n",
    "        up_sampling = self.fc4(sampling)\n",
    "        return up_sampling\n",
    "\n",
    "    def forward(self, x):\n",
    "        x = self.q_img(x)\n",
    "        \n",
    "        mu = self.fc1(x)\n",
    "        logvar = self.fc2(x)\n",
    "        \n",
    "        z = self.reparameterize(mu, logvar)\n",
    "        \n",
    "#         sampling = self.fc3(z)\n",
    "        \n",
    "#         up_sampling = self.fc4(sampling)\n",
    "        up_sampling = self.sampler(z)\n",
    "        \n",
    "        img = self.p_img(up_sampling)\n",
    "        \n",
    "        return img, mu, logvar\n"
   ]
  },
  {
   "cell_type": "code",
   "execution_count": 45,
   "metadata": {
    "ExecuteTime": {
     "end_time": "2020-09-25T13:29:16.401171Z",
     "start_time": "2020-09-25T13:29:16.356820Z"
    },
    "hidden": true
   },
   "outputs": [
    {
     "data": {
      "text/plain": [
       "AerialImagesVAE(\n",
       "  (q_img): Dronet(\n",
       "    (conv0): Conv2d(3, 32, kernel_size=(6, 6), stride=(1, 1), padding=(2, 2))\n",
       "    (bn1_1): BatchNorm2d(32, eps=1e-05, momentum=0.1, affine=True, track_running_stats=True)\n",
       "    (conv1_1): Conv2d(32, 32, kernel_size=(4, 4), stride=(2, 2), padding=(1, 1))\n",
       "    (bn1_2): BatchNorm2d(32, eps=1e-05, momentum=0.1, affine=True, track_running_stats=True)\n",
       "    (conv1_2): Conv2d(32, 32, kernel_size=(4, 4), stride=(1, 1), padding=(1, 1))\n",
       "    (conv1_res_down): Conv2d(32, 32, kernel_size=(2, 2), stride=(2, 2))\n",
       "    (bn2_1): BatchNorm2d(32, eps=1e-05, momentum=0.1, affine=True, track_running_stats=True)\n",
       "    (conv2_1): Conv2d(32, 64, kernel_size=(4, 4), stride=(2, 2), padding=(1, 1))\n",
       "    (bn2_2): BatchNorm2d(64, eps=1e-05, momentum=0.1, affine=True, track_running_stats=True)\n",
       "    (conv2_2): Conv2d(64, 64, kernel_size=(4, 4), stride=(1, 1), padding=(1, 1))\n",
       "    (conv2_res_down): Conv2d(32, 64, kernel_size=(2, 2), stride=(2, 2))\n",
       "    (bn3_1): BatchNorm2d(64, eps=1e-05, momentum=0.1, affine=True, track_running_stats=True)\n",
       "    (conv3_1): Conv2d(64, 128, kernel_size=(4, 4), stride=(2, 2), padding=(1, 1))\n",
       "    (bn3_2): BatchNorm2d(128, eps=1e-05, momentum=0.1, affine=True, track_running_stats=True)\n",
       "    (conv3_2): Conv2d(128, 128, kernel_size=(4, 4), stride=(1, 1), padding=(1, 1))\n",
       "    (conv3_res_down): Conv2d(64, 128, kernel_size=(2, 2), stride=(2, 2))\n",
       "    (dropout1): Dropout(p=0.5, inplace=False)\n",
       "    (fc1): Linear(in_features=28800, out_features=128, bias=True)\n",
       "    (fc2): Linear(in_features=128, out_features=64, bias=True)\n",
       "  )\n",
       "  (fc1): Linear(in_features=64, out_features=64, bias=True)\n",
       "  (fc2): Linear(in_features=64, out_features=64, bias=True)\n",
       "  (fc3): Linear(in_features=64, out_features=64, bias=True)\n",
       "  (fc4): Linear(in_features=64, out_features=28800, bias=True)\n",
       "  (p_img): ImageDecoder(\n",
       "    (convT1): ConvTranspose2d(128, 128, kernel_size=(4, 4), stride=(1, 1), padding=(1, 1))\n",
       "    (convT2): ConvTranspose2d(128, 64, kernel_size=(4, 4), stride=(2, 2), padding=(2, 2))\n",
       "    (convT3): ConvTranspose2d(64, 64, kernel_size=(4, 4), stride=(1, 1), padding=(1, 1))\n",
       "    (convT4): ConvTranspose2d(64, 32, kernel_size=(4, 4), stride=(2, 2), padding=(2, 2))\n",
       "    (convT5): ConvTranspose2d(32, 32, kernel_size=(4, 4), stride=(1, 1), padding=(1, 1))\n",
       "    (convT6): ConvTranspose2d(32, 32, kernel_size=(4, 4), stride=(2, 2), padding=(2, 2))\n",
       "    (convT7): ConvTranspose2d(32, 3, kernel_size=(4, 4), stride=(1, 1), padding=(1, 1))\n",
       "  )\n",
       ")"
      ]
     },
     "execution_count": 45,
     "metadata": {},
     "output_type": "execute_result"
    }
   ],
   "source": [
    "model = AerialImagesVAE()\n",
    "model"
   ]
  },
  {
   "cell_type": "markdown",
   "metadata": {
    "heading_collapsed": true,
    "hidden": true
   },
   "source": [
    "### Loss Function"
   ]
  },
  {
   "cell_type": "code",
   "execution_count": 46,
   "metadata": {
    "ExecuteTime": {
     "end_time": "2020-09-25T13:29:16.405236Z",
     "start_time": "2020-09-25T13:29:16.402197Z"
    },
    "hidden": true
   },
   "outputs": [],
   "source": [
    "class VAE_Loss(nn.Module):\n",
    "    def __init__(self):\n",
    "        super().__init__()\n",
    "        self.mse_loss = nn.MSELoss(reduction=\"sum\")\n",
    "\n",
    "    def forward(self, x_recon, x, mu, logvar):\n",
    "        loss_MSE = self.mse_loss(x_recon, x)\n",
    "        loss_KLD = -0.5 * torch.sum(1 + logvar - mu.pow(2) - logvar.exp())\n",
    "\n",
    "        return loss_MSE + loss_KLD"
   ]
  },
  {
   "cell_type": "markdown",
   "metadata": {
    "heading_collapsed": true
   },
   "source": [
    "## Data Loaders"
   ]
  },
  {
   "cell_type": "code",
   "execution_count": 47,
   "metadata": {
    "ExecuteTime": {
     "end_time": "2020-09-25T13:29:16.411694Z",
     "start_time": "2020-09-25T13:29:16.406325Z"
    },
    "hidden": true
   },
   "outputs": [],
   "source": [
    "root_train = \"../data/drone_image_data_1k/Training\"\n",
    "root_test = \"../data/drone_image_data_1k/Test\""
   ]
  },
  {
   "cell_type": "code",
   "execution_count": 48,
   "metadata": {
    "ExecuteTime": {
     "end_time": "2020-09-25T13:29:16.418307Z",
     "start_time": "2020-09-25T13:29:16.412807Z"
    },
    "hidden": true
   },
   "outputs": [],
   "source": [
    "transform=transforms.Compose([\n",
    "                            transforms.Pad((0, 0, 1, 1), fill=0, padding_mode='edge'),\n",
    "                            transforms.ToTensor()\n",
    "                            ])\n"
   ]
  },
  {
   "cell_type": "code",
   "execution_count": 49,
   "metadata": {
    "ExecuteTime": {
     "end_time": "2020-09-25T13:29:16.429372Z",
     "start_time": "2020-09-25T13:29:16.419462Z"
    },
    "hidden": true
   },
   "outputs": [],
   "source": [
    "train_loader = torch.utils.data.DataLoader(datasets.ImageFolder(root_train, transform=transform),\n",
    "                                           batch_size=batch_size,\n",
    "                                           num_workers=num_workers,\n",
    "                                           shuffle=True)\n",
    "\n",
    "test_loader = torch.utils.data.DataLoader(datasets.ImageFolder(root_test, transform=transform),\n",
    "                                          batch_size=batch_size,\n",
    "                                          num_workers=num_workers,\n",
    "                                          shuffle=True)"
   ]
  },
  {
   "cell_type": "code",
   "execution_count": 50,
   "metadata": {
    "ExecuteTime": {
     "end_time": "2020-09-25T13:29:16.517025Z",
     "start_time": "2020-09-25T13:29:16.430604Z"
    },
    "hidden": true
   },
   "outputs": [],
   "source": [
    "# create iterator\n",
    "dataiter = iter(train_loader)\n",
    "# Get batch samples and labels\n",
    "batch_images, batch_labels = dataiter.next()\n",
    "\n",
    "# batch_images_samples = batch_images.to(device)\n",
    "# batch_labels_samples = batch_labels.to(device)"
   ]
  },
  {
   "cell_type": "code",
   "execution_count": 51,
   "metadata": {
    "ExecuteTime": {
     "end_time": "2020-09-25T13:29:16.544027Z",
     "start_time": "2020-09-25T13:29:16.519377Z"
    },
    "hidden": true
   },
   "outputs": [],
   "source": [
    "batch_images, batch_labels = dataiter.next()"
   ]
  },
  {
   "cell_type": "code",
   "execution_count": 52,
   "metadata": {
    "ExecuteTime": {
     "end_time": "2020-09-25T13:29:16.550103Z",
     "start_time": "2020-09-25T13:29:16.545670Z"
    },
    "hidden": true
   },
   "outputs": [
    {
     "data": {
      "text/plain": [
       "torch.Size([32, 3, 121, 121])"
      ]
     },
     "execution_count": 52,
     "metadata": {},
     "output_type": "execute_result"
    }
   ],
   "source": [
    "batch_images.shape"
   ]
  },
  {
   "cell_type": "code",
   "execution_count": 53,
   "metadata": {
    "ExecuteTime": {
     "end_time": "2020-09-25T13:29:16.556639Z",
     "start_time": "2020-09-25T13:29:16.552584Z"
    },
    "hidden": true
   },
   "outputs": [
    {
     "data": {
      "text/plain": [
       "torch.Size([3, 121, 121])"
      ]
     },
     "execution_count": 53,
     "metadata": {},
     "output_type": "execute_result"
    }
   ],
   "source": [
    "batch_images[0].shape"
   ]
  },
  {
   "cell_type": "markdown",
   "metadata": {},
   "source": [
    "## Training & Testing"
   ]
  },
  {
   "cell_type": "markdown",
   "metadata": {
    "heading_collapsed": true
   },
   "source": [
    "### Model, Loss Function, and Optimizaer Instances"
   ]
  },
  {
   "cell_type": "code",
   "execution_count": 54,
   "metadata": {
    "ExecuteTime": {
     "end_time": "2020-09-25T13:29:18.625311Z",
     "start_time": "2020-09-25T13:29:16.558669Z"
    },
    "hidden": true
   },
   "outputs": [],
   "source": [
    "model = AerialImagesVAE().to(device)\n",
    "optimizer = optim.Adam(model.parameters(), lr=learning_rate)\n",
    "VAE_Loss = VAE_Loss()"
   ]
  },
  {
   "cell_type": "markdown",
   "metadata": {},
   "source": [
    "### Training"
   ]
  },
  {
   "cell_type": "code",
   "execution_count": 55,
   "metadata": {
    "ExecuteTime": {
     "end_time": "2020-09-25T13:29:18.628073Z",
     "start_time": "2020-09-25T13:29:18.626418Z"
    }
   },
   "outputs": [],
   "source": [
    "val_losses = []\n",
    "train_losses = []"
   ]
  },
  {
   "cell_type": "code",
   "execution_count": 56,
   "metadata": {
    "ExecuteTime": {
     "end_time": "2020-09-25T13:29:18.642721Z",
     "start_time": "2020-09-25T13:29:18.629071Z"
    }
   },
   "outputs": [],
   "source": [
    "def train(epoch):\n",
    "    model.train()\n",
    "    train_loss = 0\n",
    "    for batch_idx, (data, _) in enumerate(train_loader):\n",
    "        data = data.to(device)\n",
    "        optimizer.zero_grad()\n",
    "        recon_batch, mu, logvar = model(data)\n",
    "        loss = VAE_Loss(recon_batch, data, mu, logvar)\n",
    "        loss.backward()\n",
    "        train_loss += loss.item()\n",
    "        optimizer.step()\n",
    "        if batch_idx % log_interval == 0:\n",
    "            print('Train Epoch: {} [{}/{} ({:.0f}%)]\\tLoss: {:.6f}'.format(\n",
    "                epoch, batch_idx * len(data), len(train_loader.dataset),\n",
    "                       100. * batch_idx / len(train_loader),\n",
    "                       loss.item() / len(data)))\n",
    "\n",
    "    print('====> Epoch: {} Average loss: {:.4f}'.format(\n",
    "        epoch, train_loss / len(train_loader.dataset)))\n",
    "    train_losses.append(train_loss / len(train_loader.dataset))"
   ]
  },
  {
   "cell_type": "code",
   "execution_count": 57,
   "metadata": {
    "ExecuteTime": {
     "end_time": "2020-09-25T13:29:18.649445Z",
     "start_time": "2020-09-25T13:29:18.643881Z"
    }
   },
   "outputs": [],
   "source": [
    "def test(epoch):\n",
    "    model.eval()\n",
    "    test_loss = 0\n",
    "    with torch.no_grad():\n",
    "        for i, (data, _) in enumerate(test_loader):\n",
    "            data = data.to(device)\n",
    "            recon_batch, mu, logvar = model(data)\n",
    "            test_loss += VAE_Loss(recon_batch, data, mu, logvar).item()\n",
    "            if i == 0:\n",
    "                n = min(data.size(0), 8)\n",
    "                comparison = torch.cat([data[:n],\n",
    "                                        recon_batch.view(batch_size, 3, 121, 121)[:n]])\n",
    "                save_image(comparison.cpu(),\n",
    "                           'results/Fruit_reconstruction_' + str(epoch) + '.png', nrow=n)\n",
    "\n",
    "    test_loss /= len(test_loader.dataset)\n",
    "    print('====> Test set loss: {:.4f}'.format(test_loss))\n",
    "    val_losses.append(test_loss)"
   ]
  },
  {
   "cell_type": "code",
   "execution_count": 58,
   "metadata": {
    "ExecuteTime": {
     "end_time": "2020-09-25T13:37:02.370753Z",
     "start_time": "2020-09-25T13:29:18.650520Z"
    },
    "scrolled": true
   },
   "outputs": [
    {
     "name": "stdout",
     "output_type": "stream",
     "text": [
      "Train Epoch: 1 [0/800 (0%)]\tLoss: 14507.132812\n",
      "====> Epoch: 1 Average loss: 12289.5943\n",
      "====> Test set loss: 8198.9168\n",
      "Train Epoch: 2 [0/800 (0%)]\tLoss: 8016.219238\n",
      "====> Epoch: 2 Average loss: 3538.7580\n",
      "====> Test set loss: 2264.9236\n",
      "Train Epoch: 3 [0/800 (0%)]\tLoss: 1995.566895\n",
      "====> Epoch: 3 Average loss: 1979.9419\n",
      "====> Test set loss: 1857.4827\n",
      "Train Epoch: 4 [0/800 (0%)]\tLoss: 1999.343384\n",
      "====> Epoch: 4 Average loss: 1801.2330\n",
      "====> Test set loss: 1727.6685\n",
      "Train Epoch: 5 [0/800 (0%)]\tLoss: 2070.682617\n",
      "====> Epoch: 5 Average loss: 1666.5278\n",
      "====> Test set loss: 1524.1664\n",
      "Train Epoch: 6 [0/800 (0%)]\tLoss: 1771.042114\n",
      "====> Epoch: 6 Average loss: 1593.2696\n",
      "====> Test set loss: 1532.5765\n",
      "Train Epoch: 7 [0/800 (0%)]\tLoss: 1528.893799\n",
      "====> Epoch: 7 Average loss: 1524.3122\n",
      "====> Test set loss: 1433.1661\n",
      "Train Epoch: 8 [0/800 (0%)]\tLoss: 1558.484497\n",
      "====> Epoch: 8 Average loss: 1454.4642\n",
      "====> Test set loss: 1510.6218\n",
      "Train Epoch: 9 [0/800 (0%)]\tLoss: 1364.962158\n",
      "====> Epoch: 9 Average loss: 1394.5182\n",
      "====> Test set loss: 1264.1460\n",
      "Train Epoch: 10 [0/800 (0%)]\tLoss: 1455.045410\n",
      "====> Epoch: 10 Average loss: 1355.7236\n",
      "====> Test set loss: 1243.2261\n",
      "Train Epoch: 11 [0/800 (0%)]\tLoss: 1587.524048\n",
      "====> Epoch: 11 Average loss: 1362.8789\n",
      "====> Test set loss: 1464.9744\n",
      "Train Epoch: 12 [0/800 (0%)]\tLoss: 1392.173462\n",
      "====> Epoch: 12 Average loss: 1297.2402\n",
      "====> Test set loss: 1256.9643\n",
      "Train Epoch: 13 [0/800 (0%)]\tLoss: 1257.995728\n",
      "====> Epoch: 13 Average loss: 1220.5796\n",
      "====> Test set loss: 1173.5849\n",
      "Train Epoch: 14 [0/800 (0%)]\tLoss: 1323.284180\n",
      "====> Epoch: 14 Average loss: 1222.8687\n",
      "====> Test set loss: 1184.5258\n",
      "Train Epoch: 15 [0/800 (0%)]\tLoss: 1363.572632\n",
      "====> Epoch: 15 Average loss: 1180.9028\n",
      "====> Test set loss: 1137.2614\n",
      "Train Epoch: 16 [0/800 (0%)]\tLoss: 1161.888184\n",
      "====> Epoch: 16 Average loss: 1156.1779\n",
      "====> Test set loss: 1063.1079\n",
      "Train Epoch: 17 [0/800 (0%)]\tLoss: 1099.386353\n",
      "====> Epoch: 17 Average loss: 1107.7586\n",
      "====> Test set loss: 1044.8400\n",
      "Train Epoch: 18 [0/800 (0%)]\tLoss: 964.698914\n",
      "====> Epoch: 18 Average loss: 1070.6449\n",
      "====> Test set loss: 1056.6503\n",
      "Train Epoch: 19 [0/800 (0%)]\tLoss: 1154.190186\n",
      "====> Epoch: 19 Average loss: 1071.6187\n",
      "====> Test set loss: 939.9099\n",
      "Train Epoch: 20 [0/800 (0%)]\tLoss: 1116.620728\n",
      "====> Epoch: 20 Average loss: 1056.4156\n",
      "====> Test set loss: 1003.4057\n",
      "Train Epoch: 21 [0/800 (0%)]\tLoss: 937.830261\n",
      "====> Epoch: 21 Average loss: 1030.4867\n",
      "====> Test set loss: 949.6169\n",
      "Train Epoch: 22 [0/800 (0%)]\tLoss: 977.619812\n",
      "====> Epoch: 22 Average loss: 1009.6459\n",
      "====> Test set loss: 883.9435\n",
      "Train Epoch: 23 [0/800 (0%)]\tLoss: 906.414673\n",
      "====> Epoch: 23 Average loss: 986.5554\n",
      "====> Test set loss: 899.7513\n",
      "Train Epoch: 24 [0/800 (0%)]\tLoss: 959.898621\n",
      "====> Epoch: 24 Average loss: 982.8314\n",
      "====> Test set loss: 982.7314\n",
      "Train Epoch: 25 [0/800 (0%)]\tLoss: 860.093201\n",
      "====> Epoch: 25 Average loss: 957.9445\n",
      "====> Test set loss: 870.7679\n",
      "Train Epoch: 26 [0/800 (0%)]\tLoss: 1198.106934\n",
      "====> Epoch: 26 Average loss: 949.8233\n",
      "====> Test set loss: 933.5603\n",
      "Train Epoch: 27 [0/800 (0%)]\tLoss: 883.743896\n",
      "====> Epoch: 27 Average loss: 919.7703\n",
      "====> Test set loss: 878.5981\n",
      "Train Epoch: 28 [0/800 (0%)]\tLoss: 868.319458\n",
      "====> Epoch: 28 Average loss: 916.3630\n",
      "====> Test set loss: 841.0236\n",
      "Train Epoch: 29 [0/800 (0%)]\tLoss: 955.604004\n",
      "====> Epoch: 29 Average loss: 906.7156\n",
      "====> Test set loss: 873.1641\n",
      "Train Epoch: 30 [0/800 (0%)]\tLoss: 897.786804\n",
      "====> Epoch: 30 Average loss: 895.7031\n",
      "====> Test set loss: 823.1661\n",
      "Train Epoch: 31 [0/800 (0%)]\tLoss: 874.745239\n",
      "====> Epoch: 31 Average loss: 893.1114\n",
      "====> Test set loss: 846.6672\n",
      "Train Epoch: 32 [0/800 (0%)]\tLoss: 666.815491\n",
      "====> Epoch: 32 Average loss: 896.1107\n",
      "====> Test set loss: 822.2858\n",
      "Train Epoch: 33 [0/800 (0%)]\tLoss: 892.923279\n",
      "====> Epoch: 33 Average loss: 881.1055\n",
      "====> Test set loss: 834.1726\n",
      "Train Epoch: 34 [0/800 (0%)]\tLoss: 856.578064\n",
      "====> Epoch: 34 Average loss: 885.2897\n",
      "====> Test set loss: 804.5825\n",
      "Train Epoch: 35 [0/800 (0%)]\tLoss: 783.931519\n",
      "====> Epoch: 35 Average loss: 864.7983\n",
      "====> Test set loss: 834.0895\n",
      "Train Epoch: 36 [0/800 (0%)]\tLoss: 850.862732\n",
      "====> Epoch: 36 Average loss: 860.8491\n",
      "====> Test set loss: 841.8621\n",
      "Train Epoch: 37 [0/800 (0%)]\tLoss: 836.921448\n",
      "====> Epoch: 37 Average loss: 857.4446\n",
      "====> Test set loss: 820.9277\n",
      "Train Epoch: 38 [0/800 (0%)]\tLoss: 977.021851\n",
      "====> Epoch: 38 Average loss: 849.6279\n",
      "====> Test set loss: 789.9971\n",
      "Train Epoch: 39 [0/800 (0%)]\tLoss: 857.114197\n",
      "====> Epoch: 39 Average loss: 843.0489\n",
      "====> Test set loss: 803.6636\n",
      "Train Epoch: 40 [0/800 (0%)]\tLoss: 885.096008\n",
      "====> Epoch: 40 Average loss: 838.6146\n",
      "====> Test set loss: 771.7928\n",
      "Train Epoch: 41 [0/800 (0%)]\tLoss: 875.010254\n",
      "====> Epoch: 41 Average loss: 839.1880\n",
      "====> Test set loss: 760.6383\n",
      "Train Epoch: 42 [0/800 (0%)]\tLoss: 889.598022\n",
      "====> Epoch: 42 Average loss: 821.5291\n",
      "====> Test set loss: 770.1978\n",
      "Train Epoch: 43 [0/800 (0%)]\tLoss: 988.456787\n",
      "====> Epoch: 43 Average loss: 825.1748\n",
      "====> Test set loss: 777.6847\n",
      "Train Epoch: 44 [0/800 (0%)]\tLoss: 784.858093\n",
      "====> Epoch: 44 Average loss: 822.2005\n",
      "====> Test set loss: 762.1280\n",
      "Train Epoch: 45 [0/800 (0%)]\tLoss: 1028.496826\n",
      "====> Epoch: 45 Average loss: 806.6673\n",
      "====> Test set loss: 786.0674\n",
      "Train Epoch: 46 [0/800 (0%)]\tLoss: 603.777344\n",
      "====> Epoch: 46 Average loss: 808.1338\n",
      "====> Test set loss: 747.7229\n",
      "Train Epoch: 47 [0/800 (0%)]\tLoss: 783.858093\n",
      "====> Epoch: 47 Average loss: 818.4712\n",
      "====> Test set loss: 756.0788\n",
      "Train Epoch: 48 [0/800 (0%)]\tLoss: 785.015869\n",
      "====> Epoch: 48 Average loss: 808.6153\n",
      "====> Test set loss: 757.1041\n",
      "Train Epoch: 49 [0/800 (0%)]\tLoss: 787.809448\n",
      "====> Epoch: 49 Average loss: 797.2099\n",
      "====> Test set loss: 744.8974\n",
      "Train Epoch: 50 [0/800 (0%)]\tLoss: 759.826721\n",
      "====> Epoch: 50 Average loss: 792.9688\n",
      "====> Test set loss: 740.7485\n",
      "Train Epoch: 51 [0/800 (0%)]\tLoss: 649.373474\n",
      "====> Epoch: 51 Average loss: 798.3082\n",
      "====> Test set loss: 737.9564\n",
      "Train Epoch: 52 [0/800 (0%)]\tLoss: 792.993469\n",
      "====> Epoch: 52 Average loss: 792.2730\n",
      "====> Test set loss: 755.5948\n",
      "Train Epoch: 53 [0/800 (0%)]\tLoss: 1006.693909\n",
      "====> Epoch: 53 Average loss: 783.4966\n",
      "====> Test set loss: 739.5272\n",
      "Train Epoch: 54 [0/800 (0%)]\tLoss: 693.150208\n",
      "====> Epoch: 54 Average loss: 785.6859\n",
      "====> Test set loss: 725.0642\n",
      "Train Epoch: 55 [0/800 (0%)]\tLoss: 683.430603\n",
      "====> Epoch: 55 Average loss: 785.1254\n",
      "====> Test set loss: 740.2183\n",
      "Train Epoch: 56 [0/800 (0%)]\tLoss: 741.328674\n",
      "====> Epoch: 56 Average loss: 774.0010\n",
      "====> Test set loss: 757.6354\n",
      "Train Epoch: 57 [0/800 (0%)]\tLoss: 914.314880\n",
      "====> Epoch: 57 Average loss: 776.3759\n",
      "====> Test set loss: 725.8549\n",
      "Train Epoch: 58 [0/800 (0%)]\tLoss: 745.536804\n",
      "====> Epoch: 58 Average loss: 776.0059\n",
      "====> Test set loss: 729.4339\n",
      "Train Epoch: 59 [0/800 (0%)]\tLoss: 927.854004\n",
      "====> Epoch: 59 Average loss: 783.6097\n",
      "====> Test set loss: 752.0266\n",
      "Train Epoch: 60 [0/800 (0%)]\tLoss: 793.641724\n",
      "====> Epoch: 60 Average loss: 769.3819\n",
      "====> Test set loss: 710.4801\n",
      "Train Epoch: 61 [0/800 (0%)]\tLoss: 742.015320\n",
      "====> Epoch: 61 Average loss: 760.3102\n",
      "====> Test set loss: 723.4002\n",
      "Train Epoch: 62 [0/800 (0%)]\tLoss: 653.492493\n",
      "====> Epoch: 62 Average loss: 759.1794\n",
      "====> Test set loss: 706.6092\n",
      "Train Epoch: 63 [0/800 (0%)]\tLoss: 905.565979\n",
      "====> Epoch: 63 Average loss: 755.7786\n",
      "====> Test set loss: 700.8321\n",
      "Train Epoch: 64 [0/800 (0%)]\tLoss: 799.713379\n",
      "====> Epoch: 64 Average loss: 759.4837\n",
      "====> Test set loss: 708.8246\n",
      "Train Epoch: 65 [0/800 (0%)]\tLoss: 705.174255\n",
      "====> Epoch: 65 Average loss: 757.0370\n",
      "====> Test set loss: 703.4002\n",
      "Train Epoch: 66 [0/800 (0%)]\tLoss: 713.930542\n",
      "====> Epoch: 66 Average loss: 753.0238\n",
      "====> Test set loss: 694.4201\n",
      "Train Epoch: 67 [0/800 (0%)]\tLoss: 901.551575\n",
      "====> Epoch: 67 Average loss: 750.7323\n",
      "====> Test set loss: 690.9872\n",
      "Train Epoch: 68 [0/800 (0%)]\tLoss: 698.976074\n",
      "====> Epoch: 68 Average loss: 741.0916\n",
      "====> Test set loss: 691.7832\n",
      "Train Epoch: 69 [0/800 (0%)]\tLoss: 772.663208\n",
      "====> Epoch: 69 Average loss: 741.1655\n",
      "====> Test set loss: 712.1091\n",
      "Train Epoch: 70 [0/800 (0%)]\tLoss: 886.278076\n",
      "====> Epoch: 70 Average loss: 737.3908\n",
      "====> Test set loss: 693.1579\n",
      "Train Epoch: 71 [0/800 (0%)]\tLoss: 771.844788\n",
      "====> Epoch: 71 Average loss: 737.8086\n",
      "====> Test set loss: 707.2430\n"
     ]
    },
    {
     "name": "stdout",
     "output_type": "stream",
     "text": [
      "Train Epoch: 72 [0/800 (0%)]\tLoss: 589.525940\n",
      "====> Epoch: 72 Average loss: 723.5725\n",
      "====> Test set loss: 674.5896\n",
      "Train Epoch: 73 [0/800 (0%)]\tLoss: 773.405396\n",
      "====> Epoch: 73 Average loss: 711.7749\n",
      "====> Test set loss: 669.1487\n",
      "Train Epoch: 74 [0/800 (0%)]\tLoss: 842.673401\n",
      "====> Epoch: 74 Average loss: 721.3711\n",
      "====> Test set loss: 671.9069\n",
      "Train Epoch: 75 [0/800 (0%)]\tLoss: 884.889709\n",
      "====> Epoch: 75 Average loss: 709.1593\n",
      "====> Test set loss: 684.5305\n",
      "Train Epoch: 76 [0/800 (0%)]\tLoss: 699.648743\n",
      "====> Epoch: 76 Average loss: 705.9762\n",
      "====> Test set loss: 671.9285\n",
      "Train Epoch: 77 [0/800 (0%)]\tLoss: 785.702454\n",
      "====> Epoch: 77 Average loss: 705.2874\n",
      "====> Test set loss: 659.3584\n",
      "Train Epoch: 78 [0/800 (0%)]\tLoss: 753.596985\n",
      "====> Epoch: 78 Average loss: 703.7578\n",
      "====> Test set loss: 667.7802\n",
      "Train Epoch: 79 [0/800 (0%)]\tLoss: 710.768005\n",
      "====> Epoch: 79 Average loss: 691.2654\n",
      "====> Test set loss: 651.5913\n",
      "Train Epoch: 80 [0/800 (0%)]\tLoss: 706.136719\n",
      "====> Epoch: 80 Average loss: 697.7153\n",
      "====> Test set loss: 673.4347\n",
      "Train Epoch: 81 [0/800 (0%)]\tLoss: 698.937195\n",
      "====> Epoch: 81 Average loss: 691.0898\n",
      "====> Test set loss: 654.5075\n",
      "Train Epoch: 82 [0/800 (0%)]\tLoss: 659.109375\n",
      "====> Epoch: 82 Average loss: 685.9381\n",
      "====> Test set loss: 652.1848\n",
      "Train Epoch: 83 [0/800 (0%)]\tLoss: 683.158325\n",
      "====> Epoch: 83 Average loss: 672.4540\n",
      "====> Test set loss: 644.8919\n",
      "Train Epoch: 84 [0/800 (0%)]\tLoss: 579.499573\n",
      "====> Epoch: 84 Average loss: 679.6031\n",
      "====> Test set loss: 640.4161\n",
      "Train Epoch: 85 [0/800 (0%)]\tLoss: 685.787720\n",
      "====> Epoch: 85 Average loss: 672.9035\n",
      "====> Test set loss: 674.8247\n",
      "Train Epoch: 86 [0/800 (0%)]\tLoss: 700.420227\n",
      "====> Epoch: 86 Average loss: 669.1464\n",
      "====> Test set loss: 646.7359\n",
      "Train Epoch: 87 [0/800 (0%)]\tLoss: 603.373352\n",
      "====> Epoch: 87 Average loss: 677.4263\n",
      "====> Test set loss: 655.7159\n",
      "Train Epoch: 88 [0/800 (0%)]\tLoss: 704.529114\n",
      "====> Epoch: 88 Average loss: 668.6532\n",
      "====> Test set loss: 661.5310\n",
      "Train Epoch: 89 [0/800 (0%)]\tLoss: 688.046936\n",
      "====> Epoch: 89 Average loss: 672.1530\n",
      "====> Test set loss: 632.3883\n",
      "Train Epoch: 90 [0/800 (0%)]\tLoss: 650.474609\n",
      "====> Epoch: 90 Average loss: 653.7602\n",
      "====> Test set loss: 627.4121\n",
      "Train Epoch: 91 [0/800 (0%)]\tLoss: 693.274597\n",
      "====> Epoch: 91 Average loss: 662.0974\n",
      "====> Test set loss: 638.0558\n",
      "Train Epoch: 92 [0/800 (0%)]\tLoss: 646.290894\n",
      "====> Epoch: 92 Average loss: 660.7262\n",
      "====> Test set loss: 646.9002\n",
      "Train Epoch: 93 [0/800 (0%)]\tLoss: 737.247009\n",
      "====> Epoch: 93 Average loss: 656.0294\n",
      "====> Test set loss: 647.0537\n",
      "Train Epoch: 94 [0/800 (0%)]\tLoss: 701.218201\n",
      "====> Epoch: 94 Average loss: 648.6417\n",
      "====> Test set loss: 629.4252\n",
      "Train Epoch: 95 [0/800 (0%)]\tLoss: 602.715088\n",
      "====> Epoch: 95 Average loss: 651.1472\n",
      "====> Test set loss: 650.6800\n",
      "Train Epoch: 96 [0/800 (0%)]\tLoss: 661.001526\n",
      "====> Epoch: 96 Average loss: 648.3083\n",
      "====> Test set loss: 636.2666\n",
      "Train Epoch: 97 [0/800 (0%)]\tLoss: 795.147339\n",
      "====> Epoch: 97 Average loss: 634.3322\n",
      "====> Test set loss: 624.9199\n",
      "Train Epoch: 98 [0/800 (0%)]\tLoss: 668.586731\n",
      "====> Epoch: 98 Average loss: 639.4736\n",
      "====> Test set loss: 610.5332\n",
      "Train Epoch: 99 [0/800 (0%)]\tLoss: 643.467896\n",
      "====> Epoch: 99 Average loss: 640.0337\n",
      "====> Test set loss: 603.9045\n",
      "Train Epoch: 100 [0/800 (0%)]\tLoss: 775.110291\n",
      "====> Epoch: 100 Average loss: 636.5179\n",
      "====> Test set loss: 617.3823\n",
      "Train Epoch: 101 [0/800 (0%)]\tLoss: 636.957886\n",
      "====> Epoch: 101 Average loss: 631.0695\n",
      "====> Test set loss: 599.2084\n",
      "Train Epoch: 102 [0/800 (0%)]\tLoss: 635.072449\n",
      "====> Epoch: 102 Average loss: 640.0949\n",
      "====> Test set loss: 619.4103\n",
      "Train Epoch: 103 [0/800 (0%)]\tLoss: 592.833435\n",
      "====> Epoch: 103 Average loss: 629.8341\n",
      "====> Test set loss: 599.0446\n",
      "Train Epoch: 104 [0/800 (0%)]\tLoss: 637.712219\n",
      "====> Epoch: 104 Average loss: 623.7737\n",
      "====> Test set loss: 615.4477\n",
      "Train Epoch: 105 [0/800 (0%)]\tLoss: 674.325562\n",
      "====> Epoch: 105 Average loss: 624.0731\n",
      "====> Test set loss: 621.5179\n",
      "Train Epoch: 106 [0/800 (0%)]\tLoss: 635.329163\n",
      "====> Epoch: 106 Average loss: 641.3503\n",
      "====> Test set loss: 618.6852\n",
      "Train Epoch: 107 [0/800 (0%)]\tLoss: 663.824890\n",
      "====> Epoch: 107 Average loss: 629.4434\n",
      "====> Test set loss: 601.9747\n",
      "Train Epoch: 108 [0/800 (0%)]\tLoss: 690.848389\n",
      "====> Epoch: 108 Average loss: 625.7280\n",
      "====> Test set loss: 624.3228\n",
      "Train Epoch: 109 [0/800 (0%)]\tLoss: 725.100830\n",
      "====> Epoch: 109 Average loss: 626.0343\n",
      "====> Test set loss: 614.8738\n",
      "Train Epoch: 110 [0/800 (0%)]\tLoss: 687.958496\n",
      "====> Epoch: 110 Average loss: 613.6808\n",
      "====> Test set loss: 599.2636\n",
      "Train Epoch: 111 [0/800 (0%)]\tLoss: 587.242188\n",
      "====> Epoch: 111 Average loss: 617.1589\n",
      "====> Test set loss: 624.6024\n",
      "Train Epoch: 112 [0/800 (0%)]\tLoss: 471.216400\n",
      "====> Epoch: 112 Average loss: 606.8798\n",
      "====> Test set loss: 590.5969\n",
      "Train Epoch: 113 [0/800 (0%)]\tLoss: 685.682251\n",
      "====> Epoch: 113 Average loss: 614.7103\n",
      "====> Test set loss: 595.7942\n",
      "Train Epoch: 114 [0/800 (0%)]\tLoss: 520.163635\n",
      "====> Epoch: 114 Average loss: 609.7513\n",
      "====> Test set loss: 592.1434\n",
      "Train Epoch: 115 [0/800 (0%)]\tLoss: 633.438843\n",
      "====> Epoch: 115 Average loss: 595.6504\n",
      "====> Test set loss: 598.6313\n",
      "Train Epoch: 116 [0/800 (0%)]\tLoss: 582.431641\n",
      "====> Epoch: 116 Average loss: 601.1808\n",
      "====> Test set loss: 597.0631\n",
      "Train Epoch: 117 [0/800 (0%)]\tLoss: 692.162781\n",
      "====> Epoch: 117 Average loss: 596.8036\n",
      "====> Test set loss: 584.5492\n",
      "Train Epoch: 118 [0/800 (0%)]\tLoss: 739.806213\n",
      "====> Epoch: 118 Average loss: 613.2790\n",
      "====> Test set loss: 586.7563\n",
      "Train Epoch: 119 [0/800 (0%)]\tLoss: 662.096191\n",
      "====> Epoch: 119 Average loss: 604.7950\n",
      "====> Test set loss: 607.7489\n",
      "Train Epoch: 120 [0/800 (0%)]\tLoss: 695.352234\n",
      "====> Epoch: 120 Average loss: 598.0574\n",
      "====> Test set loss: 581.8683\n",
      "Train Epoch: 121 [0/800 (0%)]\tLoss: 609.502747\n",
      "====> Epoch: 121 Average loss: 589.6705\n",
      "====> Test set loss: 591.7775\n",
      "Train Epoch: 122 [0/800 (0%)]\tLoss: 631.335266\n",
      "====> Epoch: 122 Average loss: 597.6771\n",
      "====> Test set loss: 581.3802\n",
      "Train Epoch: 123 [0/800 (0%)]\tLoss: 549.409546\n",
      "====> Epoch: 123 Average loss: 602.3940\n",
      "====> Test set loss: 578.2830\n",
      "Train Epoch: 124 [0/800 (0%)]\tLoss: 616.435669\n",
      "====> Epoch: 124 Average loss: 588.1373\n",
      "====> Test set loss: 624.6438\n",
      "Train Epoch: 125 [0/800 (0%)]\tLoss: 541.230652\n",
      "====> Epoch: 125 Average loss: 590.7990\n",
      "====> Test set loss: 572.6989\n",
      "Train Epoch: 126 [0/800 (0%)]\tLoss: 555.041992\n",
      "====> Epoch: 126 Average loss: 582.9542\n",
      "====> Test set loss: 589.8442\n",
      "Train Epoch: 127 [0/800 (0%)]\tLoss: 480.699249\n",
      "====> Epoch: 127 Average loss: 583.0257\n",
      "====> Test set loss: 573.8855\n",
      "Train Epoch: 128 [0/800 (0%)]\tLoss: 486.469635\n",
      "====> Epoch: 128 Average loss: 593.2472\n",
      "====> Test set loss: 623.3819\n",
      "Train Epoch: 129 [0/800 (0%)]\tLoss: 618.248352\n",
      "====> Epoch: 129 Average loss: 590.5389\n",
      "====> Test set loss: 587.9828\n",
      "Train Epoch: 130 [0/800 (0%)]\tLoss: 633.815552\n",
      "====> Epoch: 130 Average loss: 588.0748\n",
      "====> Test set loss: 573.9154\n",
      "Train Epoch: 131 [0/800 (0%)]\tLoss: 565.564697\n",
      "====> Epoch: 131 Average loss: 579.8918\n",
      "====> Test set loss: 580.5155\n",
      "Train Epoch: 132 [0/800 (0%)]\tLoss: 601.801697\n",
      "====> Epoch: 132 Average loss: 582.8697\n",
      "====> Test set loss: 584.7566\n",
      "Train Epoch: 133 [0/800 (0%)]\tLoss: 593.561157\n",
      "====> Epoch: 133 Average loss: 588.3466\n",
      "====> Test set loss: 609.2321\n",
      "Train Epoch: 134 [0/800 (0%)]\tLoss: 508.264130\n",
      "====> Epoch: 134 Average loss: 577.9806\n",
      "====> Test set loss: 587.0155\n",
      "Train Epoch: 135 [0/800 (0%)]\tLoss: 572.726746\n",
      "====> Epoch: 135 Average loss: 575.8499\n",
      "====> Test set loss: 590.0862\n",
      "Train Epoch: 136 [0/800 (0%)]\tLoss: 641.956421\n",
      "====> Epoch: 136 Average loss: 573.6735\n",
      "====> Test set loss: 598.7234\n",
      "Train Epoch: 137 [0/800 (0%)]\tLoss: 488.636078\n",
      "====> Epoch: 137 Average loss: 582.5370\n",
      "====> Test set loss: 578.2488\n",
      "Train Epoch: 138 [0/800 (0%)]\tLoss: 603.690247\n",
      "====> Epoch: 138 Average loss: 573.3572\n",
      "====> Test set loss: 580.7272\n",
      "Train Epoch: 139 [0/800 (0%)]\tLoss: 548.175903\n",
      "====> Epoch: 139 Average loss: 563.9821\n",
      "====> Test set loss: 589.3602\n",
      "Train Epoch: 140 [0/800 (0%)]\tLoss: 531.270874\n",
      "====> Epoch: 140 Average loss: 564.6452\n",
      "====> Test set loss: 583.6111\n",
      "Train Epoch: 141 [0/800 (0%)]\tLoss: 681.977051\n",
      "====> Epoch: 141 Average loss: 567.8568\n",
      "====> Test set loss: 575.1237\n",
      "Train Epoch: 142 [0/800 (0%)]\tLoss: 588.348450\n",
      "====> Epoch: 142 Average loss: 564.6533\n"
     ]
    },
    {
     "name": "stdout",
     "output_type": "stream",
     "text": [
      "====> Test set loss: 579.2203\n",
      "Train Epoch: 143 [0/800 (0%)]\tLoss: 548.577148\n",
      "====> Epoch: 143 Average loss: 573.5310\n",
      "====> Test set loss: 569.7326\n",
      "Train Epoch: 144 [0/800 (0%)]\tLoss: 585.482239\n",
      "====> Epoch: 144 Average loss: 566.2387\n",
      "====> Test set loss: 584.1313\n",
      "Train Epoch: 145 [0/800 (0%)]\tLoss: 457.086853\n",
      "====> Epoch: 145 Average loss: 569.0739\n",
      "====> Test set loss: 594.9425\n",
      "Train Epoch: 146 [0/800 (0%)]\tLoss: 566.983887\n",
      "====> Epoch: 146 Average loss: 566.4002\n",
      "====> Test set loss: 575.7249\n",
      "Train Epoch: 147 [0/800 (0%)]\tLoss: 612.233276\n",
      "====> Epoch: 147 Average loss: 572.5061\n",
      "====> Test set loss: 581.1506\n",
      "Train Epoch: 148 [0/800 (0%)]\tLoss: 578.154114\n",
      "====> Epoch: 148 Average loss: 553.6140\n",
      "====> Test set loss: 575.7944\n",
      "Train Epoch: 149 [0/800 (0%)]\tLoss: 615.602539\n",
      "====> Epoch: 149 Average loss: 551.2899\n",
      "====> Test set loss: 567.5969\n",
      "Train Epoch: 150 [0/800 (0%)]\tLoss: 537.724854\n",
      "====> Epoch: 150 Average loss: 557.2702\n",
      "====> Test set loss: 586.6700\n",
      "Train Epoch: 151 [0/800 (0%)]\tLoss: 519.637878\n",
      "====> Epoch: 151 Average loss: 551.5871\n",
      "====> Test set loss: 564.6134\n",
      "Train Epoch: 152 [0/800 (0%)]\tLoss: 557.584290\n",
      "====> Epoch: 152 Average loss: 565.4456\n",
      "====> Test set loss: 575.4749\n",
      "Train Epoch: 153 [0/800 (0%)]\tLoss: 419.562378\n",
      "====> Epoch: 153 Average loss: 557.6523\n",
      "====> Test set loss: 561.4644\n",
      "Train Epoch: 154 [0/800 (0%)]\tLoss: 550.893799\n",
      "====> Epoch: 154 Average loss: 549.6689\n",
      "====> Test set loss: 569.5130\n",
      "Train Epoch: 155 [0/800 (0%)]\tLoss: 486.682861\n",
      "====> Epoch: 155 Average loss: 556.0486\n",
      "====> Test set loss: 576.6522\n",
      "Train Epoch: 156 [0/800 (0%)]\tLoss: 570.809814\n",
      "====> Epoch: 156 Average loss: 542.9163\n",
      "====> Test set loss: 583.8911\n",
      "Train Epoch: 157 [0/800 (0%)]\tLoss: 547.883301\n",
      "====> Epoch: 157 Average loss: 555.6041\n",
      "====> Test set loss: 566.6557\n",
      "Train Epoch: 158 [0/800 (0%)]\tLoss: 529.308411\n",
      "====> Epoch: 158 Average loss: 548.8796\n",
      "====> Test set loss: 569.1009\n",
      "Train Epoch: 159 [0/800 (0%)]\tLoss: 500.361572\n",
      "====> Epoch: 159 Average loss: 539.6109\n",
      "====> Test set loss: 573.4039\n",
      "Train Epoch: 160 [0/800 (0%)]\tLoss: 547.785522\n",
      "====> Epoch: 160 Average loss: 543.4433\n",
      "====> Test set loss: 558.9795\n",
      "Train Epoch: 161 [0/800 (0%)]\tLoss: 518.983093\n",
      "====> Epoch: 161 Average loss: 541.4833\n",
      "====> Test set loss: 573.5160\n",
      "Train Epoch: 162 [0/800 (0%)]\tLoss: 561.936890\n",
      "====> Epoch: 162 Average loss: 535.6259\n",
      "====> Test set loss: 562.4287\n",
      "Train Epoch: 163 [0/800 (0%)]\tLoss: 513.443481\n",
      "====> Epoch: 163 Average loss: 535.3300\n",
      "====> Test set loss: 576.9255\n",
      "Train Epoch: 164 [0/800 (0%)]\tLoss: 574.145996\n",
      "====> Epoch: 164 Average loss: 539.0104\n",
      "====> Test set loss: 567.0274\n",
      "Train Epoch: 165 [0/800 (0%)]\tLoss: 497.611877\n",
      "====> Epoch: 165 Average loss: 537.4164\n",
      "====> Test set loss: 574.3286\n",
      "Train Epoch: 166 [0/800 (0%)]\tLoss: 486.301666\n",
      "====> Epoch: 166 Average loss: 539.7052\n",
      "====> Test set loss: 582.9666\n",
      "Train Epoch: 167 [0/800 (0%)]\tLoss: 443.857239\n",
      "====> Epoch: 167 Average loss: 532.5993\n",
      "====> Test set loss: 562.8230\n",
      "Train Epoch: 168 [0/800 (0%)]\tLoss: 563.125854\n",
      "====> Epoch: 168 Average loss: 538.8362\n",
      "====> Test set loss: 563.2540\n",
      "Train Epoch: 169 [0/800 (0%)]\tLoss: 469.812683\n",
      "====> Epoch: 169 Average loss: 543.0815\n",
      "====> Test set loss: 563.1279\n",
      "Train Epoch: 170 [0/800 (0%)]\tLoss: 585.485718\n",
      "====> Epoch: 170 Average loss: 548.1390\n",
      "====> Test set loss: 585.8670\n",
      "Train Epoch: 171 [0/800 (0%)]\tLoss: 512.216675\n",
      "====> Epoch: 171 Average loss: 541.5032\n",
      "====> Test set loss: 563.9826\n",
      "Train Epoch: 172 [0/800 (0%)]\tLoss: 547.744385\n",
      "====> Epoch: 172 Average loss: 534.3694\n",
      "====> Test set loss: 578.0231\n",
      "Train Epoch: 173 [0/800 (0%)]\tLoss: 512.140259\n",
      "====> Epoch: 173 Average loss: 536.6245\n",
      "====> Test set loss: 562.7185\n",
      "Train Epoch: 174 [0/800 (0%)]\tLoss: 550.130798\n",
      "====> Epoch: 174 Average loss: 532.7439\n",
      "====> Test set loss: 564.9685\n",
      "Train Epoch: 175 [0/800 (0%)]\tLoss: 535.412109\n",
      "====> Epoch: 175 Average loss: 529.3982\n",
      "====> Test set loss: 563.8786\n",
      "Train Epoch: 176 [0/800 (0%)]\tLoss: 629.934875\n",
      "====> Epoch: 176 Average loss: 529.6284\n",
      "====> Test set loss: 580.9926\n",
      "Train Epoch: 177 [0/800 (0%)]\tLoss: 535.855103\n",
      "====> Epoch: 177 Average loss: 530.5250\n",
      "====> Test set loss: 573.1078\n",
      "Train Epoch: 178 [0/800 (0%)]\tLoss: 506.205627\n",
      "====> Epoch: 178 Average loss: 522.2990\n",
      "====> Test set loss: 561.3594\n",
      "Train Epoch: 179 [0/800 (0%)]\tLoss: 590.694336\n",
      "====> Epoch: 179 Average loss: 522.1363\n",
      "====> Test set loss: 579.4474\n",
      "Train Epoch: 180 [0/800 (0%)]\tLoss: 610.919983\n",
      "====> Epoch: 180 Average loss: 525.6442\n",
      "====> Test set loss: 573.6059\n",
      "Train Epoch: 181 [0/800 (0%)]\tLoss: 456.759888\n",
      "====> Epoch: 181 Average loss: 537.1440\n",
      "====> Test set loss: 567.6273\n",
      "Train Epoch: 182 [0/800 (0%)]\tLoss: 548.750366\n",
      "====> Epoch: 182 Average loss: 527.0776\n",
      "====> Test set loss: 575.0822\n",
      "Train Epoch: 183 [0/800 (0%)]\tLoss: 425.698151\n",
      "====> Epoch: 183 Average loss: 518.2781\n",
      "====> Test set loss: 553.8207\n",
      "Train Epoch: 184 [0/800 (0%)]\tLoss: 552.162659\n",
      "====> Epoch: 184 Average loss: 520.2077\n",
      "====> Test set loss: 567.7887\n",
      "Train Epoch: 185 [0/800 (0%)]\tLoss: 588.152588\n",
      "====> Epoch: 185 Average loss: 516.2457\n",
      "====> Test set loss: 573.9336\n",
      "Train Epoch: 186 [0/800 (0%)]\tLoss: 571.749756\n",
      "====> Epoch: 186 Average loss: 522.5767\n",
      "====> Test set loss: 566.1671\n",
      "Train Epoch: 187 [0/800 (0%)]\tLoss: 546.657349\n",
      "====> Epoch: 187 Average loss: 519.8607\n",
      "====> Test set loss: 556.5605\n",
      "Train Epoch: 188 [0/800 (0%)]\tLoss: 488.030273\n",
      "====> Epoch: 188 Average loss: 513.4852\n",
      "====> Test set loss: 556.1921\n",
      "Train Epoch: 189 [0/800 (0%)]\tLoss: 561.853149\n",
      "====> Epoch: 189 Average loss: 523.7777\n",
      "====> Test set loss: 566.9716\n",
      "Train Epoch: 190 [0/800 (0%)]\tLoss: 575.333984\n",
      "====> Epoch: 190 Average loss: 514.1207\n",
      "====> Test set loss: 571.4267\n",
      "Train Epoch: 191 [0/800 (0%)]\tLoss: 518.778687\n",
      "====> Epoch: 191 Average loss: 526.6599\n",
      "====> Test set loss: 566.2314\n",
      "Train Epoch: 192 [0/800 (0%)]\tLoss: 538.802979\n",
      "====> Epoch: 192 Average loss: 525.4466\n",
      "====> Test set loss: 554.9655\n",
      "Train Epoch: 193 [0/800 (0%)]\tLoss: 516.084351\n",
      "====> Epoch: 193 Average loss: 510.4100\n",
      "====> Test set loss: 563.0423\n",
      "Train Epoch: 194 [0/800 (0%)]\tLoss: 496.947479\n",
      "====> Epoch: 194 Average loss: 508.8336\n",
      "====> Test set loss: 563.6313\n",
      "Train Epoch: 195 [0/800 (0%)]\tLoss: 418.087311\n",
      "====> Epoch: 195 Average loss: 510.7274\n",
      "====> Test set loss: 567.4296\n",
      "Train Epoch: 196 [0/800 (0%)]\tLoss: 441.535187\n",
      "====> Epoch: 196 Average loss: 513.6566\n",
      "====> Test set loss: 559.2150\n",
      "Train Epoch: 197 [0/800 (0%)]\tLoss: 466.776184\n",
      "====> Epoch: 197 Average loss: 513.7687\n",
      "====> Test set loss: 553.2599\n",
      "Train Epoch: 198 [0/800 (0%)]\tLoss: 574.246765\n",
      "====> Epoch: 198 Average loss: 507.6433\n",
      "====> Test set loss: 567.9714\n",
      "Train Epoch: 199 [0/800 (0%)]\tLoss: 453.256897\n",
      "====> Epoch: 199 Average loss: 509.0064\n",
      "====> Test set loss: 557.7263\n",
      "Train Epoch: 200 [0/800 (0%)]\tLoss: 434.706512\n",
      "====> Epoch: 200 Average loss: 509.4472\n",
      "====> Test set loss: 570.0518\n"
     ]
    }
   ],
   "source": [
    "for epoch in range(1, epochs + 1):\n",
    "    train(epoch)\n",
    "    test(epoch)"
   ]
  },
  {
   "cell_type": "code",
   "execution_count": null,
   "metadata": {},
   "outputs": [],
   "source": [
    "for epoch in range(1, epochs + 1):\n",
    "    with torch.no_grad():\n",
    "        sample = torch.randn(64, 64).to(device)\n",
    "        sample = model.sampler(sample).cpu()\n",
    "        save_image(sample.view(64, 3, 121, 121),\n",
    "                   'results/img_gen_sample_' + str(epoch) + '.png')"
   ]
  }
 ],
 "metadata": {
  "kernelspec": {
   "display_name": "UncertaintyDNN",
   "language": "python",
   "name": "uncertaintydnn"
  },
  "language_info": {
   "codemirror_mode": {
    "name": "ipython",
    "version": 3
   },
   "file_extension": ".py",
   "mimetype": "text/x-python",
   "name": "python",
   "nbconvert_exporter": "python",
   "pygments_lexer": "ipython3",
   "version": "3.6.9"
  },
  "toc": {
   "base_numbering": 1,
   "nav_menu": {},
   "number_sections": true,
   "sideBar": true,
   "skip_h1_title": false,
   "title_cell": "Table of Contents",
   "title_sidebar": "Contents",
   "toc_cell": false,
   "toc_position": {},
   "toc_section_display": true,
   "toc_window_display": false
  }
 },
 "nbformat": 4,
 "nbformat_minor": 4
}
