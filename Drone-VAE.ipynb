{
 "cells": [
  {
   "cell_type": "markdown",
   "metadata": {},
   "source": [
    "# Variational Autoencoder -  Aerial Images Simulation"
   ]
  },
  {
   "cell_type": "markdown",
   "metadata": {},
   "source": [
    "## General Imports"
   ]
  },
  {
   "cell_type": "code",
   "execution_count": 1,
   "metadata": {
    "ExecuteTime": {
     "end_time": "2020-09-30T14:59:44.967877Z",
     "start_time": "2020-09-30T14:59:44.481030Z"
    }
   },
   "outputs": [],
   "source": [
    "import torch\n",
    "import torch.utils.data\n",
    "from torch import nn, optim\n",
    "from torch.nn import functional as F\n",
    "from torchvision import datasets, transforms\n",
    "from torchvision.utils import save_image\n",
    "import numpy as np\n",
    "from torchvision.utils import save_image\n",
    "from torch.utils.tensorboard import SummaryWriter\n",
    "from torchvision.utils import make_grid"
   ]
  },
  {
   "cell_type": "code",
   "execution_count": 2,
   "metadata": {
    "ExecuteTime": {
     "end_time": "2020-09-30T14:59:45.033947Z",
     "start_time": "2020-09-30T14:59:44.969243Z"
    }
   },
   "outputs": [
    {
     "name": "stdout",
     "output_type": "stream",
     "text": [
      "cuda\n"
     ]
    }
   ],
   "source": [
    "device = torch.device('cuda' if torch.cuda.is_available() else 'cpu')\n",
    "print(device)"
   ]
  },
  {
   "cell_type": "markdown",
   "metadata": {},
   "source": [
    "__Write to tensorboard__"
   ]
  },
  {
   "cell_type": "code",
   "execution_count": 3,
   "metadata": {
    "ExecuteTime": {
     "end_time": "2020-09-30T14:59:48.939907Z",
     "start_time": "2020-09-30T14:59:47.941749Z"
    }
   },
   "outputs": [],
   "source": [
    "writer = SummaryWriter('experiments/experiment_vae')"
   ]
  },
  {
   "cell_type": "markdown",
   "metadata": {
    "heading_collapsed": true
   },
   "source": [
    "## Helper Functions"
   ]
  },
  {
   "cell_type": "code",
   "execution_count": null,
   "metadata": {
    "ExecuteTime": {
     "end_time": "2020-09-25T13:29:16.027263Z",
     "start_time": "2020-09-25T13:29:16.020666Z"
    },
    "hidden": true
   },
   "outputs": [],
   "source": [
    "def conv2d_output_dimensions(width_in, height_in, input_channels, kernel_size, kernel_filters, padding=0, stride=1):\n",
    "    width_out = ((width_in - kernel_size + (2 * padding)) / stride) + 1\n",
    "    height_out = ((height_in - kernel_size + (2 * padding)) / stride) + 1\n",
    "    output_channels = kernel_filters\n",
    "    \n",
    "    return width_out, height_out, output_channels"
   ]
  },
  {
   "cell_type": "code",
   "execution_count": null,
   "metadata": {
    "ExecuteTime": {
     "end_time": "2020-09-25T13:29:16.036389Z",
     "start_time": "2020-09-25T13:29:16.028718Z"
    },
    "hidden": true
   },
   "outputs": [],
   "source": [
    "def maxpool_output_dimensions(width_in, height_in, input_channels, kernel_size, kernel_filters, padding=0, stride=1, dilation=1):\n",
    "    width_out = ((width_in - (dilation * kernel_size) + (2 * padding)) / stride) + 1\n",
    "    height_out = ((height_in - (dilation * kernel_size) + (2 * padding)) / stride) + 1\n",
    "    output_channels = input_channels\n",
    "    \n",
    "    return width_out, height_out, output_channels"
   ]
  },
  {
   "cell_type": "code",
   "execution_count": null,
   "metadata": {
    "ExecuteTime": {
     "end_time": "2020-09-25T13:29:16.043437Z",
     "start_time": "2020-09-25T13:29:16.037789Z"
    },
    "hidden": true
   },
   "outputs": [],
   "source": [
    "def convTranspose2d_dim(width_in, height_in, input_channels, kernel_size, kernel_filters, padding=0, stride=1):\n",
    "    output_channels = kernel_filters\n",
    "    width_out = stride * (width_in - 1) + kernel_size - (2 * padding)\n",
    "    height_out = stride * (height_in - 1) + kernel_size - (2 * padding)\n",
    "    \n",
    "    return width_out, height_out, output_channels"
   ]
  },
  {
   "cell_type": "code",
   "execution_count": null,
   "metadata": {
    "ExecuteTime": {
     "end_time": "2020-09-25T13:29:16.050065Z",
     "start_time": "2020-09-25T13:29:16.045360Z"
    },
    "hidden": true
   },
   "outputs": [],
   "source": [
    "def conv2d_output_dimensions_pytorch(width_in, height_in, input_channels, kernel_size, kernel_filters, padding=0, stride=1, dilation=1):\n",
    "    width_out = ((width_in - (dilation * (kernel_size - 1)) + (2 * padding) - 1) / stride) + 1\n",
    "    height_out = ((height_in - (dilation * (kernel_size - 1))  + (2 * padding) - 1) / stride) + 1\n",
    "    output_channels = kernel_filters\n",
    "    \n",
    "    return width_out, height_out, output_channels"
   ]
  },
  {
   "cell_type": "markdown",
   "metadata": {
    "hidden": true
   },
   "source": []
  },
  {
   "cell_type": "code",
   "execution_count": null,
   "metadata": {
    "ExecuteTime": {
     "end_time": "2020-09-25T13:29:16.056367Z",
     "start_time": "2020-09-25T13:29:16.051794Z"
    },
    "hidden": true
   },
   "outputs": [],
   "source": [
    "def convTranspose2d_dim__pytorch(width_in, height_in, input_channels, kernel_size, kernel_filters, padding=0, stride=1, dilation=1, output_pad=0):\n",
    "    output_channels = kernel_filters\n",
    "    width_out = stride * (width_in - 1) + (dilation * (kernel_size - 1)) - (2 * padding) + output_pad + 1\n",
    "    height_out = stride * (height_in - 1) + (dilation * (kernel_size - 1)) - (2 * padding) + output_pad + 1\n",
    "    \n",
    "    return width_out, height_out, output_channels"
   ]
  },
  {
   "cell_type": "markdown",
   "metadata": {
    "heading_collapsed": true
   },
   "source": [
    "## Resnet dimension computation"
   ]
  },
  {
   "cell_type": "markdown",
   "metadata": {
    "heading_collapsed": true,
    "hidden": true
   },
   "source": [
    "### Test residual blocks"
   ]
  },
  {
   "cell_type": "markdown",
   "metadata": {
    "hidden": true
   },
   "source": [
    "Test Input and output dimensions for residual blocks"
   ]
  },
  {
   "cell_type": "code",
   "execution_count": null,
   "metadata": {
    "ExecuteTime": {
     "end_time": "2020-09-25T13:29:16.067506Z",
     "start_time": "2020-09-25T13:29:16.057606Z"
    },
    "hidden": true
   },
   "outputs": [],
   "source": [
    "conv2d_output_dimensions(121, 121, 3, 3, 32, stride=2, padding=1)"
   ]
  },
  {
   "cell_type": "code",
   "execution_count": null,
   "metadata": {
    "ExecuteTime": {
     "end_time": "2020-09-25T13:29:16.076309Z",
     "start_time": "2020-09-25T13:29:16.068950Z"
    },
    "hidden": true
   },
   "outputs": [],
   "source": [
    "conv2d_output_dimensions(61, 61, 3, 3, 32, stride=1, padding=1)"
   ]
  },
  {
   "cell_type": "code",
   "execution_count": null,
   "metadata": {
    "ExecuteTime": {
     "end_time": "2020-09-25T13:29:16.083062Z",
     "start_time": "2020-09-25T13:29:16.077516Z"
    },
    "hidden": true
   },
   "outputs": [],
   "source": [
    "conv2d_output_dimensions(121, 121, 3, 1, 32, stride=2, padding=0)"
   ]
  },
  {
   "cell_type": "markdown",
   "metadata": {
    "heading_collapsed": true,
    "hidden": true
   },
   "source": [
    "### Aerial Images 120x120 Encoder"
   ]
  },
  {
   "cell_type": "markdown",
   "metadata": {
    "heading_collapsed": true,
    "hidden": true
   },
   "source": [
    "#### Input"
   ]
  },
  {
   "cell_type": "code",
   "execution_count": null,
   "metadata": {
    "ExecuteTime": {
     "end_time": "2020-09-25T13:29:16.090298Z",
     "start_time": "2020-09-25T13:29:16.084312Z"
    },
    "hidden": true
   },
   "outputs": [],
   "source": [
    "conv2d_output_dimensions(121, 121, 3, 5, 32, stride=1, padding=2)"
   ]
  },
  {
   "cell_type": "markdown",
   "metadata": {
    "heading_collapsed": true,
    "hidden": true
   },
   "source": [
    "#### Residual Block 1"
   ]
  },
  {
   "cell_type": "code",
   "execution_count": null,
   "metadata": {
    "ExecuteTime": {
     "end_time": "2020-09-25T13:29:16.097071Z",
     "start_time": "2020-09-25T13:29:16.091407Z"
    },
    "hidden": true
   },
   "outputs": [],
   "source": [
    "conv2d_output_dimensions(121, 121, 3, 3, 32, stride=2, padding=1)"
   ]
  },
  {
   "cell_type": "code",
   "execution_count": null,
   "metadata": {
    "ExecuteTime": {
     "end_time": "2020-09-25T13:29:16.103971Z",
     "start_time": "2020-09-25T13:29:16.098125Z"
    },
    "hidden": true
   },
   "outputs": [],
   "source": [
    "conv2d_output_dimensions(61, 61, 32, 3, 32, stride=1, padding=1)"
   ]
  },
  {
   "cell_type": "code",
   "execution_count": null,
   "metadata": {
    "ExecuteTime": {
     "end_time": "2020-09-25T13:29:16.111504Z",
     "start_time": "2020-09-25T13:29:16.105112Z"
    },
    "hidden": true
   },
   "outputs": [],
   "source": [
    "conv2d_output_dimensions(121, 121, 3, 1, 32, padding=0, stride=2)"
   ]
  },
  {
   "cell_type": "markdown",
   "metadata": {
    "ExecuteTime": {
     "end_time": "2020-09-24T19:00:47.870188Z",
     "start_time": "2020-09-24T19:00:47.866781Z"
    },
    "heading_collapsed": true,
    "hidden": true
   },
   "source": [
    "#### Residual Block 2"
   ]
  },
  {
   "cell_type": "code",
   "execution_count": null,
   "metadata": {
    "ExecuteTime": {
     "end_time": "2020-09-25T13:29:16.118458Z",
     "start_time": "2020-09-25T13:29:16.112433Z"
    },
    "hidden": true
   },
   "outputs": [],
   "source": [
    "conv2d_output_dimensions(61, 61, 32, 3, 64, stride=2, padding=1)"
   ]
  },
  {
   "cell_type": "code",
   "execution_count": null,
   "metadata": {
    "ExecuteTime": {
     "end_time": "2020-09-25T13:29:16.126074Z",
     "start_time": "2020-09-25T13:29:16.119556Z"
    },
    "hidden": true
   },
   "outputs": [],
   "source": [
    "conv2d_output_dimensions(31, 31, 64, 3, 64, stride=1, padding=1)"
   ]
  },
  {
   "cell_type": "code",
   "execution_count": null,
   "metadata": {
    "ExecuteTime": {
     "end_time": "2020-09-25T13:29:16.132517Z",
     "start_time": "2020-09-25T13:29:16.127545Z"
    },
    "hidden": true,
    "scrolled": true
   },
   "outputs": [],
   "source": [
    "conv2d_output_dimensions(61, 61, 32, 1, 64, stride=2, padding=0)"
   ]
  },
  {
   "cell_type": "markdown",
   "metadata": {
    "heading_collapsed": true,
    "hidden": true
   },
   "source": [
    "#### Residual Block 3"
   ]
  },
  {
   "cell_type": "code",
   "execution_count": null,
   "metadata": {
    "ExecuteTime": {
     "end_time": "2020-09-25T13:29:16.139991Z",
     "start_time": "2020-09-25T13:29:16.134108Z"
    },
    "hidden": true
   },
   "outputs": [],
   "source": [
    "conv2d_output_dimensions(31, 31, 64, 3, 128, stride=2, padding=1)"
   ]
  },
  {
   "cell_type": "code",
   "execution_count": null,
   "metadata": {
    "ExecuteTime": {
     "end_time": "2020-09-25T13:29:16.146532Z",
     "start_time": "2020-09-25T13:29:16.141444Z"
    },
    "hidden": true
   },
   "outputs": [],
   "source": [
    "conv2d_output_dimensions(16, 16, 128, 3, 128, stride=1, padding=1)"
   ]
  },
  {
   "cell_type": "code",
   "execution_count": null,
   "metadata": {
    "ExecuteTime": {
     "end_time": "2020-09-25T13:29:16.153334Z",
     "start_time": "2020-09-25T13:29:16.148070Z"
    },
    "hidden": true
   },
   "outputs": [],
   "source": [
    "conv2d_output_dimensions(31, 31, 64, 1, 128, stride=2, padding=0)"
   ]
  },
  {
   "cell_type": "markdown",
   "metadata": {
    "heading_collapsed": true,
    "hidden": true
   },
   "source": [
    "### Aerial Images 120x120 Encoder Pytorch"
   ]
  },
  {
   "cell_type": "code",
   "execution_count": null,
   "metadata": {
    "ExecuteTime": {
     "end_time": "2020-09-25T13:29:16.160471Z",
     "start_time": "2020-09-25T13:29:16.155675Z"
    },
    "hidden": true
   },
   "outputs": [],
   "source": [
    "conv2d_output_dimensions_pytorch(121, 121, 3, 6, 32, stride=1, padding=2)"
   ]
  },
  {
   "cell_type": "code",
   "execution_count": null,
   "metadata": {
    "ExecuteTime": {
     "end_time": "2020-09-25T13:29:16.167114Z",
     "start_time": "2020-09-25T13:29:16.161820Z"
    },
    "hidden": true,
    "scrolled": true
   },
   "outputs": [],
   "source": [
    "conv2d_output_dimensions_pytorch(120, 120, 32, 4, 32, stride=2, padding=1)"
   ]
  },
  {
   "cell_type": "code",
   "execution_count": null,
   "metadata": {
    "ExecuteTime": {
     "end_time": "2020-09-25T13:29:16.174285Z",
     "start_time": "2020-09-25T13:29:16.168166Z"
    },
    "hidden": true
   },
   "outputs": [],
   "source": [
    "conv2d_output_dimensions_pytorch(61, 61, 32, 4, 32, stride=1, padding=1)"
   ]
  },
  {
   "cell_type": "code",
   "execution_count": null,
   "metadata": {
    "ExecuteTime": {
     "end_time": "2020-09-25T13:29:16.180781Z",
     "start_time": "2020-09-25T13:29:16.175407Z"
    },
    "hidden": true,
    "scrolled": true
   },
   "outputs": [],
   "source": [
    "conv2d_output_dimensions_pytorch(120, 120, 32, 2, 32, stride=2, padding=0)"
   ]
  },
  {
   "cell_type": "markdown",
   "metadata": {
    "heading_collapsed": true,
    "hidden": true
   },
   "source": [
    "### Aerial Images 120x120 Decoder Pytorch"
   ]
  },
  {
   "cell_type": "code",
   "execution_count": null,
   "metadata": {
    "ExecuteTime": {
     "end_time": "2020-09-25T13:29:16.187729Z",
     "start_time": "2020-09-25T13:29:16.181724Z"
    },
    "hidden": true
   },
   "outputs": [],
   "source": [
    "convTranspose2d_dim__pytorch(15, 15, 128, 4, 128, padding=1, stride=1)"
   ]
  },
  {
   "cell_type": "code",
   "execution_count": null,
   "metadata": {
    "ExecuteTime": {
     "end_time": "2020-09-25T13:29:16.194379Z",
     "start_time": "2020-09-25T13:29:16.189304Z"
    },
    "hidden": true
   },
   "outputs": [],
   "source": [
    "convTranspose2d_dim__pytorch(16, 16, 128, 4, 64, padding=2, stride=2)"
   ]
  },
  {
   "cell_type": "code",
   "execution_count": null,
   "metadata": {
    "ExecuteTime": {
     "end_time": "2020-09-25T13:29:16.200914Z",
     "start_time": "2020-09-25T13:29:16.195525Z"
    },
    "hidden": true
   },
   "outputs": [],
   "source": [
    "convTranspose2d_dim__pytorch(30, 30, 64, 4, 64, padding=1, stride=1)"
   ]
  },
  {
   "cell_type": "code",
   "execution_count": null,
   "metadata": {
    "ExecuteTime": {
     "end_time": "2020-09-25T13:29:16.207896Z",
     "start_time": "2020-09-25T13:29:16.202148Z"
    },
    "hidden": true
   },
   "outputs": [],
   "source": [
    "convTranspose2d_dim__pytorch(31, 31, 64, 4, 32, padding=2, stride=2)"
   ]
  },
  {
   "cell_type": "code",
   "execution_count": null,
   "metadata": {
    "ExecuteTime": {
     "end_time": "2020-09-25T13:29:16.214532Z",
     "start_time": "2020-09-25T13:29:16.208991Z"
    },
    "hidden": true
   },
   "outputs": [],
   "source": [
    "convTranspose2d_dim__pytorch(60, 60, 32, 4, 32, padding=1, stride=1)"
   ]
  },
  {
   "cell_type": "code",
   "execution_count": null,
   "metadata": {
    "ExecuteTime": {
     "end_time": "2020-09-25T13:29:16.220918Z",
     "start_time": "2020-09-25T13:29:16.215586Z"
    },
    "hidden": true
   },
   "outputs": [],
   "source": [
    "convTranspose2d_dim__pytorch(61, 61, 32, 4, 32, padding=2, stride=2)"
   ]
  },
  {
   "cell_type": "code",
   "execution_count": null,
   "metadata": {
    "ExecuteTime": {
     "end_time": "2020-09-25T13:29:16.227388Z",
     "start_time": "2020-09-25T13:29:16.221826Z"
    },
    "hidden": true
   },
   "outputs": [],
   "source": [
    "convTranspose2d_dim__pytorch(120, 120, 32, 4, 3, padding=1, stride=1)"
   ]
  },
  {
   "cell_type": "code",
   "execution_count": null,
   "metadata": {
    "hidden": true
   },
   "outputs": [],
   "source": []
  },
  {
   "cell_type": "markdown",
   "metadata": {
    "heading_collapsed": true,
    "hidden": true
   },
   "source": [
    "### Aerial Images 120x120 Decoder"
   ]
  },
  {
   "cell_type": "code",
   "execution_count": null,
   "metadata": {
    "ExecuteTime": {
     "end_time": "2020-09-25T13:29:16.234552Z",
     "start_time": "2020-09-25T13:29:16.228359Z"
    },
    "hidden": true
   },
   "outputs": [],
   "source": [
    "convTranspose2d_dim(16, 16, 128, 4, 128, padding=1, stride=1)"
   ]
  },
  {
   "cell_type": "code",
   "execution_count": null,
   "metadata": {
    "ExecuteTime": {
     "end_time": "2020-09-25T13:29:16.240888Z",
     "start_time": "2020-09-25T13:29:16.235515Z"
    },
    "hidden": true,
    "scrolled": true
   },
   "outputs": [],
   "source": [
    "convTranspose2d_dim(17, 17, 128, 4, 64, padding=2, stride=2)"
   ]
  },
  {
   "cell_type": "code",
   "execution_count": null,
   "metadata": {
    "ExecuteTime": {
     "end_time": "2020-09-25T13:29:16.247747Z",
     "start_time": "2020-09-25T13:29:16.241880Z"
    },
    "hidden": true
   },
   "outputs": [],
   "source": [
    "convTranspose2d_dim(32, 32, 64, 3, 64, padding=1, stride=1)"
   ]
  },
  {
   "cell_type": "code",
   "execution_count": null,
   "metadata": {
    "ExecuteTime": {
     "end_time": "2020-09-25T13:29:16.254812Z",
     "start_time": "2020-09-25T13:29:16.249120Z"
    },
    "hidden": true
   },
   "outputs": [],
   "source": [
    "convTranspose2d_dim(32, 32, 64, 3, 32, padding=2, stride=2)"
   ]
  },
  {
   "cell_type": "code",
   "execution_count": null,
   "metadata": {
    "ExecuteTime": {
     "end_time": "2020-09-25T13:29:16.263637Z",
     "start_time": "2020-09-25T13:29:16.255825Z"
    },
    "hidden": true
   },
   "outputs": [],
   "source": [
    "convTranspose2d_dim(61, 61, 32, 3, 32, padding=1, stride=1)"
   ]
  },
  {
   "cell_type": "code",
   "execution_count": null,
   "metadata": {
    "ExecuteTime": {
     "end_time": "2020-09-25T13:29:16.270236Z",
     "start_time": "2020-09-25T13:29:16.264699Z"
    },
    "hidden": true
   },
   "outputs": [],
   "source": [
    "convTranspose2d_dim(67, 67, 32, 3, 32, padding=2, stride=2)"
   ]
  },
  {
   "cell_type": "code",
   "execution_count": null,
   "metadata": {
    "ExecuteTime": {
     "end_time": "2020-09-25T13:29:16.276991Z",
     "start_time": "2020-09-25T13:29:16.271164Z"
    },
    "hidden": true
   },
   "outputs": [],
   "source": [
    "convTranspose2d_dim(119, 119, 32, 6, 3, padding=2, stride=1)"
   ]
  },
  {
   "cell_type": "markdown",
   "metadata": {},
   "source": [
    "## Project Configs"
   ]
  },
  {
   "cell_type": "code",
   "execution_count": 4,
   "metadata": {
    "ExecuteTime": {
     "end_time": "2020-09-30T14:59:52.508917Z",
     "start_time": "2020-09-30T14:59:52.506566Z"
    }
   },
   "outputs": [],
   "source": [
    "# number of subprocesses to use for data loading\n",
    "num_workers = 10\n",
    "# how many samples per batch to load\n",
    "batch_size = 32\n",
    "# Learning rate\n",
    "learning_rate = 1e-4\n",
    "# epochs\n",
    "epochs = 50\n",
    "\n",
    "log_interval = 100"
   ]
  },
  {
   "cell_type": "markdown",
   "metadata": {
    "heading_collapsed": true
   },
   "source": [
    "## Custom Dataset Class"
   ]
  },
  {
   "cell_type": "code",
   "execution_count": 5,
   "metadata": {
    "ExecuteTime": {
     "end_time": "2020-09-30T14:59:56.054577Z",
     "start_time": "2020-09-30T14:59:55.689012Z"
    },
    "hidden": true
   },
   "outputs": [],
   "source": [
    "import pandas as pd\n",
    "from torch.utils.data import Dataset \n",
    "import cv2\n",
    "import os\n",
    "import glob\n",
    "import torch\n",
    "from skimage import io\n",
    "import random\n",
    "from torch.utils.data.sampler import SubsetRandomSampler\n",
    "from torch.utils.data import DataLoader\n",
    "import PIL\n",
    "import matplotlib.pyplot as plt\n",
    "import numpy as np"
   ]
  },
  {
   "cell_type": "code",
   "execution_count": 6,
   "metadata": {
    "ExecuteTime": {
     "end_time": "2020-09-30T14:59:56.080675Z",
     "start_time": "2020-09-30T14:59:56.075557Z"
    },
    "hidden": true
   },
   "outputs": [
    {
     "name": "stdout",
     "output_type": "stream",
     "text": [
      "4.4.0\n"
     ]
    }
   ],
   "source": [
    "print(cv2.__version__)"
   ]
  },
  {
   "cell_type": "code",
   "execution_count": 7,
   "metadata": {
    "ExecuteTime": {
     "end_time": "2020-09-30T14:59:58.727685Z",
     "start_time": "2020-09-30T14:59:58.725469Z"
    },
    "hidden": true
   },
   "outputs": [],
   "source": [
    "root_dir = \"../data/drone_racing_50k\"\n",
    "root_dir_images = \"../data/drone_racing_50k/images\""
   ]
  },
  {
   "cell_type": "markdown",
   "metadata": {
    "heading_collapsed": true,
    "hidden": true
   },
   "source": [
    "### Test pandas df"
   ]
  },
  {
   "cell_type": "code",
   "execution_count": null,
   "metadata": {
    "ExecuteTime": {
     "end_time": "2020-09-30T13:44:48.556728Z",
     "start_time": "2020-09-30T13:44:48.515559Z"
    },
    "hidden": true
   },
   "outputs": [],
   "source": [
    "annotations = pd.read_csv(\"../data/drone_racing_50k/gate_training_data.csv\")"
   ]
  },
  {
   "cell_type": "code",
   "execution_count": null,
   "metadata": {
    "ExecuteTime": {
     "end_time": "2020-09-30T13:44:48.996022Z",
     "start_time": "2020-09-30T13:44:48.978324Z"
    },
    "hidden": true
   },
   "outputs": [],
   "source": [
    "annotations"
   ]
  },
  {
   "cell_type": "code",
   "execution_count": null,
   "metadata": {
    "ExecuteTime": {
     "end_time": "2020-09-30T13:44:49.141013Z",
     "start_time": "2020-09-30T13:44:49.134406Z"
    },
    "hidden": true
   },
   "outputs": [],
   "source": [
    "annotations.iloc[0, 0]"
   ]
  },
  {
   "cell_type": "code",
   "execution_count": null,
   "metadata": {
    "ExecuteTime": {
     "end_time": "2020-09-30T13:44:49.314717Z",
     "start_time": "2020-09-30T13:44:49.310667Z"
    },
    "hidden": true
   },
   "outputs": [],
   "source": [
    "values = annotations.iloc[0, 0].split()\n",
    "values"
   ]
  },
  {
   "cell_type": "code",
   "execution_count": null,
   "metadata": {
    "ExecuteTime": {
     "end_time": "2020-09-30T13:44:49.475212Z",
     "start_time": "2020-09-30T13:44:49.471462Z"
    },
    "hidden": true
   },
   "outputs": [],
   "source": [
    "values_number = [float(i) for i in values]\n",
    "values_number"
   ]
  },
  {
   "cell_type": "code",
   "execution_count": null,
   "metadata": {
    "ExecuteTime": {
     "end_time": "2020-09-30T13:44:49.676189Z",
     "start_time": "2020-09-30T13:44:49.652303Z"
    },
    "hidden": true
   },
   "outputs": [],
   "source": [
    "values_tensor = torch.Tensor(values_number)\n",
    "values_tensor"
   ]
  },
  {
   "cell_type": "code",
   "execution_count": null,
   "metadata": {
    "ExecuteTime": {
     "end_time": "2020-09-30T13:44:50.176179Z",
     "start_time": "2020-09-30T13:44:50.172513Z"
    },
    "hidden": true
   },
   "outputs": [],
   "source": [
    "type(values_tensor)"
   ]
  },
  {
   "cell_type": "code",
   "execution_count": null,
   "metadata": {
    "ExecuteTime": {
     "end_time": "2020-09-30T13:44:50.473683Z",
     "start_time": "2020-09-30T13:44:50.469352Z"
    },
    "hidden": true
   },
   "outputs": [],
   "source": [
    "annotations.iloc[1, 0]"
   ]
  },
  {
   "cell_type": "markdown",
   "metadata": {
    "heading_collapsed": true,
    "hidden": true
   },
   "source": [
    "### Check Images Directory"
   ]
  },
  {
   "cell_type": "code",
   "execution_count": 8,
   "metadata": {
    "ExecuteTime": {
     "end_time": "2020-09-30T15:00:54.173774Z",
     "start_time": "2020-09-30T15:00:54.076054Z"
    },
    "hidden": true
   },
   "outputs": [
    {
     "data": {
      "text/plain": [
       "'../data/drone_racing_50k/images/00555.png'"
      ]
     },
     "execution_count": 8,
     "metadata": {},
     "output_type": "execute_result"
    }
   ],
   "source": [
    "images_list = glob.glob(os.path.join(root_dir_images, '*.png'))\n",
    "images_list.sort()\n",
    "images_list[555]"
   ]
  },
  {
   "cell_type": "code",
   "execution_count": 9,
   "metadata": {
    "ExecuteTime": {
     "end_time": "2020-09-30T15:00:54.964736Z",
     "start_time": "2020-09-30T15:00:54.962046Z"
    },
    "hidden": true
   },
   "outputs": [
    {
     "data": {
      "text/plain": [
       "'../data/drone_racing_50k/images'"
      ]
     },
     "execution_count": 9,
     "metadata": {},
     "output_type": "execute_result"
    }
   ],
   "source": [
    "os.path.join(root_dir, 'images')"
   ]
  },
  {
   "cell_type": "markdown",
   "metadata": {
    "heading_collapsed": true,
    "hidden": true
   },
   "source": [
    "### Build Custom Dataset Class"
   ]
  },
  {
   "cell_type": "code",
   "execution_count": 10,
   "metadata": {
    "ExecuteTime": {
     "end_time": "2020-09-30T15:00:57.196229Z",
     "start_time": "2020-09-30T15:00:57.191259Z"
    },
    "hidden": true
   },
   "outputs": [],
   "source": [
    "class DroneRacingDataset(Dataset):\n",
    "    \n",
    "    def __init__(self, csv_file, root_dir, transform=None):\n",
    "        self.annotations_path = os.path.join(root_dir, csv_file)\n",
    "        self.annotations = pd.read_csv(self.annotations_path)\n",
    "        self.root_dir = root_dir\n",
    "        self.root_dir_images = os.path.join(root_dir, 'images')\n",
    "        self.transform = transform\n",
    "        self.images_list = glob.glob(os.path.join(root_dir_images, '*.png'))\n",
    "        self.images_list.sort()\n",
    "        self.transform = transform\n",
    "\n",
    "    def __len__(self):\n",
    "        return len(self.annotations)\n",
    "    \n",
    "    def __getitem__(self, index):\n",
    "        #############\n",
    "        # get label #\n",
    "        #############\n",
    "        label_str_values = self.annotations.iloc[index, 0].split()\n",
    "        values_number = [float(i) for i in label_str_values]\n",
    "        label = torch.Tensor(values_number)\n",
    "        \n",
    "        #############\n",
    "        # get image #\n",
    "        #############\n",
    "        # get image path\n",
    "        img_path = images_list[index]\n",
    "\n",
    "        # read image with opencv\n",
    "        image = cv2.imread(img_path, cv2.IMREAD_COLOR)\n",
    "\n",
    "        # convert from BGR (opencv default) to RGB format\n",
    "        image = cv2.cvtColor(image, cv2.COLOR_BGR2RGB)\n",
    "\n",
    "        # convert to PIL image for transformations\n",
    "        image = PIL.Image.fromarray(image) \n",
    "\n",
    "        if self.transform:\n",
    "            image = self.transform(image)\n",
    "\n",
    "        return (image, label)"
   ]
  },
  {
   "cell_type": "markdown",
   "metadata": {
    "heading_collapsed": true,
    "hidden": true
   },
   "source": [
    "### Instantiate Custom Dataset"
   ]
  },
  {
   "cell_type": "code",
   "execution_count": 11,
   "metadata": {
    "ExecuteTime": {
     "end_time": "2020-09-30T15:00:58.380633Z",
     "start_time": "2020-09-30T15:00:58.374372Z"
    },
    "hidden": true
   },
   "outputs": [],
   "source": [
    "root_dir = \"../data/drone_racing_50k\""
   ]
  },
  {
   "cell_type": "markdown",
   "metadata": {
    "hidden": true
   },
   "source": [
    "__Dataset Image details__\n",
    "\n",
    "Images size is: 120 x 120\n",
    "\n",
    "To match the required input from the Neural Networks (our customized Resnet-8), we convert our image to 121 x 121 size"
   ]
  },
  {
   "cell_type": "code",
   "execution_count": 12,
   "metadata": {
    "ExecuteTime": {
     "end_time": "2020-09-30T15:00:59.298943Z",
     "start_time": "2020-09-30T15:00:59.296740Z"
    },
    "hidden": true
   },
   "outputs": [],
   "source": [
    "# Prepare Image Transforms\n",
    "transform=transforms.Compose([\n",
    "                            transforms.Pad((0, 0, 1, 1), fill=0, padding_mode='edge'),\n",
    "                            transforms.ToTensor()\n",
    "                            ])"
   ]
  },
  {
   "cell_type": "code",
   "execution_count": 13,
   "metadata": {
    "ExecuteTime": {
     "end_time": "2020-09-30T15:00:59.958697Z",
     "start_time": "2020-09-30T15:00:59.813752Z"
    },
    "hidden": true
   },
   "outputs": [],
   "source": [
    "dataset = DroneRacingDataset('gate_training_data.csv', root_dir, transform=transform)"
   ]
  },
  {
   "cell_type": "markdown",
   "metadata": {
    "heading_collapsed": true,
    "hidden": true
   },
   "source": [
    "### Build Dataset Samplers"
   ]
  },
  {
   "cell_type": "code",
   "execution_count": 14,
   "metadata": {
    "ExecuteTime": {
     "end_time": "2020-09-30T15:01:01.495651Z",
     "start_time": "2020-09-30T15:01:01.492556Z"
    },
    "hidden": true,
    "scrolled": true
   },
   "outputs": [
    {
     "data": {
      "text/plain": [
       "50000"
      ]
     },
     "execution_count": 14,
     "metadata": {},
     "output_type": "execute_result"
    }
   ],
   "source": [
    "dataset_len = len(dataset)\n",
    "dataset_len"
   ]
  },
  {
   "cell_type": "code",
   "execution_count": 15,
   "metadata": {
    "ExecuteTime": {
     "end_time": "2020-09-30T15:01:01.745608Z",
     "start_time": "2020-09-30T15:01:01.741973Z"
    },
    "hidden": true
   },
   "outputs": [],
   "source": [
    "valid_size = 0.2"
   ]
  },
  {
   "cell_type": "code",
   "execution_count": 16,
   "metadata": {
    "ExecuteTime": {
     "end_time": "2020-09-30T15:01:04.421837Z",
     "start_time": "2020-09-30T15:01:04.397370Z"
    },
    "hidden": true
   },
   "outputs": [],
   "source": [
    "indices = list(range(dataset_len))\n",
    "# indices\n",
    "random.shuffle(indices)\n",
    "# indices\n",
    "split = int(np.floor(valid_size * dataset_len))\n",
    "train_idx, valid_idx = indices[split:], indices[:split]\n",
    "# define samplers for obtaining training and validation batches\n",
    "train_sampler = SubsetRandomSampler(train_idx)\n",
    "valid_sampler = SubsetRandomSampler(valid_idx)\n"
   ]
  },
  {
   "cell_type": "markdown",
   "metadata": {
    "heading_collapsed": true,
    "hidden": true
   },
   "source": [
    "### Dataloaders 50k"
   ]
  },
  {
   "cell_type": "code",
   "execution_count": 17,
   "metadata": {
    "ExecuteTime": {
     "end_time": "2020-09-30T15:01:07.556527Z",
     "start_time": "2020-09-30T15:01:07.551257Z"
    },
    "hidden": true
   },
   "outputs": [],
   "source": [
    "# prepare data loaders\n",
    "train_loader = DataLoader(dataset, \n",
    "                          batch_size=batch_size,\n",
    "                          sampler=train_sampler,\n",
    "                          num_workers=num_workers)\n",
    "\n",
    "test_loader = DataLoader(dataset,\n",
    "                         batch_size=batch_size,\n",
    "                         sampler=valid_sampler,\n",
    "                         num_workers=num_workers)\n"
   ]
  },
  {
   "cell_type": "markdown",
   "metadata": {
    "heading_collapsed": true,
    "hidden": true
   },
   "source": [
    "#### Show a sample"
   ]
  },
  {
   "cell_type": "code",
   "execution_count": 18,
   "metadata": {
    "ExecuteTime": {
     "end_time": "2020-09-30T15:01:13.596290Z",
     "start_time": "2020-09-30T15:01:13.133107Z"
    },
    "hidden": true
   },
   "outputs": [
    {
     "data": {
      "image/png": "[encoded data removed]",
      "text/plain": [
       "<Figure size 432x288 with 1 Axes>"
      ]
     },
     "metadata": {
      "needs_background": "light"
     },
     "output_type": "display_data"
    }
   ],
   "source": [
    "dataiter = iter(train_loader)\n",
    "batch_data, labels = dataiter.next()\n",
    "\n",
    "batch_image = batch_data[0]\n",
    "image_tensor = batch_image\n",
    "\n",
    "# create grid of images\n",
    "img_grid = make_grid(batch_data)\n",
    "\n",
    "image_numpy = image_tensor.numpy()\n",
    "image_numpy.shape\n",
    "\n",
    "image_reshaped = np.rollaxis(image_numpy,0,3)\n",
    "image_reshaped.shape\n",
    "\n",
    "img = np.array(image_reshaped)\n",
    "\n",
    "plt.imshow(img)\n",
    "plt.show()\n",
    "\n",
    "# write to tensorboard\n",
    "writer.add_image('grid_aerial_images', img_grid)"
   ]
  },
  {
   "cell_type": "code",
   "execution_count": 19,
   "metadata": {
    "ExecuteTime": {
     "end_time": "2020-09-30T15:01:14.847815Z",
     "start_time": "2020-09-30T15:01:14.844819Z"
    },
    "hidden": true
   },
   "outputs": [
    {
     "data": {
      "text/plain": [
       "torch.Size([32, 3, 121, 121])"
      ]
     },
     "execution_count": 19,
     "metadata": {},
     "output_type": "execute_result"
    }
   ],
   "source": [
    "batch_data.size()"
   ]
  },
  {
   "cell_type": "markdown",
   "metadata": {
    "heading_collapsed": true,
    "hidden": true
   },
   "source": [
    "### Data Loaders 1k"
   ]
  },
  {
   "cell_type": "code",
   "execution_count": null,
   "metadata": {
    "ExecuteTime": {
     "end_time": "2020-09-27T23:13:20.054190Z",
     "start_time": "2020-09-27T23:13:20.052371Z"
    },
    "hidden": true
   },
   "outputs": [],
   "source": [
    "root_train = \"../data/drone_image_data_1k/Training\"\n",
    "root_test = \"../data/drone_image_data_1k/Test\""
   ]
  },
  {
   "cell_type": "code",
   "execution_count": null,
   "metadata": {
    "ExecuteTime": {
     "end_time": "2020-09-27T23:13:24.040561Z",
     "start_time": "2020-09-27T23:13:24.038073Z"
    },
    "hidden": true
   },
   "outputs": [],
   "source": [
    "transform=transforms.Compose([\n",
    "                            transforms.Pad((0, 0, 1, 1), fill=0, padding_mode='edge'),\n",
    "                            transforms.ToTensor()\n",
    "                            ])\n"
   ]
  },
  {
   "cell_type": "code",
   "execution_count": null,
   "metadata": {
    "ExecuteTime": {
     "end_time": "2020-09-27T23:13:25.380203Z",
     "start_time": "2020-09-27T23:13:25.364971Z"
    },
    "hidden": true
   },
   "outputs": [],
   "source": [
    "train_loader = torch.utils.data.DataLoader(datasets.ImageFolder(root_train, transform=transform),\n",
    "                                           batch_size=batch_size,\n",
    "                                           num_workers=num_workers,\n",
    "                                           shuffle=True)\n",
    "\n",
    "test_loader = torch.utils.data.DataLoader(datasets.ImageFolder(root_test, transform=transform),\n",
    "                                          batch_size=batch_size,\n",
    "                                          num_workers=num_workers,\n",
    "                                          shuffle=True)"
   ]
  },
  {
   "cell_type": "code",
   "execution_count": null,
   "metadata": {
    "ExecuteTime": {
     "end_time": "2020-09-27T23:13:27.268376Z",
     "start_time": "2020-09-27T23:13:27.142119Z"
    },
    "hidden": true
   },
   "outputs": [],
   "source": [
    "# create iterator\n",
    "dataiter = iter(train_loader)\n",
    "# Get batch samples and labels\n",
    "batch_images, batch_labels = dataiter.next()\n",
    "\n",
    "# batch_images_samples = batch_images.to(device)\n",
    "# batch_labels_samples = batch_labels.to(device)"
   ]
  },
  {
   "cell_type": "code",
   "execution_count": null,
   "metadata": {
    "ExecuteTime": {
     "end_time": "2020-09-27T23:13:29.214612Z",
     "start_time": "2020-09-27T23:13:29.211748Z"
    },
    "hidden": true
   },
   "outputs": [],
   "source": [
    "batch_images, batch_labels = dataiter.next()"
   ]
  },
  {
   "cell_type": "code",
   "execution_count": null,
   "metadata": {
    "ExecuteTime": {
     "end_time": "2020-09-27T23:13:29.868927Z",
     "start_time": "2020-09-27T23:13:29.863542Z"
    },
    "hidden": true
   },
   "outputs": [],
   "source": [
    "batch_images.shape"
   ]
  },
  {
   "cell_type": "code",
   "execution_count": null,
   "metadata": {
    "ExecuteTime": {
     "end_time": "2020-09-27T23:13:30.970414Z",
     "start_time": "2020-09-27T23:13:30.967604Z"
    },
    "hidden": true
   },
   "outputs": [],
   "source": [
    "batch_images[0].shape"
   ]
  },
  {
   "cell_type": "markdown",
   "metadata": {},
   "source": [
    "## Models"
   ]
  },
  {
   "cell_type": "markdown",
   "metadata": {
    "heading_collapsed": true
   },
   "source": [
    "### My Dronet Pytorch Implementation"
   ]
  },
  {
   "cell_type": "code",
   "execution_count": 20,
   "metadata": {
    "ExecuteTime": {
     "end_time": "2020-09-30T15:01:21.923155Z",
     "start_time": "2020-09-30T15:01:21.906997Z"
    },
    "hidden": true
   },
   "outputs": [],
   "source": [
    "class Dronet(nn.Module):\n",
    "    def __init__(self, output_dim=64):\n",
    "        super(Dronet, self).__init__()\n",
    "        # super().__init__(img_dims, img_channels, output_dim)       \n",
    "        # Input layer\n",
    "        self.conv0 = nn.Conv2d(3, 32, kernel_size=6, stride=1, padding=2)\n",
    "        \n",
    "        ##########################\n",
    "        # Residual Block Layer 1 #\n",
    "        ##########################\n",
    "        self.bn1_1 = nn.BatchNorm2d(32)\n",
    "        self.conv1_1 = nn.Conv2d(32, 32, kernel_size=4, stride=2, padding=1)\n",
    "        \n",
    "        self.bn1_2 = nn.BatchNorm2d(32)\n",
    "        self.conv1_2 = nn.Conv2d(32, 32, kernel_size=4, stride=1, padding=1)\n",
    "        \n",
    "        self.conv1_res_down = nn.Conv2d(32, 32, kernel_size=2, stride=2, padding=0)\n",
    "        \n",
    "        ##########################\n",
    "        # Residual Block Layer 2 #\n",
    "        ##########################\n",
    "        self.bn2_1 = nn.BatchNorm2d(32)\n",
    "        self.conv2_1 = nn.Conv2d(32, 64, kernel_size=4, stride=2, padding=1)\n",
    "        \n",
    "        self.bn2_2 = nn.BatchNorm2d(64)\n",
    "        self.conv2_2 = nn.Conv2d(64, 64, kernel_size=4, stride=1, padding=1)\n",
    "        \n",
    "        self.conv2_res_down = nn.Conv2d(32, 64, kernel_size=2, stride=2, padding=0)\n",
    "        \n",
    "        ##########################\n",
    "        # Residual Block Layer 3 #\n",
    "        ##########################\n",
    "        self.bn3_1 = nn.BatchNorm2d(64)\n",
    "        self.conv3_1 = nn.Conv2d(64, 128, kernel_size=4, stride=2, padding=1)\n",
    "        \n",
    "        self.bn3_2 = nn.BatchNorm2d(128)\n",
    "        self.conv3_2 = nn.Conv2d(128, 128, kernel_size=4, stride=1, padding=1)\n",
    "        \n",
    "        self.conv3_res_down = nn.Conv2d(64, 128, kernel_size=2, stride=2, padding=0)\n",
    "        \n",
    "        # Flatten layer\n",
    "        # self.flatten = nn.Flatten(16 * 16 * 128)\n",
    "        \n",
    "        self.dropout1 = nn.Dropout(p=0.5)\n",
    "        \n",
    "        # Fully Connected Layers\n",
    "        self.fc1 = nn.Linear(15 * 15 * 128, 128)\n",
    "        self.fc2 = nn.Linear(128, output_dim)\n",
    "        # self.fc2 = nn.Linear(128, 64)\n",
    "        # self.fc3 = nn.Linear(64, output_dim)\n",
    "        \n",
    "    def forward(self, x):\n",
    "        # Input\n",
    "        x0 = self.conv0(x)\n",
    "        \n",
    "        ##########################\n",
    "        # Residual Block Layer 1 #\n",
    "        ##########################\n",
    "        x1 = self.bn1_1(x0)\n",
    "        x1 = F.relu(x1)\n",
    "        x1 = self.conv1_1(x1)\n",
    "        \n",
    "        # padding\n",
    "        x1 = F.pad(x1, (0,1,0,1), mode='replicate')\n",
    "        \n",
    "        x1 = self.bn1_2(x1)\n",
    "        x1 = F.relu(x1)\n",
    "        x1 = self.conv1_2(x1)\n",
    "        # print(\"conv2 shape:\")\n",
    "        # print(x1.shape)\n",
    "        \n",
    "        x2 = self.conv1_res_down(x0)\n",
    "        \n",
    "        res1out = torch.add(x1, x2)\n",
    "        \n",
    "        ##########################\n",
    "        # Residual Block Layer 2 #\n",
    "        ##########################\n",
    "        x1 = self.bn2_1(res1out)\n",
    "        x1 = F.relu(x1)\n",
    "        x1 = self.conv2_1(x1)\n",
    "        \n",
    "        # padding\n",
    "        x1 = F.pad(x1, (0,1,0,1), mode='replicate')\n",
    "        \n",
    "        x1 = self.bn2_2(x1)\n",
    "        x1 = F.relu(x1)\n",
    "        x1 = self.conv2_2(x1)\n",
    "        \n",
    "        x2 = self.conv2_res_down(res1out)\n",
    "        \n",
    "        res2out = torch.add(x1, x2)\n",
    "        \n",
    "        ##########################\n",
    "        # Residual Block Layer 3 #\n",
    "        ##########################\n",
    "        x1 = self.bn3_1(res2out)\n",
    "        x1 = F.relu(x1)\n",
    "        x1 = self.conv3_1(x1)\n",
    "        \n",
    "        # padding\n",
    "        x1 = F.pad(x1, (0,1,0,1), mode='replicate')\n",
    "        \n",
    "        x1 = self.bn3_2(x1)\n",
    "        x1 = F.relu(x1)\n",
    "        x1 = self.conv3_2(x1)\n",
    "\n",
    "        x2 = self.conv3_res_down(res2out)\n",
    "\n",
    "        res3out = torch.add(x1, x2)\n",
    "\n",
    "        \n",
    "        # Flatten\n",
    "        x = res3out.view(-1, 15 * 15 * 128)\n",
    "        x = self.fc1(x)\n",
    "        x = F.relu(x)\n",
    "        x = self.dropout1(x)\n",
    "        output = self.fc2(x)\n",
    "        # print(\"conv_res shape:\")\n",
    "        # print(output.shape)\n",
    "        # print(\"\")\n",
    "        # x = self.fc2(x)\n",
    "        # output = self.fc3(x)\n",
    "\n",
    "        return output"
   ]
  },
  {
   "cell_type": "code",
   "execution_count": 21,
   "metadata": {
    "ExecuteTime": {
     "end_time": "2020-09-30T15:01:22.558092Z",
     "start_time": "2020-09-30T15:01:22.512518Z"
    },
    "hidden": true
   },
   "outputs": [
    {
     "data": {
      "text/plain": [
       "Dronet(\n",
       "  (conv0): Conv2d(3, 32, kernel_size=(6, 6), stride=(1, 1), padding=(2, 2))\n",
       "  (bn1_1): BatchNorm2d(32, eps=1e-05, momentum=0.1, affine=True, track_running_stats=True)\n",
       "  (conv1_1): Conv2d(32, 32, kernel_size=(4, 4), stride=(2, 2), padding=(1, 1))\n",
       "  (bn1_2): BatchNorm2d(32, eps=1e-05, momentum=0.1, affine=True, track_running_stats=True)\n",
       "  (conv1_2): Conv2d(32, 32, kernel_size=(4, 4), stride=(1, 1), padding=(1, 1))\n",
       "  (conv1_res_down): Conv2d(32, 32, kernel_size=(2, 2), stride=(2, 2))\n",
       "  (bn2_1): BatchNorm2d(32, eps=1e-05, momentum=0.1, affine=True, track_running_stats=True)\n",
       "  (conv2_1): Conv2d(32, 64, kernel_size=(4, 4), stride=(2, 2), padding=(1, 1))\n",
       "  (bn2_2): BatchNorm2d(64, eps=1e-05, momentum=0.1, affine=True, track_running_stats=True)\n",
       "  (conv2_2): Conv2d(64, 64, kernel_size=(4, 4), stride=(1, 1), padding=(1, 1))\n",
       "  (conv2_res_down): Conv2d(32, 64, kernel_size=(2, 2), stride=(2, 2))\n",
       "  (bn3_1): BatchNorm2d(64, eps=1e-05, momentum=0.1, affine=True, track_running_stats=True)\n",
       "  (conv3_1): Conv2d(64, 128, kernel_size=(4, 4), stride=(2, 2), padding=(1, 1))\n",
       "  (bn3_2): BatchNorm2d(128, eps=1e-05, momentum=0.1, affine=True, track_running_stats=True)\n",
       "  (conv3_2): Conv2d(128, 128, kernel_size=(4, 4), stride=(1, 1), padding=(1, 1))\n",
       "  (conv3_res_down): Conv2d(64, 128, kernel_size=(2, 2), stride=(2, 2))\n",
       "  (dropout1): Dropout(p=0.5, inplace=False)\n",
       "  (fc1): Linear(in_features=28800, out_features=128, bias=True)\n",
       "  (fc2): Linear(in_features=128, out_features=64, bias=True)\n",
       ")"
      ]
     },
     "execution_count": 21,
     "metadata": {},
     "output_type": "execute_result"
    }
   ],
   "source": [
    "model = Dronet()\n",
    "model"
   ]
  },
  {
   "cell_type": "markdown",
   "metadata": {
    "heading_collapsed": true
   },
   "source": [
    "### Decoder"
   ]
  },
  {
   "cell_type": "code",
   "execution_count": 22,
   "metadata": {
    "ExecuteTime": {
     "end_time": "2020-09-30T15:01:23.595059Z",
     "start_time": "2020-09-30T15:01:23.588981Z"
    },
    "hidden": true
   },
   "outputs": [],
   "source": [
    "class ImageDecoder(nn.Module):\n",
    "    def __init__(self):\n",
    "        super().__init__()\n",
    "        # Decoder\n",
    "        self.convT1 = nn.ConvTranspose2d(128, 128, kernel_size=4, stride=1, padding=1)\n",
    "        self.convT2 = nn.ConvTranspose2d(128, 64, kernel_size=4, stride=2, padding=2)\n",
    "        \n",
    "        self.convT3 = nn.ConvTranspose2d(64, 64, kernel_size=4, stride=1, padding=1)\n",
    "        self.convT4 = nn.ConvTranspose2d(64, 32, kernel_size=4, stride=2, padding=2)\n",
    "        \n",
    "        self.convT5 = nn.ConvTranspose2d(32, 32, kernel_size=4, stride=1, padding=1)\n",
    "        self.convT6 = nn.ConvTranspose2d(32, 32, kernel_size=4, stride=2, padding=2)\n",
    "        \n",
    "        self.convT7 = nn.ConvTranspose2d(32, 3, kernel_size=4, stride=1, padding=1)\n",
    "    \n",
    "    def forward(self, x):\n",
    "        x = x.view(-1, 128, 15, 15)\n",
    "        x = self.convT1(x)\n",
    "        x = F.relu(x)\n",
    "        x = self.convT2(x)\n",
    "        x = F.relu(x)\n",
    "        x = self.convT3(x)\n",
    "        x = F.relu(x)\n",
    "        x = self.convT4(x)\n",
    "        x = F.relu(x)\n",
    "        x = self.convT5(x)\n",
    "        x = F.relu(x)\n",
    "        x = self.convT6(x)\n",
    "        x = F.relu(x)\n",
    "        x = self.convT7(x)\n",
    "        \n",
    "        return x"
   ]
  },
  {
   "cell_type": "code",
   "execution_count": 23,
   "metadata": {
    "ExecuteTime": {
     "end_time": "2020-09-30T15:01:24.057508Z",
     "start_time": "2020-09-30T15:01:24.047503Z"
    },
    "hidden": true
   },
   "outputs": [
    {
     "data": {
      "text/plain": [
       "ImageDecoder(\n",
       "  (convT1): ConvTranspose2d(128, 128, kernel_size=(4, 4), stride=(1, 1), padding=(1, 1))\n",
       "  (convT2): ConvTranspose2d(128, 64, kernel_size=(4, 4), stride=(2, 2), padding=(2, 2))\n",
       "  (convT3): ConvTranspose2d(64, 64, kernel_size=(4, 4), stride=(1, 1), padding=(1, 1))\n",
       "  (convT4): ConvTranspose2d(64, 32, kernel_size=(4, 4), stride=(2, 2), padding=(2, 2))\n",
       "  (convT5): ConvTranspose2d(32, 32, kernel_size=(4, 4), stride=(1, 1), padding=(1, 1))\n",
       "  (convT6): ConvTranspose2d(32, 32, kernel_size=(4, 4), stride=(2, 2), padding=(2, 2))\n",
       "  (convT7): ConvTranspose2d(32, 3, kernel_size=(4, 4), stride=(1, 1), padding=(1, 1))\n",
       ")"
      ]
     },
     "execution_count": 23,
     "metadata": {},
     "output_type": "execute_result"
    }
   ],
   "source": [
    "decoder = ImageDecoder()\n",
    "decoder"
   ]
  },
  {
   "cell_type": "markdown",
   "metadata": {
    "heading_collapsed": true
   },
   "source": [
    "### VAE Aerial Images"
   ]
  },
  {
   "cell_type": "code",
   "execution_count": 24,
   "metadata": {
    "ExecuteTime": {
     "end_time": "2020-09-30T15:01:26.305566Z",
     "start_time": "2020-09-30T15:01:26.279578Z"
    },
    "hidden": true
   },
   "outputs": [],
   "source": [
    "class AerialImagesVAE(nn.Module):\n",
    "    def __init__(self):\n",
    "        super().__init__()\n",
    "        # Encoder\n",
    "        self.q_img = Dronet()\n",
    "\n",
    "        # Latent vectors mu and sigma\n",
    "        self.fc1 = nn.Linear(64,64)\n",
    "        self.fc2 = nn.Linear(64,64)\n",
    "\n",
    "        # Sampling vector\n",
    "        self.fc3 = nn.Linear(64, 64)\n",
    "        self.fc4 = nn.Linear(64, 15 * 15 * 128)\n",
    "\n",
    "        # Decoder\n",
    "        self.p_img = ImageDecoder()\n",
    "\n",
    "\n",
    "    def reparameterize(self, mu, logvar):\n",
    "        std = logvar.mul(0.5).exp_()\n",
    "        eps = std.data.new(std.size()).normal_()\n",
    "        z = eps.mul(std).add_(mu)\n",
    "\n",
    "        return z\n",
    "\n",
    "    def sampler(self, z):\n",
    "        sampling = self.fc3(z)\n",
    "        up_sampling = self.fc4(sampling)\n",
    "        return up_sampling\n",
    "\n",
    "    def forward(self, x):\n",
    "        x = self.q_img(x)\n",
    "\n",
    "        mu = self.fc1(x)\n",
    "        logvar = self.fc2(x)\n",
    "\n",
    "        z = self.reparameterize(mu, logvar)\n",
    "\n",
    "        up_sampling = self.sampler(z)\n",
    "        \n",
    "        img = self.p_img(up_sampling)\n",
    "\n",
    "        return img, mu, logvar\n"
   ]
  },
  {
   "cell_type": "markdown",
   "metadata": {
    "heading_collapsed": true,
    "hidden": true
   },
   "source": [
    "#### Model Summary and write to Tensorboard"
   ]
  },
  {
   "cell_type": "code",
   "execution_count": 25,
   "metadata": {
    "ExecuteTime": {
     "end_time": "2020-09-30T15:01:29.643424Z",
     "start_time": "2020-09-30T15:01:29.604119Z"
    },
    "hidden": true,
    "scrolled": true
   },
   "outputs": [
    {
     "data": {
      "text/plain": [
       "AerialImagesVAE(\n",
       "  (q_img): Dronet(\n",
       "    (conv0): Conv2d(3, 32, kernel_size=(6, 6), stride=(1, 1), padding=(2, 2))\n",
       "    (bn1_1): BatchNorm2d(32, eps=1e-05, momentum=0.1, affine=True, track_running_stats=True)\n",
       "    (conv1_1): Conv2d(32, 32, kernel_size=(4, 4), stride=(2, 2), padding=(1, 1))\n",
       "    (bn1_2): BatchNorm2d(32, eps=1e-05, momentum=0.1, affine=True, track_running_stats=True)\n",
       "    (conv1_2): Conv2d(32, 32, kernel_size=(4, 4), stride=(1, 1), padding=(1, 1))\n",
       "    (conv1_res_down): Conv2d(32, 32, kernel_size=(2, 2), stride=(2, 2))\n",
       "    (bn2_1): BatchNorm2d(32, eps=1e-05, momentum=0.1, affine=True, track_running_stats=True)\n",
       "    (conv2_1): Conv2d(32, 64, kernel_size=(4, 4), stride=(2, 2), padding=(1, 1))\n",
       "    (bn2_2): BatchNorm2d(64, eps=1e-05, momentum=0.1, affine=True, track_running_stats=True)\n",
       "    (conv2_2): Conv2d(64, 64, kernel_size=(4, 4), stride=(1, 1), padding=(1, 1))\n",
       "    (conv2_res_down): Conv2d(32, 64, kernel_size=(2, 2), stride=(2, 2))\n",
       "    (bn3_1): BatchNorm2d(64, eps=1e-05, momentum=0.1, affine=True, track_running_stats=True)\n",
       "    (conv3_1): Conv2d(64, 128, kernel_size=(4, 4), stride=(2, 2), padding=(1, 1))\n",
       "    (bn3_2): BatchNorm2d(128, eps=1e-05, momentum=0.1, affine=True, track_running_stats=True)\n",
       "    (conv3_2): Conv2d(128, 128, kernel_size=(4, 4), stride=(1, 1), padding=(1, 1))\n",
       "    (conv3_res_down): Conv2d(64, 128, kernel_size=(2, 2), stride=(2, 2))\n",
       "    (dropout1): Dropout(p=0.5, inplace=False)\n",
       "    (fc1): Linear(in_features=28800, out_features=128, bias=True)\n",
       "    (fc2): Linear(in_features=128, out_features=64, bias=True)\n",
       "  )\n",
       "  (fc1): Linear(in_features=64, out_features=64, bias=True)\n",
       "  (fc2): Linear(in_features=64, out_features=64, bias=True)\n",
       "  (fc3): Linear(in_features=64, out_features=64, bias=True)\n",
       "  (fc4): Linear(in_features=64, out_features=28800, bias=True)\n",
       "  (p_img): ImageDecoder(\n",
       "    (convT1): ConvTranspose2d(128, 128, kernel_size=(4, 4), stride=(1, 1), padding=(1, 1))\n",
       "    (convT2): ConvTranspose2d(128, 64, kernel_size=(4, 4), stride=(2, 2), padding=(2, 2))\n",
       "    (convT3): ConvTranspose2d(64, 64, kernel_size=(4, 4), stride=(1, 1), padding=(1, 1))\n",
       "    (convT4): ConvTranspose2d(64, 32, kernel_size=(4, 4), stride=(2, 2), padding=(2, 2))\n",
       "    (convT5): ConvTranspose2d(32, 32, kernel_size=(4, 4), stride=(1, 1), padding=(1, 1))\n",
       "    (convT6): ConvTranspose2d(32, 32, kernel_size=(4, 4), stride=(2, 2), padding=(2, 2))\n",
       "    (convT7): ConvTranspose2d(32, 3, kernel_size=(4, 4), stride=(1, 1), padding=(1, 1))\n",
       "  )\n",
       ")"
      ]
     },
     "execution_count": 25,
     "metadata": {},
     "output_type": "execute_result"
    }
   ],
   "source": [
    "model = AerialImagesVAE()\n",
    "model"
   ]
  },
  {
   "cell_type": "code",
   "execution_count": 26,
   "metadata": {
    "ExecuteTime": {
     "end_time": "2020-09-30T15:01:32.727299Z",
     "start_time": "2020-09-30T15:01:30.742035Z"
    },
    "hidden": true
   },
   "outputs": [
    {
     "name": "stderr",
     "output_type": "stream",
     "text": [
      "/home/farnez/.local/lib/python3.6/site-packages/ipykernel_launcher.py:21: TracerWarning: Converting a tensor to a Python index might cause the trace to be incorrect. We can't record the data flow of Python values, so this value will be treated as a constant in the future. This means that the trace might not generalize to other inputs!\n",
      "/home/farnez/Projects/UncertaintyDNN/lib/python3.6/site-packages/torch/jit/__init__.py:1044: TracerWarning: Output nr 1. of the traced function does not match the corresponding output of the Python function. Detailed error:\n",
      "Not within tolerance rtol=1e-05 atol=1e-05 at input[29, 2, 51, 78] (0.05167517066001892 vs. 0.04826386272907257) and 1383640 other locations (98.00%)\n",
      "  check_tolerance, _force_outplace, True, _module_class)\n"
     ]
    }
   ],
   "source": [
    "writer.add_graph(model, batch_data)\n",
    "writer.close()"
   ]
  },
  {
   "cell_type": "markdown",
   "metadata": {},
   "source": [
    "### Loss Function"
   ]
  },
  {
   "cell_type": "code",
   "execution_count": 27,
   "metadata": {
    "ExecuteTime": {
     "end_time": "2020-09-30T15:01:34.944309Z",
     "start_time": "2020-09-30T15:01:34.941103Z"
    }
   },
   "outputs": [],
   "source": [
    "class VAE_Loss(nn.Module):\n",
    "    def __init__(self):\n",
    "        super().__init__()\n",
    "        self.mse_loss = nn.MSELoss(reduction=\"sum\")\n",
    "\n",
    "    def forward(self, x_recon, x, mu, logvar):\n",
    "        loss_MSE = self.mse_loss(x_recon, x)\n",
    "        loss_KLD = -0.5 * torch.sum(1 + logvar - mu.pow(2) - logvar.exp())\n",
    "\n",
    "        return loss_MSE + loss_KLD"
   ]
  },
  {
   "cell_type": "markdown",
   "metadata": {},
   "source": [
    "## Training & Testing"
   ]
  },
  {
   "cell_type": "markdown",
   "metadata": {},
   "source": [
    "### Model, Loss Function, and Optimizaer Instances"
   ]
  },
  {
   "cell_type": "code",
   "execution_count": 28,
   "metadata": {
    "ExecuteTime": {
     "end_time": "2020-09-30T15:01:39.331418Z",
     "start_time": "2020-09-30T15:01:37.541981Z"
    }
   },
   "outputs": [],
   "source": [
    "model = AerialImagesVAE().to(device)\n",
    "optimizer = optim.Adam(model.parameters(), lr=learning_rate, weight_decay=1e-4)\n",
    "VAE_Loss = VAE_Loss()"
   ]
  },
  {
   "cell_type": "markdown",
   "metadata": {},
   "source": [
    "### Training"
   ]
  },
  {
   "cell_type": "code",
   "execution_count": 29,
   "metadata": {
    "ExecuteTime": {
     "end_time": "2020-09-30T15:01:39.334684Z",
     "start_time": "2020-09-30T15:01:39.332885Z"
    }
   },
   "outputs": [],
   "source": [
    "test_losses = []\n",
    "train_losses = []"
   ]
  },
  {
   "cell_type": "code",
   "execution_count": 30,
   "metadata": {
    "ExecuteTime": {
     "end_time": "2020-09-30T15:01:39.349372Z",
     "start_time": "2020-09-30T15:01:39.336068Z"
    }
   },
   "outputs": [],
   "source": [
    "def train(epoch):\n",
    "    model.train()\n",
    "    train_loss = 0\n",
    "\n",
    "    for batch_idx, (data, _) in enumerate(train_loader):\n",
    "        \n",
    "        data = data.to(device)\n",
    "        optimizer.zero_grad()\n",
    "        recon_batch, mu, logvar = model(data)\n",
    "        loss = VAE_Loss(recon_batch, data, mu, logvar)\n",
    "        loss.backward()\n",
    "        train_loss += loss.item()\n",
    "        optimizer.step()\n",
    "        \n",
    "        if batch_idx % log_interval == 0:\n",
    "            print('Train Epoch: {} [{}/{} ({:.0f}%)]\\tLoss: {:.6f}'.format(epoch,\n",
    "                                                                           batch_idx * len(data),\n",
    "                                                                           len(train_loader.sampler),\n",
    "                                                                           100. * batch_idx / len(train_loader),\n",
    "                                                                           loss.item() / len(data)))\n",
    "\n",
    "    \n",
    "    average_epoch_loss = train_loss / (len(train_loader) * train_loader.batch_size)\n",
    "    print('====> Epoch: {} Average loss: {:.4f}'.format(epoch, average_epoch_loss))\n",
    "    train_losses.append(average_epoch_loss)\n",
    "    writer.add_scalar('Training Epoch Avg. Loss', average_epoch_loss, epoch)\n",
    "\n",
    "    return average_epoch_loss"
   ]
  },
  {
   "cell_type": "code",
   "execution_count": 31,
   "metadata": {
    "ExecuteTime": {
     "end_time": "2020-09-30T15:01:42.635867Z",
     "start_time": "2020-09-30T15:01:42.631481Z"
    }
   },
   "outputs": [],
   "source": [
    "def test(epoch):\n",
    "    \n",
    "    model.eval()\n",
    "    test_loss = 0\n",
    "    \n",
    "    with torch.no_grad():\n",
    "        for i, (data, _) in enumerate(test_loader):\n",
    "            data = data.to(device)\n",
    "            recon_batch, mu, logvar = model(data)\n",
    "            test_loss += VAE_Loss(recon_batch, data, mu, logvar).item()\n",
    "            \n",
    "            if i == 0:\n",
    "\n",
    "                n = min(data.size(0), 8)\n",
    "\n",
    "                comparison = torch.cat([data[:n],\n",
    "                                        recon_batch.view(batch_size, 3, 121, 121)[:n]])\n",
    "\n",
    "                save_image(comparison.cpu(),\n",
    "                           'results/air_scene_reconstruction_' + str(epoch) + '.png', nrow=n)\n",
    "\n",
    "    average_epoch_test_loss = test_loss / ((len(test_loader) - 1) * test_loader.batch_size)\n",
    "\n",
    "    print('====> Test set epoch loss: {:.4f}'.format(average_epoch_test_loss))\n",
    "    \n",
    "    test_losses.append(average_epoch_test_loss)\n",
    "    writer.add_scalar('Test Epoch Avg. Loss', average_epoch_test_loss, epoch)\n",
    "    return average_epoch_test_loss"
   ]
  },
  {
   "cell_type": "code",
   "execution_count": 32,
   "metadata": {
    "ExecuteTime": {
     "end_time": "2020-09-30T16:20:43.741548Z",
     "start_time": "2020-09-30T15:01:43.588730Z"
    },
    "scrolled": true
   },
   "outputs": [
    {
     "name": "stdout",
     "output_type": "stream",
     "text": [
      "Train Epoch: 0 [0/40000 (0%)]\tLoss: 15742.512695\n",
      "Train Epoch: 0 [3200/40000 (8%)]\tLoss: 1875.624512\n",
      "Train Epoch: 0 [6400/40000 (16%)]\tLoss: 1606.883545\n",
      "Train Epoch: 0 [9600/40000 (24%)]\tLoss: 1167.467285\n",
      "Train Epoch: 0 [12800/40000 (32%)]\tLoss: 842.448120\n",
      "Train Epoch: 0 [16000/40000 (40%)]\tLoss: 986.862244\n",
      "Train Epoch: 0 [19200/40000 (48%)]\tLoss: 850.745300\n",
      "Train Epoch: 0 [22400/40000 (56%)]\tLoss: 979.556030\n",
      "Train Epoch: 0 [25600/40000 (64%)]\tLoss: 865.714417\n",
      "Train Epoch: 0 [28800/40000 (72%)]\tLoss: 1025.145142\n",
      "Train Epoch: 0 [32000/40000 (80%)]\tLoss: 1066.706909\n",
      "Train Epoch: 0 [35200/40000 (88%)]\tLoss: 1063.608765\n",
      "Train Epoch: 0 [38400/40000 (96%)]\tLoss: 1010.253601\n",
      "====> Epoch: 0 Average loss: 1435.7209\n",
      "====> Test set epoch loss: 728.6051\n",
      "Test loss decreased (inf --> 728.605109).  Saving model ...\n",
      "Train Epoch: 1 [0/40000 (0%)]\tLoss: 803.005005\n",
      "Train Epoch: 1 [3200/40000 (8%)]\tLoss: 584.881714\n",
      "Train Epoch: 1 [6400/40000 (16%)]\tLoss: 799.805542\n",
      "Train Epoch: 1 [9600/40000 (24%)]\tLoss: 800.421753\n",
      "Train Epoch: 1 [12800/40000 (32%)]\tLoss: 659.406799\n",
      "Train Epoch: 1 [16000/40000 (40%)]\tLoss: 878.830383\n",
      "Train Epoch: 1 [19200/40000 (48%)]\tLoss: 674.976196\n",
      "Train Epoch: 1 [22400/40000 (56%)]\tLoss: 795.166687\n",
      "Train Epoch: 1 [25600/40000 (64%)]\tLoss: 716.295837\n",
      "Train Epoch: 1 [28800/40000 (72%)]\tLoss: 737.630981\n",
      "Train Epoch: 1 [32000/40000 (80%)]\tLoss: 849.359009\n",
      "Train Epoch: 1 [35200/40000 (88%)]\tLoss: 687.960083\n",
      "Train Epoch: 1 [38400/40000 (96%)]\tLoss: 795.726685\n",
      "====> Epoch: 1 Average loss: 722.3226\n",
      "====> Test set epoch loss: 599.2935\n",
      "Test loss decreased (728.605109 --> 599.293495).  Saving model ...\n",
      "Train Epoch: 2 [0/40000 (0%)]\tLoss: 681.020447\n",
      "Train Epoch: 2 [3200/40000 (8%)]\tLoss: 667.358032\n",
      "Train Epoch: 2 [6400/40000 (16%)]\tLoss: 824.154602\n",
      "Train Epoch: 2 [9600/40000 (24%)]\tLoss: 477.974579\n",
      "Train Epoch: 2 [12800/40000 (32%)]\tLoss: 513.298462\n",
      "Train Epoch: 2 [16000/40000 (40%)]\tLoss: 736.363098\n",
      "Train Epoch: 2 [19200/40000 (48%)]\tLoss: 680.705444\n",
      "Train Epoch: 2 [22400/40000 (56%)]\tLoss: 595.634460\n",
      "Train Epoch: 2 [25600/40000 (64%)]\tLoss: 795.563965\n",
      "Train Epoch: 2 [28800/40000 (72%)]\tLoss: 648.424438\n",
      "Train Epoch: 2 [32000/40000 (80%)]\tLoss: 661.069031\n",
      "Train Epoch: 2 [35200/40000 (88%)]\tLoss: 605.428223\n",
      "Train Epoch: 2 [38400/40000 (96%)]\tLoss: 593.318787\n",
      "====> Epoch: 2 Average loss: 638.3467\n",
      "====> Test set epoch loss: 531.7322\n",
      "Test loss decreased (599.293495 --> 531.732184).  Saving model ...\n",
      "Train Epoch: 3 [0/40000 (0%)]\tLoss: 507.021393\n",
      "Train Epoch: 3 [3200/40000 (8%)]\tLoss: 581.203735\n",
      "Train Epoch: 3 [6400/40000 (16%)]\tLoss: 563.626160\n",
      "Train Epoch: 3 [9600/40000 (24%)]\tLoss: 670.320862\n",
      "Train Epoch: 3 [12800/40000 (32%)]\tLoss: 601.782043\n",
      "Train Epoch: 3 [16000/40000 (40%)]\tLoss: 716.021851\n",
      "Train Epoch: 3 [19200/40000 (48%)]\tLoss: 675.450623\n",
      "Train Epoch: 3 [22400/40000 (56%)]\tLoss: 593.839722\n",
      "Train Epoch: 3 [25600/40000 (64%)]\tLoss: 654.314758\n",
      "Train Epoch: 3 [28800/40000 (72%)]\tLoss: 661.649719\n",
      "Train Epoch: 3 [32000/40000 (80%)]\tLoss: 610.257629\n",
      "Train Epoch: 3 [35200/40000 (88%)]\tLoss: 638.872192\n",
      "Train Epoch: 3 [38400/40000 (96%)]\tLoss: 583.044739\n",
      "====> Epoch: 3 Average loss: 593.4954\n",
      "====> Test set epoch loss: 496.0358\n",
      "Test loss decreased (531.732184 --> 496.035767).  Saving model ...\n",
      "Train Epoch: 4 [0/40000 (0%)]\tLoss: 558.651550\n",
      "Train Epoch: 4 [3200/40000 (8%)]\tLoss: 455.792114\n",
      "Train Epoch: 4 [6400/40000 (16%)]\tLoss: 530.026917\n",
      "Train Epoch: 4 [9600/40000 (24%)]\tLoss: 623.359070\n",
      "Train Epoch: 4 [12800/40000 (32%)]\tLoss: 457.264557\n",
      "Train Epoch: 4 [16000/40000 (40%)]\tLoss: 638.258179\n",
      "Train Epoch: 4 [19200/40000 (48%)]\tLoss: 495.413849\n",
      "Train Epoch: 4 [22400/40000 (56%)]\tLoss: 507.690643\n",
      "Train Epoch: 4 [25600/40000 (64%)]\tLoss: 487.316254\n",
      "Train Epoch: 4 [28800/40000 (72%)]\tLoss: 475.065155\n",
      "Train Epoch: 4 [32000/40000 (80%)]\tLoss: 551.621460\n",
      "Train Epoch: 4 [35200/40000 (88%)]\tLoss: 531.317749\n",
      "Train Epoch: 4 [38400/40000 (96%)]\tLoss: 591.526978\n",
      "====> Epoch: 4 Average loss: 570.7614\n",
      "====> Test set epoch loss: 480.9864\n",
      "Test loss decreased (496.035767 --> 480.986359).  Saving model ...\n",
      "Train Epoch: 5 [0/40000 (0%)]\tLoss: 579.716736\n",
      "Train Epoch: 5 [3200/40000 (8%)]\tLoss: 569.418274\n",
      "Train Epoch: 5 [6400/40000 (16%)]\tLoss: 626.152039\n",
      "Train Epoch: 5 [9600/40000 (24%)]\tLoss: 575.981750\n",
      "Train Epoch: 5 [12800/40000 (32%)]\tLoss: 453.167847\n",
      "Train Epoch: 5 [16000/40000 (40%)]\tLoss: 654.916931\n",
      "Train Epoch: 5 [19200/40000 (48%)]\tLoss: 481.158173\n",
      "Train Epoch: 5 [22400/40000 (56%)]\tLoss: 567.032715\n",
      "Train Epoch: 5 [25600/40000 (64%)]\tLoss: 530.247925\n",
      "Train Epoch: 5 [28800/40000 (72%)]\tLoss: 555.916748\n",
      "Train Epoch: 5 [32000/40000 (80%)]\tLoss: 551.727295\n",
      "Train Epoch: 5 [35200/40000 (88%)]\tLoss: 473.255249\n",
      "Train Epoch: 5 [38400/40000 (96%)]\tLoss: 560.933228\n",
      "====> Epoch: 5 Average loss: 553.1821\n",
      "====> Test set epoch loss: 456.4701\n",
      "Test loss decreased (480.986359 --> 456.470078).  Saving model ...\n",
      "Train Epoch: 6 [0/40000 (0%)]\tLoss: 599.274841\n",
      "Train Epoch: 6 [3200/40000 (8%)]\tLoss: 609.950500\n",
      "Train Epoch: 6 [6400/40000 (16%)]\tLoss: 560.032654\n",
      "Train Epoch: 6 [9600/40000 (24%)]\tLoss: 513.434692\n",
      "Train Epoch: 6 [12800/40000 (32%)]\tLoss: 656.697693\n",
      "Train Epoch: 6 [16000/40000 (40%)]\tLoss: 602.462097\n",
      "Train Epoch: 6 [19200/40000 (48%)]\tLoss: 488.680054\n",
      "Train Epoch: 6 [22400/40000 (56%)]\tLoss: 567.162415\n",
      "Train Epoch: 6 [25600/40000 (64%)]\tLoss: 572.403870\n",
      "Train Epoch: 6 [28800/40000 (72%)]\tLoss: 565.321350\n",
      "Train Epoch: 6 [32000/40000 (80%)]\tLoss: 632.267639\n",
      "Train Epoch: 6 [35200/40000 (88%)]\tLoss: 494.451538\n",
      "Train Epoch: 6 [38400/40000 (96%)]\tLoss: 462.172852\n",
      "====> Epoch: 6 Average loss: 540.4783\n",
      "====> Test set epoch loss: 449.4052\n",
      "Test loss decreased (456.470078 --> 449.405193).  Saving model ...\n",
      "Train Epoch: 7 [0/40000 (0%)]\tLoss: 496.978607\n",
      "Train Epoch: 7 [3200/40000 (8%)]\tLoss: 549.248291\n",
      "Train Epoch: 7 [6400/40000 (16%)]\tLoss: 465.027649\n",
      "Train Epoch: 7 [9600/40000 (24%)]\tLoss: 460.786774\n",
      "Train Epoch: 7 [12800/40000 (32%)]\tLoss: 508.088104\n",
      "Train Epoch: 7 [16000/40000 (40%)]\tLoss: 538.116211\n",
      "Train Epoch: 7 [19200/40000 (48%)]\tLoss: 550.430359\n",
      "Train Epoch: 7 [22400/40000 (56%)]\tLoss: 513.483459\n",
      "Train Epoch: 7 [25600/40000 (64%)]\tLoss: 341.287170\n",
      "Train Epoch: 7 [28800/40000 (72%)]\tLoss: 516.243713\n",
      "Train Epoch: 7 [32000/40000 (80%)]\tLoss: 445.839905\n",
      "Train Epoch: 7 [35200/40000 (88%)]\tLoss: 526.356323\n",
      "Train Epoch: 7 [38400/40000 (96%)]\tLoss: 595.603821\n",
      "====> Epoch: 7 Average loss: 532.5822\n",
      "====> Test set epoch loss: 454.0377\n",
      "Train Epoch: 8 [0/40000 (0%)]\tLoss: 546.317871\n",
      "Train Epoch: 8 [3200/40000 (8%)]\tLoss: 492.383057\n",
      "Train Epoch: 8 [6400/40000 (16%)]\tLoss: 528.739014\n",
      "Train Epoch: 8 [9600/40000 (24%)]\tLoss: 736.319275\n",
      "Train Epoch: 8 [12800/40000 (32%)]\tLoss: 523.641052\n",
      "Train Epoch: 8 [16000/40000 (40%)]\tLoss: 529.485962\n",
      "Train Epoch: 8 [19200/40000 (48%)]\tLoss: 350.516724\n",
      "Train Epoch: 8 [22400/40000 (56%)]\tLoss: 519.389465\n",
      "Train Epoch: 8 [25600/40000 (64%)]\tLoss: 415.689819\n",
      "Train Epoch: 8 [28800/40000 (72%)]\tLoss: 484.533966\n",
      "Train Epoch: 8 [32000/40000 (80%)]\tLoss: 510.096283\n",
      "Train Epoch: 8 [35200/40000 (88%)]\tLoss: 445.922852\n",
      "Train Epoch: 8 [38400/40000 (96%)]\tLoss: 507.985260\n",
      "====> Epoch: 8 Average loss: 523.5220\n",
      "====> Test set epoch loss: 435.4208\n",
      "Test loss decreased (449.405193 --> 435.420766).  Saving model ...\n",
      "Train Epoch: 9 [0/40000 (0%)]\tLoss: 446.754395\n",
      "Train Epoch: 9 [3200/40000 (8%)]\tLoss: 552.399902\n",
      "Train Epoch: 9 [6400/40000 (16%)]\tLoss: 442.518982\n",
      "Train Epoch: 9 [9600/40000 (24%)]\tLoss: 398.122711\n",
      "Train Epoch: 9 [12800/40000 (32%)]\tLoss: 461.103760\n",
      "Train Epoch: 9 [16000/40000 (40%)]\tLoss: 610.909119\n",
      "Train Epoch: 9 [19200/40000 (48%)]\tLoss: 502.599457\n",
      "Train Epoch: 9 [22400/40000 (56%)]\tLoss: 518.188354\n",
      "Train Epoch: 9 [25600/40000 (64%)]\tLoss: 434.907898\n",
      "Train Epoch: 9 [28800/40000 (72%)]\tLoss: 558.716431\n",
      "Train Epoch: 9 [32000/40000 (80%)]\tLoss: 411.940704\n",
      "Train Epoch: 9 [35200/40000 (88%)]\tLoss: 426.088104\n",
      "Train Epoch: 9 [38400/40000 (96%)]\tLoss: 633.298218\n",
      "====> Epoch: 9 Average loss: 517.1350\n",
      "====> Test set epoch loss: 430.3604\n",
      "Test loss decreased (435.420766 --> 430.360396).  Saving model ...\n",
      "Train Epoch: 10 [0/40000 (0%)]\tLoss: 590.371338\n",
      "Train Epoch: 10 [3200/40000 (8%)]\tLoss: 492.216217\n",
      "Train Epoch: 10 [6400/40000 (16%)]\tLoss: 459.484955\n",
      "Train Epoch: 10 [9600/40000 (24%)]\tLoss: 556.560364\n"
     ]
    },
    {
     "name": "stdout",
     "output_type": "stream",
     "text": [
      "Train Epoch: 10 [12800/40000 (32%)]\tLoss: 489.584839\n",
      "Train Epoch: 10 [16000/40000 (40%)]\tLoss: 546.531067\n",
      "Train Epoch: 10 [19200/40000 (48%)]\tLoss: 469.084412\n",
      "Train Epoch: 10 [22400/40000 (56%)]\tLoss: 454.904541\n",
      "Train Epoch: 10 [25600/40000 (64%)]\tLoss: 495.243317\n",
      "Train Epoch: 10 [28800/40000 (72%)]\tLoss: 548.708069\n",
      "Train Epoch: 10 [32000/40000 (80%)]\tLoss: 487.446411\n",
      "Train Epoch: 10 [35200/40000 (88%)]\tLoss: 476.101685\n",
      "Train Epoch: 10 [38400/40000 (96%)]\tLoss: 597.933350\n",
      "====> Epoch: 10 Average loss: 510.5243\n",
      "====> Test set epoch loss: 425.8024\n",
      "Test loss decreased (430.360396 --> 425.802410).  Saving model ...\n",
      "Train Epoch: 11 [0/40000 (0%)]\tLoss: 538.439880\n",
      "Train Epoch: 11 [3200/40000 (8%)]\tLoss: 554.713623\n",
      "Train Epoch: 11 [6400/40000 (16%)]\tLoss: 480.284119\n",
      "Train Epoch: 11 [9600/40000 (24%)]\tLoss: 549.978516\n",
      "Train Epoch: 11 [12800/40000 (32%)]\tLoss: 418.820282\n",
      "Train Epoch: 11 [16000/40000 (40%)]\tLoss: 654.398010\n",
      "Train Epoch: 11 [19200/40000 (48%)]\tLoss: 569.551331\n",
      "Train Epoch: 11 [22400/40000 (56%)]\tLoss: 566.903259\n",
      "Train Epoch: 11 [25600/40000 (64%)]\tLoss: 435.481812\n",
      "Train Epoch: 11 [28800/40000 (72%)]\tLoss: 615.664062\n",
      "Train Epoch: 11 [32000/40000 (80%)]\tLoss: 485.950684\n",
      "Train Epoch: 11 [35200/40000 (88%)]\tLoss: 495.473358\n",
      "Train Epoch: 11 [38400/40000 (96%)]\tLoss: 390.737488\n",
      "====> Epoch: 11 Average loss: 505.0024\n",
      "====> Test set epoch loss: 417.4677\n",
      "Test loss decreased (425.802410 --> 417.467730).  Saving model ...\n",
      "Train Epoch: 12 [0/40000 (0%)]\tLoss: 652.059814\n",
      "Train Epoch: 12 [3200/40000 (8%)]\tLoss: 563.287598\n",
      "Train Epoch: 12 [6400/40000 (16%)]\tLoss: 494.720215\n",
      "Train Epoch: 12 [9600/40000 (24%)]\tLoss: 462.925446\n",
      "Train Epoch: 12 [12800/40000 (32%)]\tLoss: 343.412170\n",
      "Train Epoch: 12 [16000/40000 (40%)]\tLoss: 410.064575\n",
      "Train Epoch: 12 [19200/40000 (48%)]\tLoss: 611.496704\n",
      "Train Epoch: 12 [22400/40000 (56%)]\tLoss: 426.338989\n",
      "Train Epoch: 12 [25600/40000 (64%)]\tLoss: 460.064697\n",
      "Train Epoch: 12 [28800/40000 (72%)]\tLoss: 462.125275\n",
      "Train Epoch: 12 [32000/40000 (80%)]\tLoss: 442.688293\n",
      "Train Epoch: 12 [35200/40000 (88%)]\tLoss: 487.995422\n",
      "Train Epoch: 12 [38400/40000 (96%)]\tLoss: 439.331696\n",
      "====> Epoch: 12 Average loss: 500.7125\n",
      "====> Test set epoch loss: 415.3516\n",
      "Test loss decreased (417.467730 --> 415.351588).  Saving model ...\n",
      "Train Epoch: 13 [0/40000 (0%)]\tLoss: 415.168304\n",
      "Train Epoch: 13 [3200/40000 (8%)]\tLoss: 548.716003\n",
      "Train Epoch: 13 [6400/40000 (16%)]\tLoss: 457.206879\n",
      "Train Epoch: 13 [9600/40000 (24%)]\tLoss: 494.145905\n",
      "Train Epoch: 13 [12800/40000 (32%)]\tLoss: 455.568207\n",
      "Train Epoch: 13 [16000/40000 (40%)]\tLoss: 507.381287\n",
      "Train Epoch: 13 [19200/40000 (48%)]\tLoss: 381.923981\n",
      "Train Epoch: 13 [22400/40000 (56%)]\tLoss: 502.437592\n",
      "Train Epoch: 13 [25600/40000 (64%)]\tLoss: 591.932556\n",
      "Train Epoch: 13 [28800/40000 (72%)]\tLoss: 534.089294\n",
      "Train Epoch: 13 [32000/40000 (80%)]\tLoss: 498.797546\n",
      "Train Epoch: 13 [35200/40000 (88%)]\tLoss: 566.802429\n",
      "Train Epoch: 13 [38400/40000 (96%)]\tLoss: 488.100189\n",
      "====> Epoch: 13 Average loss: 496.3221\n",
      "====> Test set epoch loss: 410.8669\n",
      "Test loss decreased (415.351588 --> 410.866941).  Saving model ...\n",
      "Train Epoch: 14 [0/40000 (0%)]\tLoss: 388.616028\n",
      "Train Epoch: 14 [3200/40000 (8%)]\tLoss: 480.980072\n",
      "Train Epoch: 14 [6400/40000 (16%)]\tLoss: 544.381470\n",
      "Train Epoch: 14 [9600/40000 (24%)]\tLoss: 446.816528\n",
      "Train Epoch: 14 [12800/40000 (32%)]\tLoss: 505.787598\n",
      "Train Epoch: 14 [16000/40000 (40%)]\tLoss: 602.588196\n",
      "Train Epoch: 14 [19200/40000 (48%)]\tLoss: 485.842224\n",
      "Train Epoch: 14 [22400/40000 (56%)]\tLoss: 530.967590\n",
      "Train Epoch: 14 [25600/40000 (64%)]\tLoss: 544.656128\n",
      "Train Epoch: 14 [28800/40000 (72%)]\tLoss: 588.556824\n",
      "Train Epoch: 14 [32000/40000 (80%)]\tLoss: 639.729431\n",
      "Train Epoch: 14 [35200/40000 (88%)]\tLoss: 591.126892\n",
      "Train Epoch: 14 [38400/40000 (96%)]\tLoss: 501.946472\n",
      "====> Epoch: 14 Average loss: 493.4565\n",
      "====> Test set epoch loss: 409.7870\n",
      "Test loss decreased (410.866941 --> 409.787048).  Saving model ...\n",
      "Train Epoch: 15 [0/40000 (0%)]\tLoss: 467.662933\n",
      "Train Epoch: 15 [3200/40000 (8%)]\tLoss: 483.241547\n",
      "Train Epoch: 15 [6400/40000 (16%)]\tLoss: 517.013428\n",
      "Train Epoch: 15 [9600/40000 (24%)]\tLoss: 483.999115\n",
      "Train Epoch: 15 [12800/40000 (32%)]\tLoss: 474.092010\n",
      "Train Epoch: 15 [16000/40000 (40%)]\tLoss: 448.533813\n",
      "Train Epoch: 15 [19200/40000 (48%)]\tLoss: 442.440277\n",
      "Train Epoch: 15 [22400/40000 (56%)]\tLoss: 498.791809\n",
      "Train Epoch: 15 [25600/40000 (64%)]\tLoss: 516.912842\n",
      "Train Epoch: 15 [28800/40000 (72%)]\tLoss: 580.591309\n",
      "Train Epoch: 15 [32000/40000 (80%)]\tLoss: 566.831421\n",
      "Train Epoch: 15 [35200/40000 (88%)]\tLoss: 387.387573\n",
      "Train Epoch: 15 [38400/40000 (96%)]\tLoss: 442.518951\n",
      "====> Epoch: 15 Average loss: 488.3215\n",
      "====> Test set epoch loss: 401.7146\n",
      "Test loss decreased (409.787048 --> 401.714645).  Saving model ...\n",
      "Train Epoch: 16 [0/40000 (0%)]\tLoss: 487.000916\n",
      "Train Epoch: 16 [3200/40000 (8%)]\tLoss: 523.711304\n",
      "Train Epoch: 16 [6400/40000 (16%)]\tLoss: 474.871552\n",
      "Train Epoch: 16 [9600/40000 (24%)]\tLoss: 500.337738\n",
      "Train Epoch: 16 [12800/40000 (32%)]\tLoss: 443.877625\n",
      "Train Epoch: 16 [16000/40000 (40%)]\tLoss: 397.196655\n",
      "Train Epoch: 16 [19200/40000 (48%)]\tLoss: 433.976807\n",
      "Train Epoch: 16 [22400/40000 (56%)]\tLoss: 423.532501\n",
      "Train Epoch: 16 [25600/40000 (64%)]\tLoss: 553.543030\n",
      "Train Epoch: 16 [28800/40000 (72%)]\tLoss: 539.907898\n",
      "Train Epoch: 16 [32000/40000 (80%)]\tLoss: 478.124573\n",
      "Train Epoch: 16 [35200/40000 (88%)]\tLoss: 385.139374\n",
      "Train Epoch: 16 [38400/40000 (96%)]\tLoss: 444.325073\n",
      "====> Epoch: 16 Average loss: 485.8872\n",
      "====> Test set epoch loss: 399.5386\n",
      "Test loss decreased (401.714645 --> 399.538565).  Saving model ...\n",
      "Train Epoch: 17 [0/40000 (0%)]\tLoss: 475.209869\n",
      "Train Epoch: 17 [3200/40000 (8%)]\tLoss: 587.284607\n",
      "Train Epoch: 17 [6400/40000 (16%)]\tLoss: 430.991211\n",
      "Train Epoch: 17 [9600/40000 (24%)]\tLoss: 558.992310\n",
      "Train Epoch: 17 [12800/40000 (32%)]\tLoss: 441.159210\n",
      "Train Epoch: 17 [16000/40000 (40%)]\tLoss: 529.697937\n",
      "Train Epoch: 17 [19200/40000 (48%)]\tLoss: 421.349548\n",
      "Train Epoch: 17 [22400/40000 (56%)]\tLoss: 463.326385\n",
      "Train Epoch: 17 [25600/40000 (64%)]\tLoss: 485.104645\n",
      "Train Epoch: 17 [28800/40000 (72%)]\tLoss: 442.094543\n",
      "Train Epoch: 17 [32000/40000 (80%)]\tLoss: 468.454926\n",
      "Train Epoch: 17 [35200/40000 (88%)]\tLoss: 466.332428\n",
      "Train Epoch: 17 [38400/40000 (96%)]\tLoss: 391.429810\n",
      "====> Epoch: 17 Average loss: 482.4470\n",
      "====> Test set epoch loss: 398.4514\n",
      "Test loss decreased (399.538565 --> 398.451441).  Saving model ...\n",
      "Train Epoch: 18 [0/40000 (0%)]\tLoss: 461.292206\n",
      "Train Epoch: 18 [3200/40000 (8%)]\tLoss: 521.314819\n",
      "Train Epoch: 18 [6400/40000 (16%)]\tLoss: 476.144348\n",
      "Train Epoch: 18 [9600/40000 (24%)]\tLoss: 465.779877\n",
      "Train Epoch: 18 [12800/40000 (32%)]\tLoss: 458.480377\n",
      "Train Epoch: 18 [16000/40000 (40%)]\tLoss: 396.910095\n",
      "Train Epoch: 18 [19200/40000 (48%)]\tLoss: 471.360046\n",
      "Train Epoch: 18 [22400/40000 (56%)]\tLoss: 580.024902\n",
      "Train Epoch: 18 [25600/40000 (64%)]\tLoss: 562.080505\n",
      "Train Epoch: 18 [28800/40000 (72%)]\tLoss: 515.292603\n",
      "Train Epoch: 18 [32000/40000 (80%)]\tLoss: 451.131927\n",
      "Train Epoch: 18 [35200/40000 (88%)]\tLoss: 671.692993\n",
      "Train Epoch: 18 [38400/40000 (96%)]\tLoss: 429.919189\n",
      "====> Epoch: 18 Average loss: 479.0848\n",
      "====> Test set epoch loss: 403.3965\n",
      "Train Epoch: 19 [0/40000 (0%)]\tLoss: 568.095215\n",
      "Train Epoch: 19 [3200/40000 (8%)]\tLoss: 542.128723\n",
      "Train Epoch: 19 [6400/40000 (16%)]\tLoss: 374.349365\n",
      "Train Epoch: 19 [9600/40000 (24%)]\tLoss: 537.123535\n",
      "Train Epoch: 19 [12800/40000 (32%)]\tLoss: 564.992859\n",
      "Train Epoch: 19 [16000/40000 (40%)]\tLoss: 404.926971\n",
      "Train Epoch: 19 [19200/40000 (48%)]\tLoss: 467.487488\n",
      "Train Epoch: 19 [22400/40000 (56%)]\tLoss: 448.615601\n",
      "Train Epoch: 19 [25600/40000 (64%)]\tLoss: 472.461487\n",
      "Train Epoch: 19 [28800/40000 (72%)]\tLoss: 516.213257\n",
      "Train Epoch: 19 [32000/40000 (80%)]\tLoss: 478.080566\n",
      "Train Epoch: 19 [35200/40000 (88%)]\tLoss: 436.880341\n",
      "Train Epoch: 19 [38400/40000 (96%)]\tLoss: 519.148193\n",
      "====> Epoch: 19 Average loss: 477.1862\n",
      "====> Test set epoch loss: 392.8618\n",
      "Test loss decreased (398.451441 --> 392.861842).  Saving model ...\n",
      "Train Epoch: 20 [0/40000 (0%)]\tLoss: 475.492493\n",
      "Train Epoch: 20 [3200/40000 (8%)]\tLoss: 587.176636\n",
      "Train Epoch: 20 [6400/40000 (16%)]\tLoss: 444.566895\n",
      "Train Epoch: 20 [9600/40000 (24%)]\tLoss: 360.726685\n",
      "Train Epoch: 20 [12800/40000 (32%)]\tLoss: 554.971313\n"
     ]
    },
    {
     "name": "stdout",
     "output_type": "stream",
     "text": [
      "Train Epoch: 20 [16000/40000 (40%)]\tLoss: 475.523956\n",
      "Train Epoch: 20 [19200/40000 (48%)]\tLoss: 488.552429\n",
      "Train Epoch: 20 [22400/40000 (56%)]\tLoss: 491.109070\n",
      "Train Epoch: 20 [25600/40000 (64%)]\tLoss: 457.011139\n",
      "Train Epoch: 20 [28800/40000 (72%)]\tLoss: 529.122864\n",
      "Train Epoch: 20 [32000/40000 (80%)]\tLoss: 552.418335\n",
      "Train Epoch: 20 [35200/40000 (88%)]\tLoss: 407.840332\n",
      "Train Epoch: 20 [38400/40000 (96%)]\tLoss: 602.122498\n",
      "====> Epoch: 20 Average loss: 474.2242\n",
      "====> Test set epoch loss: 392.9837\n",
      "Train Epoch: 21 [0/40000 (0%)]\tLoss: 557.565857\n",
      "Train Epoch: 21 [3200/40000 (8%)]\tLoss: 557.262512\n",
      "Train Epoch: 21 [6400/40000 (16%)]\tLoss: 539.943909\n",
      "Train Epoch: 21 [9600/40000 (24%)]\tLoss: 473.704681\n",
      "Train Epoch: 21 [12800/40000 (32%)]\tLoss: 376.850861\n",
      "Train Epoch: 21 [16000/40000 (40%)]\tLoss: 482.019226\n",
      "Train Epoch: 21 [19200/40000 (48%)]\tLoss: 465.027771\n",
      "Train Epoch: 21 [22400/40000 (56%)]\tLoss: 366.222839\n",
      "Train Epoch: 21 [25600/40000 (64%)]\tLoss: 350.267273\n",
      "Train Epoch: 21 [28800/40000 (72%)]\tLoss: 485.776642\n",
      "Train Epoch: 21 [32000/40000 (80%)]\tLoss: 396.214996\n",
      "Train Epoch: 21 [35200/40000 (88%)]\tLoss: 402.824585\n",
      "Train Epoch: 21 [38400/40000 (96%)]\tLoss: 450.722412\n",
      "====> Epoch: 21 Average loss: 471.7024\n",
      "====> Test set epoch loss: 389.1141\n",
      "Test loss decreased (392.861842 --> 389.114053).  Saving model ...\n",
      "Train Epoch: 22 [0/40000 (0%)]\tLoss: 370.437012\n",
      "Train Epoch: 22 [3200/40000 (8%)]\tLoss: 459.575806\n",
      "Train Epoch: 22 [6400/40000 (16%)]\tLoss: 413.090698\n",
      "Train Epoch: 22 [9600/40000 (24%)]\tLoss: 439.186310\n",
      "Train Epoch: 22 [12800/40000 (32%)]\tLoss: 449.999695\n",
      "Train Epoch: 22 [16000/40000 (40%)]\tLoss: 467.577942\n",
      "Train Epoch: 22 [19200/40000 (48%)]\tLoss: 472.909424\n",
      "Train Epoch: 22 [22400/40000 (56%)]\tLoss: 439.064148\n",
      "Train Epoch: 22 [25600/40000 (64%)]\tLoss: 545.651489\n",
      "Train Epoch: 22 [28800/40000 (72%)]\tLoss: 392.865448\n",
      "Train Epoch: 22 [32000/40000 (80%)]\tLoss: 552.609985\n",
      "Train Epoch: 22 [35200/40000 (88%)]\tLoss: 388.747009\n",
      "Train Epoch: 22 [38400/40000 (96%)]\tLoss: 380.844086\n",
      "====> Epoch: 22 Average loss: 469.8413\n",
      "====> Test set epoch loss: 393.7010\n",
      "Train Epoch: 23 [0/40000 (0%)]\tLoss: 457.167511\n",
      "Train Epoch: 23 [3200/40000 (8%)]\tLoss: 489.694122\n",
      "Train Epoch: 23 [6400/40000 (16%)]\tLoss: 426.955811\n",
      "Train Epoch: 23 [9600/40000 (24%)]\tLoss: 425.345551\n",
      "Train Epoch: 23 [12800/40000 (32%)]\tLoss: 388.393799\n",
      "Train Epoch: 23 [16000/40000 (40%)]\tLoss: 555.375977\n",
      "Train Epoch: 23 [19200/40000 (48%)]\tLoss: 451.176910\n",
      "Train Epoch: 23 [22400/40000 (56%)]\tLoss: 552.530640\n",
      "Train Epoch: 23 [25600/40000 (64%)]\tLoss: 556.167847\n",
      "Train Epoch: 23 [28800/40000 (72%)]\tLoss: 470.543976\n",
      "Train Epoch: 23 [32000/40000 (80%)]\tLoss: 490.294769\n",
      "Train Epoch: 23 [35200/40000 (88%)]\tLoss: 471.537750\n",
      "Train Epoch: 23 [38400/40000 (96%)]\tLoss: 463.045166\n",
      "====> Epoch: 23 Average loss: 467.6731\n",
      "====> Test set epoch loss: 386.1926\n",
      "Test loss decreased (389.114053 --> 386.192620).  Saving model ...\n",
      "Train Epoch: 24 [0/40000 (0%)]\tLoss: 361.182678\n",
      "Train Epoch: 24 [3200/40000 (8%)]\tLoss: 432.781799\n",
      "Train Epoch: 24 [6400/40000 (16%)]\tLoss: 463.198853\n",
      "Train Epoch: 24 [9600/40000 (24%)]\tLoss: 593.161133\n",
      "Train Epoch: 24 [12800/40000 (32%)]\tLoss: 408.211334\n",
      "Train Epoch: 24 [16000/40000 (40%)]\tLoss: 518.560852\n",
      "Train Epoch: 24 [19200/40000 (48%)]\tLoss: 425.733368\n",
      "Train Epoch: 24 [22400/40000 (56%)]\tLoss: 514.087891\n",
      "Train Epoch: 24 [25600/40000 (64%)]\tLoss: 485.372650\n",
      "Train Epoch: 24 [28800/40000 (72%)]\tLoss: 342.312927\n",
      "Train Epoch: 24 [32000/40000 (80%)]\tLoss: 446.809174\n",
      "Train Epoch: 24 [35200/40000 (88%)]\tLoss: 432.944519\n",
      "Train Epoch: 24 [38400/40000 (96%)]\tLoss: 589.639038\n",
      "====> Epoch: 24 Average loss: 464.7462\n",
      "====> Test set epoch loss: 389.8368\n",
      "Train Epoch: 25 [0/40000 (0%)]\tLoss: 527.248901\n",
      "Train Epoch: 25 [3200/40000 (8%)]\tLoss: 494.789246\n",
      "Train Epoch: 25 [6400/40000 (16%)]\tLoss: 462.150208\n",
      "Train Epoch: 25 [9600/40000 (24%)]\tLoss: 607.935181\n",
      "Train Epoch: 25 [12800/40000 (32%)]\tLoss: 468.889709\n",
      "Train Epoch: 25 [16000/40000 (40%)]\tLoss: 543.773193\n",
      "Train Epoch: 25 [19200/40000 (48%)]\tLoss: 535.446960\n",
      "Train Epoch: 25 [22400/40000 (56%)]\tLoss: 451.239075\n",
      "Train Epoch: 25 [25600/40000 (64%)]\tLoss: 485.042236\n",
      "Train Epoch: 25 [28800/40000 (72%)]\tLoss: 492.799713\n",
      "Train Epoch: 25 [32000/40000 (80%)]\tLoss: 481.415161\n",
      "Train Epoch: 25 [35200/40000 (88%)]\tLoss: 400.322662\n",
      "Train Epoch: 25 [38400/40000 (96%)]\tLoss: 518.018860\n",
      "====> Epoch: 25 Average loss: 462.8883\n",
      "====> Test set epoch loss: 388.3579\n",
      "Train Epoch: 26 [0/40000 (0%)]\tLoss: 368.361847\n",
      "Train Epoch: 26 [3200/40000 (8%)]\tLoss: 491.761047\n",
      "Train Epoch: 26 [6400/40000 (16%)]\tLoss: 493.636017\n",
      "Train Epoch: 26 [9600/40000 (24%)]\tLoss: 412.642212\n",
      "Train Epoch: 26 [12800/40000 (32%)]\tLoss: 583.956665\n",
      "Train Epoch: 26 [16000/40000 (40%)]\tLoss: 560.828491\n",
      "Train Epoch: 26 [19200/40000 (48%)]\tLoss: 419.200653\n",
      "Train Epoch: 26 [22400/40000 (56%)]\tLoss: 478.476593\n",
      "Train Epoch: 26 [25600/40000 (64%)]\tLoss: 567.802917\n",
      "Train Epoch: 26 [28800/40000 (72%)]\tLoss: 575.440918\n",
      "Train Epoch: 26 [32000/40000 (80%)]\tLoss: 519.432678\n",
      "Train Epoch: 26 [35200/40000 (88%)]\tLoss: 415.239471\n",
      "Train Epoch: 26 [38400/40000 (96%)]\tLoss: 447.329010\n",
      "====> Epoch: 26 Average loss: 461.5776\n",
      "====> Test set epoch loss: 387.9605\n",
      "Train Epoch: 27 [0/40000 (0%)]\tLoss: 505.819611\n",
      "Train Epoch: 27 [3200/40000 (8%)]\tLoss: 393.535980\n",
      "Train Epoch: 27 [6400/40000 (16%)]\tLoss: 433.025818\n",
      "Train Epoch: 27 [9600/40000 (24%)]\tLoss: 490.762085\n",
      "Train Epoch: 27 [12800/40000 (32%)]\tLoss: 454.037659\n",
      "Train Epoch: 27 [16000/40000 (40%)]\tLoss: 422.864319\n",
      "Train Epoch: 27 [19200/40000 (48%)]\tLoss: 534.161621\n",
      "Train Epoch: 27 [22400/40000 (56%)]\tLoss: 410.414307\n",
      "Train Epoch: 27 [25600/40000 (64%)]\tLoss: 412.301880\n",
      "Train Epoch: 27 [28800/40000 (72%)]\tLoss: 546.652466\n",
      "Train Epoch: 27 [32000/40000 (80%)]\tLoss: 483.563538\n",
      "Train Epoch: 27 [35200/40000 (88%)]\tLoss: 510.039978\n",
      "Train Epoch: 27 [38400/40000 (96%)]\tLoss: 442.532990\n",
      "====> Epoch: 27 Average loss: 458.7923\n",
      "====> Test set epoch loss: 378.1148\n",
      "Test loss decreased (386.192620 --> 378.114765).  Saving model ...\n",
      "Train Epoch: 28 [0/40000 (0%)]\tLoss: 475.068237\n",
      "Train Epoch: 28 [3200/40000 (8%)]\tLoss: 421.684174\n",
      "Train Epoch: 28 [6400/40000 (16%)]\tLoss: 524.737305\n",
      "Train Epoch: 28 [9600/40000 (24%)]\tLoss: 480.836670\n",
      "Train Epoch: 28 [12800/40000 (32%)]\tLoss: 431.138458\n",
      "Train Epoch: 28 [16000/40000 (40%)]\tLoss: 539.136902\n",
      "Train Epoch: 28 [19200/40000 (48%)]\tLoss: 426.675995\n",
      "Train Epoch: 28 [22400/40000 (56%)]\tLoss: 411.239105\n",
      "Train Epoch: 28 [25600/40000 (64%)]\tLoss: 441.593658\n",
      "Train Epoch: 28 [28800/40000 (72%)]\tLoss: 420.319641\n",
      "Train Epoch: 28 [32000/40000 (80%)]\tLoss: 533.828979\n",
      "Train Epoch: 28 [35200/40000 (88%)]\tLoss: 506.064850\n",
      "Train Epoch: 28 [38400/40000 (96%)]\tLoss: 494.916260\n",
      "====> Epoch: 28 Average loss: 457.8899\n",
      "====> Test set epoch loss: 378.1188\n",
      "Train Epoch: 29 [0/40000 (0%)]\tLoss: 410.408142\n",
      "Train Epoch: 29 [3200/40000 (8%)]\tLoss: 450.424438\n",
      "Train Epoch: 29 [6400/40000 (16%)]\tLoss: 574.568237\n",
      "Train Epoch: 29 [9600/40000 (24%)]\tLoss: 448.044250\n",
      "Train Epoch: 29 [12800/40000 (32%)]\tLoss: 455.099091\n",
      "Train Epoch: 29 [16000/40000 (40%)]\tLoss: 390.796387\n",
      "Train Epoch: 29 [19200/40000 (48%)]\tLoss: 437.995789\n",
      "Train Epoch: 29 [22400/40000 (56%)]\tLoss: 520.051880\n",
      "Train Epoch: 29 [25600/40000 (64%)]\tLoss: 435.015350\n",
      "Train Epoch: 29 [28800/40000 (72%)]\tLoss: 414.255981\n",
      "Train Epoch: 29 [32000/40000 (80%)]\tLoss: 399.007355\n",
      "Train Epoch: 29 [35200/40000 (88%)]\tLoss: 379.696289\n",
      "Train Epoch: 29 [38400/40000 (96%)]\tLoss: 407.714020\n",
      "====> Epoch: 29 Average loss: 455.2414\n",
      "====> Test set epoch loss: 377.9751\n",
      "Test loss decreased (378.114765 --> 377.975086).  Saving model ...\n",
      "Train Epoch: 30 [0/40000 (0%)]\tLoss: 476.989502\n",
      "Train Epoch: 30 [3200/40000 (8%)]\tLoss: 543.746826\n",
      "Train Epoch: 30 [6400/40000 (16%)]\tLoss: 461.913147\n",
      "Train Epoch: 30 [9600/40000 (24%)]\tLoss: 527.072144\n",
      "Train Epoch: 30 [12800/40000 (32%)]\tLoss: 377.200012\n",
      "Train Epoch: 30 [16000/40000 (40%)]\tLoss: 464.657471\n",
      "Train Epoch: 30 [19200/40000 (48%)]\tLoss: 432.351776\n",
      "Train Epoch: 30 [22400/40000 (56%)]\tLoss: 483.695251\n",
      "Train Epoch: 30 [25600/40000 (64%)]\tLoss: 439.332367\n",
      "Train Epoch: 30 [28800/40000 (72%)]\tLoss: 425.541992\n",
      "Train Epoch: 30 [32000/40000 (80%)]\tLoss: 510.183167\n",
      "Train Epoch: 30 [35200/40000 (88%)]\tLoss: 433.859650\n",
      "Train Epoch: 30 [38400/40000 (96%)]\tLoss: 403.178925\n"
     ]
    },
    {
     "name": "stdout",
     "output_type": "stream",
     "text": [
      "====> Epoch: 30 Average loss: 455.4514\n",
      "====> Test set epoch loss: 372.6764\n",
      "Test loss decreased (377.975086 --> 372.676435).  Saving model ...\n",
      "Train Epoch: 31 [0/40000 (0%)]\tLoss: 528.973145\n",
      "Train Epoch: 31 [3200/40000 (8%)]\tLoss: 453.441803\n",
      "Train Epoch: 31 [6400/40000 (16%)]\tLoss: 493.230042\n",
      "Train Epoch: 31 [9600/40000 (24%)]\tLoss: 459.453461\n",
      "Train Epoch: 31 [12800/40000 (32%)]\tLoss: 520.901489\n",
      "Train Epoch: 31 [16000/40000 (40%)]\tLoss: 494.157959\n",
      "Train Epoch: 31 [19200/40000 (48%)]\tLoss: 461.103363\n",
      "Train Epoch: 31 [22400/40000 (56%)]\tLoss: 490.425781\n",
      "Train Epoch: 31 [25600/40000 (64%)]\tLoss: 396.086426\n",
      "Train Epoch: 31 [28800/40000 (72%)]\tLoss: 501.728607\n",
      "Train Epoch: 31 [32000/40000 (80%)]\tLoss: 484.421631\n",
      "Train Epoch: 31 [35200/40000 (88%)]\tLoss: 545.760803\n",
      "Train Epoch: 31 [38400/40000 (96%)]\tLoss: 430.429871\n",
      "====> Epoch: 31 Average loss: 453.5027\n",
      "====> Test set epoch loss: 373.5759\n",
      "Train Epoch: 32 [0/40000 (0%)]\tLoss: 418.887909\n",
      "Train Epoch: 32 [3200/40000 (8%)]\tLoss: 457.612122\n",
      "Train Epoch: 32 [6400/40000 (16%)]\tLoss: 407.402710\n",
      "Train Epoch: 32 [9600/40000 (24%)]\tLoss: 575.456970\n",
      "Train Epoch: 32 [12800/40000 (32%)]\tLoss: 448.462921\n",
      "Train Epoch: 32 [16000/40000 (40%)]\tLoss: 446.065125\n",
      "Train Epoch: 32 [19200/40000 (48%)]\tLoss: 368.447357\n",
      "Train Epoch: 32 [22400/40000 (56%)]\tLoss: 462.752533\n",
      "Train Epoch: 32 [25600/40000 (64%)]\tLoss: 507.502869\n",
      "Train Epoch: 32 [28800/40000 (72%)]\tLoss: 487.973694\n",
      "Train Epoch: 32 [32000/40000 (80%)]\tLoss: 497.172882\n",
      "Train Epoch: 32 [35200/40000 (88%)]\tLoss: 500.233490\n",
      "Train Epoch: 32 [38400/40000 (96%)]\tLoss: 434.913116\n",
      "====> Epoch: 32 Average loss: 450.8130\n",
      "====> Test set epoch loss: 372.4549\n",
      "Test loss decreased (372.676435 --> 372.454946).  Saving model ...\n",
      "Train Epoch: 33 [0/40000 (0%)]\tLoss: 442.660889\n",
      "Train Epoch: 33 [3200/40000 (8%)]\tLoss: 431.575989\n",
      "Train Epoch: 33 [6400/40000 (16%)]\tLoss: 401.609100\n",
      "Train Epoch: 33 [9600/40000 (24%)]\tLoss: 406.877533\n",
      "Train Epoch: 33 [12800/40000 (32%)]\tLoss: 462.910004\n",
      "Train Epoch: 33 [16000/40000 (40%)]\tLoss: 398.721954\n",
      "Train Epoch: 33 [19200/40000 (48%)]\tLoss: 456.024902\n",
      "Train Epoch: 33 [22400/40000 (56%)]\tLoss: 498.730743\n",
      "Train Epoch: 33 [25600/40000 (64%)]\tLoss: 396.470764\n",
      "Train Epoch: 33 [28800/40000 (72%)]\tLoss: 483.511200\n",
      "Train Epoch: 33 [32000/40000 (80%)]\tLoss: 428.189575\n",
      "Train Epoch: 33 [35200/40000 (88%)]\tLoss: 398.410492\n",
      "Train Epoch: 33 [38400/40000 (96%)]\tLoss: 428.593475\n",
      "====> Epoch: 33 Average loss: 450.2957\n",
      "====> Test set epoch loss: 374.1547\n",
      "Train Epoch: 34 [0/40000 (0%)]\tLoss: 401.558777\n",
      "Train Epoch: 34 [3200/40000 (8%)]\tLoss: 498.090515\n",
      "Train Epoch: 34 [6400/40000 (16%)]\tLoss: 386.110291\n",
      "Train Epoch: 34 [9600/40000 (24%)]\tLoss: 408.506927\n",
      "Train Epoch: 34 [12800/40000 (32%)]\tLoss: 403.066132\n",
      "Train Epoch: 34 [16000/40000 (40%)]\tLoss: 433.334229\n",
      "Train Epoch: 34 [19200/40000 (48%)]\tLoss: 533.987976\n",
      "Train Epoch: 34 [22400/40000 (56%)]\tLoss: 425.563477\n",
      "Train Epoch: 34 [25600/40000 (64%)]\tLoss: 413.410339\n",
      "Train Epoch: 34 [28800/40000 (72%)]\tLoss: 382.996521\n",
      "Train Epoch: 34 [32000/40000 (80%)]\tLoss: 409.814728\n",
      "Train Epoch: 34 [35200/40000 (88%)]\tLoss: 430.230225\n",
      "Train Epoch: 34 [38400/40000 (96%)]\tLoss: 492.980103\n",
      "====> Epoch: 34 Average loss: 448.0162\n",
      "====> Test set epoch loss: 367.7948\n",
      "Test loss decreased (372.454946 --> 367.794834).  Saving model ...\n",
      "Train Epoch: 35 [0/40000 (0%)]\tLoss: 446.115875\n",
      "Train Epoch: 35 [3200/40000 (8%)]\tLoss: 439.402039\n",
      "Train Epoch: 35 [6400/40000 (16%)]\tLoss: 408.475403\n",
      "Train Epoch: 35 [9600/40000 (24%)]\tLoss: 400.895874\n",
      "Train Epoch: 35 [12800/40000 (32%)]\tLoss: 430.721588\n",
      "Train Epoch: 35 [16000/40000 (40%)]\tLoss: 404.622894\n",
      "Train Epoch: 35 [19200/40000 (48%)]\tLoss: 446.990509\n",
      "Train Epoch: 35 [22400/40000 (56%)]\tLoss: 384.550507\n",
      "Train Epoch: 35 [25600/40000 (64%)]\tLoss: 435.198669\n",
      "Train Epoch: 35 [28800/40000 (72%)]\tLoss: 426.493835\n",
      "Train Epoch: 35 [32000/40000 (80%)]\tLoss: 496.455017\n",
      "Train Epoch: 35 [35200/40000 (88%)]\tLoss: 391.153137\n",
      "Train Epoch: 35 [38400/40000 (96%)]\tLoss: 476.718933\n",
      "====> Epoch: 35 Average loss: 447.5122\n",
      "====> Test set epoch loss: 370.5207\n",
      "Train Epoch: 36 [0/40000 (0%)]\tLoss: 401.683319\n",
      "Train Epoch: 36 [3200/40000 (8%)]\tLoss: 391.601593\n",
      "Train Epoch: 36 [6400/40000 (16%)]\tLoss: 321.481720\n",
      "Train Epoch: 36 [9600/40000 (24%)]\tLoss: 445.689575\n",
      "Train Epoch: 36 [12800/40000 (32%)]\tLoss: 463.213074\n",
      "Train Epoch: 36 [16000/40000 (40%)]\tLoss: 505.657837\n",
      "Train Epoch: 36 [19200/40000 (48%)]\tLoss: 418.273682\n",
      "Train Epoch: 36 [22400/40000 (56%)]\tLoss: 427.923492\n",
      "Train Epoch: 36 [25600/40000 (64%)]\tLoss: 380.174103\n",
      "Train Epoch: 36 [28800/40000 (72%)]\tLoss: 323.194397\n",
      "Train Epoch: 36 [32000/40000 (80%)]\tLoss: 400.855652\n",
      "Train Epoch: 36 [35200/40000 (88%)]\tLoss: 398.104553\n",
      "Train Epoch: 36 [38400/40000 (96%)]\tLoss: 497.186005\n",
      "====> Epoch: 36 Average loss: 446.3820\n",
      "====> Test set epoch loss: 371.7583\n",
      "Train Epoch: 37 [0/40000 (0%)]\tLoss: 462.942627\n",
      "Train Epoch: 37 [3200/40000 (8%)]\tLoss: 373.618378\n",
      "Train Epoch: 37 [6400/40000 (16%)]\tLoss: 448.474243\n",
      "Train Epoch: 37 [9600/40000 (24%)]\tLoss: 468.109619\n",
      "Train Epoch: 37 [12800/40000 (32%)]\tLoss: 399.155334\n",
      "Train Epoch: 37 [16000/40000 (40%)]\tLoss: 479.382385\n",
      "Train Epoch: 37 [19200/40000 (48%)]\tLoss: 455.228638\n",
      "Train Epoch: 37 [22400/40000 (56%)]\tLoss: 451.119507\n",
      "Train Epoch: 37 [25600/40000 (64%)]\tLoss: 473.130432\n",
      "Train Epoch: 37 [28800/40000 (72%)]\tLoss: 491.878143\n",
      "Train Epoch: 37 [32000/40000 (80%)]\tLoss: 428.540070\n",
      "Train Epoch: 37 [35200/40000 (88%)]\tLoss: 512.140259\n",
      "Train Epoch: 37 [38400/40000 (96%)]\tLoss: 453.675079\n",
      "====> Epoch: 37 Average loss: 444.8887\n",
      "====> Test set epoch loss: 370.4901\n",
      "Train Epoch: 38 [0/40000 (0%)]\tLoss: 402.408539\n",
      "Train Epoch: 38 [3200/40000 (8%)]\tLoss: 406.069153\n",
      "Train Epoch: 38 [6400/40000 (16%)]\tLoss: 439.544037\n",
      "Train Epoch: 38 [9600/40000 (24%)]\tLoss: 392.296051\n",
      "Train Epoch: 38 [12800/40000 (32%)]\tLoss: 463.506805\n",
      "Train Epoch: 38 [16000/40000 (40%)]\tLoss: 454.260132\n",
      "Train Epoch: 38 [19200/40000 (48%)]\tLoss: 444.683899\n",
      "Train Epoch: 38 [22400/40000 (56%)]\tLoss: 420.569672\n",
      "Train Epoch: 38 [25600/40000 (64%)]\tLoss: 354.701660\n",
      "Train Epoch: 38 [28800/40000 (72%)]\tLoss: 460.513916\n",
      "Train Epoch: 38 [32000/40000 (80%)]\tLoss: 449.073334\n",
      "Train Epoch: 38 [35200/40000 (88%)]\tLoss: 369.531921\n",
      "Train Epoch: 38 [38400/40000 (96%)]\tLoss: 457.004456\n",
      "====> Epoch: 38 Average loss: 444.5309\n",
      "====> Test set epoch loss: 370.2279\n",
      "Train Epoch: 39 [0/40000 (0%)]\tLoss: 465.596344\n",
      "Train Epoch: 39 [3200/40000 (8%)]\tLoss: 390.261719\n",
      "Train Epoch: 39 [6400/40000 (16%)]\tLoss: 445.506012\n",
      "Train Epoch: 39 [9600/40000 (24%)]\tLoss: 520.375854\n",
      "Train Epoch: 39 [12800/40000 (32%)]\tLoss: 362.843353\n",
      "Train Epoch: 39 [16000/40000 (40%)]\tLoss: 406.477844\n",
      "Train Epoch: 39 [19200/40000 (48%)]\tLoss: 521.800964\n",
      "Train Epoch: 39 [22400/40000 (56%)]\tLoss: 412.972931\n",
      "Train Epoch: 39 [25600/40000 (64%)]\tLoss: 341.930328\n",
      "Train Epoch: 39 [28800/40000 (72%)]\tLoss: 418.815491\n",
      "Train Epoch: 39 [32000/40000 (80%)]\tLoss: 531.754211\n",
      "Train Epoch: 39 [35200/40000 (88%)]\tLoss: 388.920563\n",
      "Train Epoch: 39 [38400/40000 (96%)]\tLoss: 490.810028\n",
      "====> Epoch: 39 Average loss: 443.6410\n",
      "====> Test set epoch loss: 366.8871\n",
      "Test loss decreased (367.794834 --> 366.887088).  Saving model ...\n",
      "Train Epoch: 40 [0/40000 (0%)]\tLoss: 504.078918\n",
      "Train Epoch: 40 [3200/40000 (8%)]\tLoss: 435.775421\n",
      "Train Epoch: 40 [6400/40000 (16%)]\tLoss: 387.890076\n",
      "Train Epoch: 40 [9600/40000 (24%)]\tLoss: 548.218384\n",
      "Train Epoch: 40 [12800/40000 (32%)]\tLoss: 465.343353\n",
      "Train Epoch: 40 [16000/40000 (40%)]\tLoss: 475.534821\n",
      "Train Epoch: 40 [19200/40000 (48%)]\tLoss: 377.065704\n",
      "Train Epoch: 40 [22400/40000 (56%)]\tLoss: 542.150452\n",
      "Train Epoch: 40 [25600/40000 (64%)]\tLoss: 431.497192\n",
      "Train Epoch: 40 [28800/40000 (72%)]\tLoss: 425.466034\n",
      "Train Epoch: 40 [32000/40000 (80%)]\tLoss: 387.730377\n",
      "Train Epoch: 40 [35200/40000 (88%)]\tLoss: 414.610962\n",
      "Train Epoch: 40 [38400/40000 (96%)]\tLoss: 551.834351\n",
      "====> Epoch: 40 Average loss: 442.9272\n",
      "====> Test set epoch loss: 363.4300\n",
      "Test loss decreased (366.887088 --> 363.430017).  Saving model ...\n",
      "Train Epoch: 41 [0/40000 (0%)]\tLoss: 424.425934\n",
      "Train Epoch: 41 [3200/40000 (8%)]\tLoss: 447.898071\n",
      "Train Epoch: 41 [6400/40000 (16%)]\tLoss: 454.282410\n",
      "Train Epoch: 41 [9600/40000 (24%)]\tLoss: 474.649384\n",
      "Train Epoch: 41 [12800/40000 (32%)]\tLoss: 463.532593\n"
     ]
    },
    {
     "name": "stdout",
     "output_type": "stream",
     "text": [
      "Train Epoch: 41 [16000/40000 (40%)]\tLoss: 421.883209\n",
      "Train Epoch: 41 [19200/40000 (48%)]\tLoss: 440.561615\n",
      "Train Epoch: 41 [22400/40000 (56%)]\tLoss: 427.514160\n",
      "Train Epoch: 41 [25600/40000 (64%)]\tLoss: 415.721619\n",
      "Train Epoch: 41 [28800/40000 (72%)]\tLoss: 421.093445\n",
      "Train Epoch: 41 [32000/40000 (80%)]\tLoss: 526.953247\n",
      "Train Epoch: 41 [35200/40000 (88%)]\tLoss: 357.679688\n",
      "Train Epoch: 41 [38400/40000 (96%)]\tLoss: 432.452393\n",
      "====> Epoch: 41 Average loss: 441.2316\n",
      "====> Test set epoch loss: 362.8558\n",
      "Test loss decreased (363.430017 --> 362.855796).  Saving model ...\n",
      "Train Epoch: 42 [0/40000 (0%)]\tLoss: 410.922821\n",
      "Train Epoch: 42 [3200/40000 (8%)]\tLoss: 463.656097\n",
      "Train Epoch: 42 [6400/40000 (16%)]\tLoss: 408.537201\n",
      "Train Epoch: 42 [9600/40000 (24%)]\tLoss: 428.374146\n",
      "Train Epoch: 42 [12800/40000 (32%)]\tLoss: 429.166382\n",
      "Train Epoch: 42 [16000/40000 (40%)]\tLoss: 420.401855\n",
      "Train Epoch: 42 [19200/40000 (48%)]\tLoss: 461.832275\n",
      "Train Epoch: 42 [22400/40000 (56%)]\tLoss: 486.013306\n",
      "Train Epoch: 42 [25600/40000 (64%)]\tLoss: 509.922974\n",
      "Train Epoch: 42 [28800/40000 (72%)]\tLoss: 460.806091\n",
      "Train Epoch: 42 [32000/40000 (80%)]\tLoss: 397.331451\n",
      "Train Epoch: 42 [35200/40000 (88%)]\tLoss: 474.955383\n",
      "Train Epoch: 42 [38400/40000 (96%)]\tLoss: 454.271454\n",
      "====> Epoch: 42 Average loss: 439.5800\n",
      "====> Test set epoch loss: 360.4450\n",
      "Test loss decreased (362.855796 --> 360.445006).  Saving model ...\n",
      "Train Epoch: 43 [0/40000 (0%)]\tLoss: 392.323334\n",
      "Train Epoch: 43 [3200/40000 (8%)]\tLoss: 475.902863\n",
      "Train Epoch: 43 [6400/40000 (16%)]\tLoss: 457.474487\n",
      "Train Epoch: 43 [9600/40000 (24%)]\tLoss: 366.735718\n",
      "Train Epoch: 43 [12800/40000 (32%)]\tLoss: 405.220764\n",
      "Train Epoch: 43 [16000/40000 (40%)]\tLoss: 572.745117\n",
      "Train Epoch: 43 [19200/40000 (48%)]\tLoss: 452.704559\n",
      "Train Epoch: 43 [22400/40000 (56%)]\tLoss: 321.526947\n",
      "Train Epoch: 43 [25600/40000 (64%)]\tLoss: 476.346680\n",
      "Train Epoch: 43 [28800/40000 (72%)]\tLoss: 398.490936\n",
      "Train Epoch: 43 [32000/40000 (80%)]\tLoss: 501.924896\n",
      "Train Epoch: 43 [35200/40000 (88%)]\tLoss: 475.199249\n",
      "Train Epoch: 43 [38400/40000 (96%)]\tLoss: 457.440247\n",
      "====> Epoch: 43 Average loss: 438.7228\n",
      "====> Test set epoch loss: 364.2332\n",
      "Train Epoch: 44 [0/40000 (0%)]\tLoss: 390.408356\n",
      "Train Epoch: 44 [3200/40000 (8%)]\tLoss: 476.882019\n",
      "Train Epoch: 44 [6400/40000 (16%)]\tLoss: 408.336365\n",
      "Train Epoch: 44 [9600/40000 (24%)]\tLoss: 437.074066\n",
      "Train Epoch: 44 [12800/40000 (32%)]\tLoss: 415.827545\n",
      "Train Epoch: 44 [16000/40000 (40%)]\tLoss: 466.596069\n",
      "Train Epoch: 44 [19200/40000 (48%)]\tLoss: 485.599884\n",
      "Train Epoch: 44 [22400/40000 (56%)]\tLoss: 411.113129\n",
      "Train Epoch: 44 [25600/40000 (64%)]\tLoss: 375.489014\n",
      "Train Epoch: 44 [28800/40000 (72%)]\tLoss: 474.200317\n",
      "Train Epoch: 44 [32000/40000 (80%)]\tLoss: 479.176331\n",
      "Train Epoch: 44 [35200/40000 (88%)]\tLoss: 413.671234\n",
      "Train Epoch: 44 [38400/40000 (96%)]\tLoss: 500.216309\n",
      "====> Epoch: 44 Average loss: 437.8295\n",
      "====> Test set epoch loss: 365.3152\n",
      "Train Epoch: 45 [0/40000 (0%)]\tLoss: 380.192963\n",
      "Train Epoch: 45 [3200/40000 (8%)]\tLoss: 380.370483\n",
      "Train Epoch: 45 [6400/40000 (16%)]\tLoss: 370.301758\n",
      "Train Epoch: 45 [9600/40000 (24%)]\tLoss: 480.038147\n",
      "Train Epoch: 45 [12800/40000 (32%)]\tLoss: 557.293457\n",
      "Train Epoch: 45 [16000/40000 (40%)]\tLoss: 512.470947\n",
      "Train Epoch: 45 [19200/40000 (48%)]\tLoss: 460.007080\n",
      "Train Epoch: 45 [22400/40000 (56%)]\tLoss: 450.624146\n",
      "Train Epoch: 45 [25600/40000 (64%)]\tLoss: 384.653534\n",
      "Train Epoch: 45 [28800/40000 (72%)]\tLoss: 393.354767\n",
      "Train Epoch: 45 [32000/40000 (80%)]\tLoss: 394.725006\n",
      "Train Epoch: 45 [35200/40000 (88%)]\tLoss: 407.030151\n",
      "Train Epoch: 45 [38400/40000 (96%)]\tLoss: 420.154449\n",
      "====> Epoch: 45 Average loss: 436.5364\n",
      "====> Test set epoch loss: 363.2910\n",
      "Train Epoch: 46 [0/40000 (0%)]\tLoss: 470.187073\n",
      "Train Epoch: 46 [3200/40000 (8%)]\tLoss: 399.486755\n",
      "Train Epoch: 46 [6400/40000 (16%)]\tLoss: 518.129700\n",
      "Train Epoch: 46 [9600/40000 (24%)]\tLoss: 370.108063\n",
      "Train Epoch: 46 [12800/40000 (32%)]\tLoss: 471.040649\n",
      "Train Epoch: 46 [16000/40000 (40%)]\tLoss: 423.364227\n",
      "Train Epoch: 46 [19200/40000 (48%)]\tLoss: 417.731934\n",
      "Train Epoch: 46 [22400/40000 (56%)]\tLoss: 406.207214\n",
      "Train Epoch: 46 [25600/40000 (64%)]\tLoss: 391.086945\n",
      "Train Epoch: 46 [28800/40000 (72%)]\tLoss: 437.407562\n",
      "Train Epoch: 46 [32000/40000 (80%)]\tLoss: 379.691437\n",
      "Train Epoch: 46 [35200/40000 (88%)]\tLoss: 403.643890\n",
      "Train Epoch: 46 [38400/40000 (96%)]\tLoss: 480.802917\n",
      "====> Epoch: 46 Average loss: 438.0058\n",
      "====> Test set epoch loss: 358.7164\n",
      "Test loss decreased (360.445006 --> 358.716446).  Saving model ...\n",
      "Train Epoch: 47 [0/40000 (0%)]\tLoss: 386.310059\n",
      "Train Epoch: 47 [3200/40000 (8%)]\tLoss: 440.653198\n",
      "Train Epoch: 47 [6400/40000 (16%)]\tLoss: 342.720764\n",
      "Train Epoch: 47 [9600/40000 (24%)]\tLoss: 416.575012\n",
      "Train Epoch: 47 [12800/40000 (32%)]\tLoss: 426.825317\n",
      "Train Epoch: 47 [16000/40000 (40%)]\tLoss: 498.330933\n",
      "Train Epoch: 47 [19200/40000 (48%)]\tLoss: 410.050446\n",
      "Train Epoch: 47 [22400/40000 (56%)]\tLoss: 372.630554\n",
      "Train Epoch: 47 [25600/40000 (64%)]\tLoss: 478.042297\n",
      "Train Epoch: 47 [28800/40000 (72%)]\tLoss: 377.202118\n",
      "Train Epoch: 47 [32000/40000 (80%)]\tLoss: 387.947632\n",
      "Train Epoch: 47 [35200/40000 (88%)]\tLoss: 484.671509\n",
      "Train Epoch: 47 [38400/40000 (96%)]\tLoss: 437.678101\n",
      "====> Epoch: 47 Average loss: 435.5964\n",
      "====> Test set epoch loss: 357.4655\n",
      "Test loss decreased (358.716446 --> 357.465463).  Saving model ...\n",
      "Train Epoch: 48 [0/40000 (0%)]\tLoss: 331.354584\n",
      "Train Epoch: 48 [3200/40000 (8%)]\tLoss: 435.950623\n",
      "Train Epoch: 48 [6400/40000 (16%)]\tLoss: 455.578949\n",
      "Train Epoch: 48 [9600/40000 (24%)]\tLoss: 426.946777\n",
      "Train Epoch: 48 [12800/40000 (32%)]\tLoss: 356.979218\n",
      "Train Epoch: 48 [16000/40000 (40%)]\tLoss: 441.127563\n",
      "Train Epoch: 48 [19200/40000 (48%)]\tLoss: 406.519714\n",
      "Train Epoch: 48 [22400/40000 (56%)]\tLoss: 427.844482\n",
      "Train Epoch: 48 [25600/40000 (64%)]\tLoss: 460.094543\n",
      "Train Epoch: 48 [28800/40000 (72%)]\tLoss: 368.848938\n",
      "Train Epoch: 48 [32000/40000 (80%)]\tLoss: 457.403107\n",
      "Train Epoch: 48 [35200/40000 (88%)]\tLoss: 444.935760\n",
      "Train Epoch: 48 [38400/40000 (96%)]\tLoss: 406.685883\n",
      "====> Epoch: 48 Average loss: 434.7725\n",
      "====> Test set epoch loss: 355.4487\n",
      "Test loss decreased (357.465463 --> 355.448706).  Saving model ...\n",
      "Train Epoch: 49 [0/40000 (0%)]\tLoss: 450.224487\n",
      "Train Epoch: 49 [3200/40000 (8%)]\tLoss: 481.177216\n",
      "Train Epoch: 49 [6400/40000 (16%)]\tLoss: 456.632111\n",
      "Train Epoch: 49 [9600/40000 (24%)]\tLoss: 437.795990\n",
      "Train Epoch: 49 [12800/40000 (32%)]\tLoss: 424.781555\n",
      "Train Epoch: 49 [16000/40000 (40%)]\tLoss: 483.359375\n",
      "Train Epoch: 49 [19200/40000 (48%)]\tLoss: 415.212921\n",
      "Train Epoch: 49 [22400/40000 (56%)]\tLoss: 517.704346\n",
      "Train Epoch: 49 [25600/40000 (64%)]\tLoss: 444.703339\n",
      "Train Epoch: 49 [28800/40000 (72%)]\tLoss: 498.853912\n",
      "Train Epoch: 49 [32000/40000 (80%)]\tLoss: 480.144775\n",
      "Train Epoch: 49 [35200/40000 (88%)]\tLoss: 475.077148\n",
      "Train Epoch: 49 [38400/40000 (96%)]\tLoss: 428.032623\n",
      "====> Epoch: 49 Average loss: 434.2258\n",
      "====> Test set epoch loss: 365.4624\n",
      "Train Epoch: 50 [0/40000 (0%)]\tLoss: 387.308105\n",
      "Train Epoch: 50 [3200/40000 (8%)]\tLoss: 406.665405\n",
      "Train Epoch: 50 [6400/40000 (16%)]\tLoss: 427.829865\n",
      "Train Epoch: 50 [9600/40000 (24%)]\tLoss: 406.324219\n",
      "Train Epoch: 50 [12800/40000 (32%)]\tLoss: 542.356262\n",
      "Train Epoch: 50 [16000/40000 (40%)]\tLoss: 445.533752\n",
      "Train Epoch: 50 [19200/40000 (48%)]\tLoss: 400.446045\n",
      "Train Epoch: 50 [22400/40000 (56%)]\tLoss: 444.147736\n",
      "Train Epoch: 50 [25600/40000 (64%)]\tLoss: 427.054871\n",
      "Train Epoch: 50 [28800/40000 (72%)]\tLoss: 383.030945\n",
      "Train Epoch: 50 [32000/40000 (80%)]\tLoss: 506.306488\n",
      "Train Epoch: 50 [35200/40000 (88%)]\tLoss: 343.097504\n",
      "Train Epoch: 50 [38400/40000 (96%)]\tLoss: 436.194489\n",
      "====> Epoch: 50 Average loss: 433.6174\n",
      "====> Test set epoch loss: 358.8473\n"
     ]
    }
   ],
   "source": [
    "test_loss_min = np.Inf # set initial \"min\" to infinity\n",
    "\n",
    "for epoch in range(0, epochs + 1):\n",
    "    ################\n",
    "    # Train & Test #\n",
    "    ################\n",
    "    average_loss = train(epoch)\n",
    "    test_loss = test(epoch)\n",
    "\n",
    "    ################\n",
    "    # Save Model   #\n",
    "    ################\n",
    "    # save model if test-loss has decreased\n",
    "    if test_loss <= test_loss_min:\n",
    "        print('Test loss decreased ({:.6f} --> {:.6f}).  Saving model ...'.format(\n",
    "        test_loss_min,\n",
    "        test_loss))\n",
    "        torch.save(model.state_dict(), 'model.pt')\n",
    "        test_loss_min = test_loss\n",
    "\n",
    "    ###########################################\n",
    "    # Sample Latent Vector & Generate Samples #\n",
    "    ###########################################\n",
    "    # sample latent vector at the current epoch\n",
    "    with torch.no_grad():\n",
    "        # generate sample latent vector z\n",
    "        sample = torch.randn(32, 64).to(device)\n",
    "        # upsample\n",
    "        sample = model.sampler(sample)\n",
    "        # decode\n",
    "        sample = model.p_img(sample).cpu()\n",
    "        # save generated image\n",
    "        save_image(sample.view(32 , 3, 121, 121),\n",
    "                   'results/img_gen_sample_' + str(epoch) + '.png')"
   ]
  },
  {
   "cell_type": "markdown",
   "metadata": {
    "ExecuteTime": {
     "end_time": "2020-09-29T13:47:29.257385Z",
     "start_time": "2020-09-29T13:47:20.807217Z"
    }
   },
   "source": [
    "## Save Checkpoint"
   ]
  },
  {
   "cell_type": "code",
   "execution_count": 35,
   "metadata": {
    "ExecuteTime": {
     "end_time": "2020-09-30T16:28:17.751454Z",
     "start_time": "2020-09-30T16:28:17.748423Z"
    }
   },
   "outputs": [
    {
     "data": {
      "text/plain": [
       "51"
      ]
     },
     "execution_count": 35,
     "metadata": {},
     "output_type": "execute_result"
    }
   ],
   "source": [
    "len(test_losses)"
   ]
  },
  {
   "cell_type": "code",
   "execution_count": 33,
   "metadata": {
    "ExecuteTime": {
     "end_time": "2020-09-30T16:27:40.938111Z",
     "start_time": "2020-09-30T16:27:40.934843Z"
    },
    "scrolled": true
   },
   "outputs": [
    {
     "data": {
      "text/plain": [
       "358.84727184589093"
      ]
     },
     "execution_count": 33,
     "metadata": {},
     "output_type": "execute_result"
    }
   ],
   "source": [
    "test_loss"
   ]
  },
  {
   "cell_type": "code",
   "execution_count": 36,
   "metadata": {
    "ExecuteTime": {
     "end_time": "2020-09-30T16:28:30.181164Z",
     "start_time": "2020-09-30T16:28:30.178628Z"
    }
   },
   "outputs": [
    {
     "data": {
      "text/plain": [
       "355.4487058199369"
      ]
     },
     "execution_count": 36,
     "metadata": {},
     "output_type": "execute_result"
    }
   ],
   "source": [
    "test_loss_min"
   ]
  },
  {
   "cell_type": "markdown",
   "metadata": {},
   "source": [
    "__Save the model State__"
   ]
  },
  {
   "cell_type": "code",
   "execution_count": 43,
   "metadata": {
    "ExecuteTime": {
     "end_time": "2020-09-30T16:37:22.043790Z",
     "start_time": "2020-09-30T16:37:21.934897Z"
    }
   },
   "outputs": [],
   "source": [
    "model_state = {\n",
    "                'epoch': 50,\n",
    "                'state_dict': model.state_dict(),\n",
    "                'optimizer': optimizer.state_dict(),\n",
    "                'train_losses': train_losses,\n",
    "                'test_losses': test_losses,\n",
    "                'best_test_loss': test_loss_min\n",
    "              }\n",
    "\n",
    "# torch.save(model_state, os.path.join('checkpoints', 'experiment_vae.pth'))\n",
    "torch.save(model_state, 'checkpoints/experiment_vae.pth')"
   ]
  },
  {
   "cell_type": "code",
   "execution_count": null,
   "metadata": {},
   "outputs": [],
   "source": []
  }
 ],
 "metadata": {
  "kernelspec": {
   "display_name": "UncertaintyDNN",
   "language": "python",
   "name": "uncertaintydnn"
  },
  "language_info": {
   "codemirror_mode": {
    "name": "ipython",
    "version": 3
   },
   "file_extension": ".py",
   "mimetype": "text/x-python",
   "name": "python",
   "nbconvert_exporter": "python",
   "pygments_lexer": "ipython3",
   "version": "3.6.9"
  },
  "toc": {
   "base_numbering": 1,
   "nav_menu": {},
   "number_sections": true,
   "sideBar": true,
   "skip_h1_title": false,
   "title_cell": "Table of Contents",
   "title_sidebar": "Contents",
   "toc_cell": false,
   "toc_position": {},
   "toc_section_display": true,
   "toc_window_display": false
  }
 },
 "nbformat": 4,
 "nbformat_minor": 4
}
